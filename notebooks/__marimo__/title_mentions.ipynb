{
 "cells": [
  {
   "cell_type": "code",
   "execution_count": null,
   "id": "Hbol",
   "metadata": {},
   "outputs": [],
   "source": [
    "import marimo as mo\n",
    "from remarx.sandbox_utils import submit_prompt, get_text_response\n",
    "from remarx.notebook_utils import highlight_bracketed_text"
   ]
  },
  {
   "cell_type": "markdown",
   "id": "MJUe",
   "metadata": {},
   "source": [
    "# Notebook for exploring title mention prompts"
   ]
  },
  {
   "cell_type": "markdown",
   "id": "vblA",
   "metadata": {
    "marimo": {
     "config": {
      "hide_code": true
     }
    }
   },
   "source": [
    "Below is a sample page of text with several title mentions including _Das Kapital_ and _The Communist Manifesto_ with title mentions (with volume information) highlighted."
   ]
  },
  {
   "cell_type": "code",
   "execution_count": null,
   "id": "bkHC",
   "metadata": {
    "marimo": {
     "config": {
      "hide_code": true
     }
    }
   },
   "outputs": [],
   "source": [
    "# Note: pages may not have regular separations across files!\n",
    "sample_page = \"\"\"\n",
    "Rothkoller.\n",
    "ürst\n",
    "falls gar kein Gewicht darauf zu legen. Und nun gestattet ihnen Marx selbst\n",
    "— sie müssen offenbar sehr erstaunen, wenn sie die Stelle im „Kapital“ lesen,\n",
    "und sich im tiefsten Grunde ihres Herzens blamirt fühlen, daß sie bisher viel\n",
    "marxistischer waren, als Marx selbst, der offenbar auch nach 1848 noch einiges\n",
    "beobachtete und dachte — von diesem Parteidogma abzuweichen“, und so seiten¬\n",
    "lang weiter.\n",
    "Hören wir nun nach dem „alten“ Max auch den „jungen“ Marx über\n",
    "Kooperativfabriken der Arbeiter. In der Inauguraladresse der Internationalen\n",
    "Arbeiterassoziation heißt es: „Wir sprechen von der Kooperativbewegung, von den\n",
    "auf dem Prinzip der Kooperation beruhenden, durch wenige unverzagte, wenn auch\n",
    "\n",
    "\n",
    "ununterstützte Hände ins Leben gerufenen Fabriken. Der Werth dieser großen\n",
    "sozialen ixperimente kann nicht hoch genug veranschlagt werden. Durch die That,\n",
    "statt der Gründe, haben sie bewiesen, daß Produktion in großem Maßstabe und\n",
    "in Uebereinstimmung mit den Geboten der modernen Wissenschaft stattfinden kann\n",
    "ohne die Existenz einer Klasse von Unternehmern, die einer Klasse von Arbeitern\n",
    "zu thun giebt, daß die Arbeitsmittel, um Früchte zu tragen, nicht als Werkzeug\n",
    "der Herrschaft über und der Ausbeutung gegen den Arbeitenden selbst nonopoli¬\n",
    "sirt zu werden brauchen, und daß Lohnarbeit, wie Sklavenarbeit wie Leibeigen¬\n",
    "schaft, nur eine vorübergehende und untergeordnete Form ist, die dem Untergange\n",
    "geweiht, verschwinden muß vor der assoziirten Arbeit, die ihre schwere Aufgabe\n",
    "mit williger Hand, leichtem Sinn und fröhlichem Herzen erfüllt.\" So der „junge\n",
    "Maxx in einer weltbekannten Urkunde, die am Eingange der modernen inter¬\n",
    "nationalen Arbeiterbewegung steht, und da soll sich die deutsche Sozialdemokratie\n",
    "\n",
    "\n",
    "„im tiefsten Grunde ihres Herzens blamirt“ fühlen, wenn der „alte“ Marx im\n",
    "dritten Bande des „Kapital“ sich in gleichem Sinne ausspricht. Ach, Herr Platter!\n",
    "Mit dem viertel oder halben Dutzend „Widersprüche\", die Herr Platter\n",
    "sonst noch aus sozialdemokratischen Schriften herausklaubt, steht es ebenso, wie\n",
    "mit den beiden hier gegebenen Proben. Wir verzichten gern auf jede weitere\n",
    "rerzitiums, und gehen auf den Kern dessen ein, was\n",
    "Korrektur dieses Schüler\n",
    "Herr Platter eigentlich will. Er überschreibt den zweiten Hauptabschnitt seines\n",
    "Buches, der sich mit dem Sozialismus beschäftigt: Gewalt oder Arbeit? Das\n",
    "soll heißen: Marx und die deutsche Sozialdemokratie sind auf dem Holzwege,\n",
    "wenn sie politische Macht erobern wollen, um die bürgerliche Gesellschaft durch\n",
    "\n",
    "\n",
    "„Gewalt“ von oben her in die sozialistische Gesellschaft umzukrempeln; die Eman¬\n",
    "zipation der Arbeiterklasse ist nur möglich durch friedliche „Arbeit“ von unten\n",
    "auf, durch Gewerkvereine, Konsumgenossenschaften und Kooperativfabriken. Man\n",
    "merkt jetzt, weshalb Herr Platter aus allen möglichen Schriften von Marx, vom\n",
    "Kommunistischen manifest bis zum dritten Bande des „Kapital“, alle mög¬\n",
    "lichen Zitate herauschleppt, aber um die Literatur der Internationalen in weitem\n",
    "Bogen herumgeht. Auch nicht mit einem Sterbenswörtchen erfahren die Leser\n",
    "seines Buches, daß es eine solche Literatur giebt. Und doch müßte ein Mann\n",
    "der Wissenschaft, der über Marx als Praktiker und Taktiker der Arbeiterfrage\n",
    "sprechen will, in allererster Reihe auf die Literatur der Internationalen zurück¬\n",
    "gehen. Wir reden hier nicht von den Zeilenreißern der bürgerlichen Tages= und\n",
    "Wochenpresse, die es halten mögen, wie sie wollen, aber ein Professor der Staats¬\n",
    "wissenschaften, der den praktischen Arbeiterpolitiker Marx kritisiren will, der muß\n",
    "so viel Royalität und so viele Kenntnisse besitzen, um diesen Politiker da zu\n",
    "suchen, wo er zu finden ist. Selbstverständlich hat Herr Platter aber seine guten\n",
    "Gründe, sich anzustellen, als gebe es keine Literatur der Internationalen. Denn\n",
    "wenn er sich dieser Literatur auch nur auf Kanonenschußweite nähern würde, so\n",
    "\"\"\""
   ]
  },
  {
   "cell_type": "code",
   "execution_count": null,
   "id": "lEQa",
   "metadata": {
    "marimo": {
     "config": {
      "hide_code": true
     }
    }
   },
   "outputs": [
    {
     "data": {
      "text/html": [
       "<span class=\"markdown prose dark:prose-invert\"><span class=\"paragraph\">Rothkoller.\n",
       "ürst\n",
       "falls gar kein Gewicht darauf zu legen. Und nun gestattet ihnen Marx selbst\n",
       "— sie müssen offenbar sehr erstaunen, wenn sie die Stelle im <mark>„Kapital“</mark> lesen,\n",
       "und sich im tiefsten Grunde ihres Herzens blamirt fühlen, daß sie bisher viel\n",
       "marxistischer waren, als Marx selbst, der offenbar auch nach 1848 noch einiges\n",
       "beobachtete und dachte — von diesem Parteidogma abzuweichen“, und so seiten¬\n",
       "lang weiter.\n",
       "Hören wir nun nach dem „alten“ Max auch den „jungen“ Marx über\n",
       "Kooperativfabriken der Arbeiter. In der <mark>Inauguraladresse der Internationalen\n",
       "Arbeiterassoziation</mark> heißt es: „Wir sprechen von der Kooperativbewegung, von den\n",
       "auf dem Prinzip der Kooperation beruhenden, durch wenige unverzagte, wenn auch</span>\n",
       "<span class=\"paragraph\">ununterstützte Hände ins Leben gerufenen Fabriken. Der Werth dieser großen\n",
       "sozialen ixperimente kann nicht hoch genug veranschlagt werden. Durch die That,\n",
       "statt der Gründe, haben sie bewiesen, daß Produktion in großem Maßstabe und\n",
       "in Uebereinstimmung mit den Geboten der modernen Wissenschaft stattfinden kann\n",
       "ohne die Existenz einer Klasse von Unternehmern, die einer Klasse von Arbeitern\n",
       "zu thun giebt, daß die Arbeitsmittel, um Früchte zu tragen, nicht als Werkzeug\n",
       "der Herrschaft über und der Ausbeutung gegen den Arbeitenden selbst nonopoli¬\n",
       "sirt zu werden brauchen, und daß Lohnarbeit, wie Sklavenarbeit wie Leibeigen¬\n",
       "schaft, nur eine vorübergehende und untergeordnete Form ist, die dem Untergange\n",
       "geweiht, verschwinden muß vor der assoziirten Arbeit, die ihre schwere Aufgabe\n",
       "mit williger Hand, leichtem Sinn und fröhlichem Herzen erfüllt.\" So der „junge\n",
       "Maxx in einer weltbekannten Urkunde, die am Eingange der modernen inter¬\n",
       "nationalen Arbeiterbewegung steht, und da soll sich die deutsche Sozialdemokratie</span>\n",
       "<span class=\"paragraph\">„im tiefsten Grunde ihres Herzens blamirt“ fühlen, wenn der „alte“ Marx im\n",
       "<mark>dritten Bande des „Kapital“</mark> sich in gleichem Sinne ausspricht. Ach, Herr Platter!\n",
       "Mit dem viertel oder halben Dutzend „Widersprüche\", die Herr Platter\n",
       "sonst noch aus sozialdemokratischen Schriften herausklaubt, steht es ebenso, wie\n",
       "mit den beiden hier gegebenen Proben. Wir verzichten gern auf jede weitere\n",
       "rerzitiums, und gehen auf den Kern dessen ein, was\n",
       "Korrektur dieses Schüler\n",
       "Herr Platter eigentlich will. Er überschreibt den zweiten Hauptabschnitt seines\n",
       "Buches, der sich mit dem Sozialismus beschäftigt: Gewalt oder Arbeit? Das\n",
       "soll heißen: Marx und die deutsche Sozialdemokratie sind auf dem Holzwege,\n",
       "wenn sie politische Macht erobern wollen, um die bürgerliche Gesellschaft durch</span>\n",
       "<span class=\"paragraph\">„Gewalt“ von oben her in die sozialistische Gesellschaft umzukrempeln; die Eman¬\n",
       "zipation der Arbeiterklasse ist nur möglich durch friedliche „Arbeit“ von unten\n",
       "auf, durch Gewerkvereine, Konsumgenossenschaften und Kooperativfabriken. Man\n",
       "merkt jetzt, weshalb Herr Platter aus allen möglichen Schriften von Marx, vom\n",
       "<mark>Kommunistischen manifest</mark> bis zum <mark>dritten Bande des „Kapital“</mark>, alle mög¬\n",
       "lichen Zitate herauschleppt, aber um die Literatur der Internationalen in weitem\n",
       "Bogen herumgeht. Auch nicht mit einem Sterbenswörtchen erfahren die Leser\n",
       "seines Buches, daß es eine solche Literatur giebt. Und doch müßte ein Mann\n",
       "der Wissenschaft, der über Marx als Praktiker und Taktiker der Arbeiterfrage\n",
       "sprechen will, in allererster Reihe auf die Literatur der Internationalen zurück¬\n",
       "gehen. Wir reden hier nicht von den Zeilenreißern der bürgerlichen Tages= und\n",
       "Wochenpresse, die es halten mögen, wie sie wollen, aber ein Professor der Staats¬\n",
       "wissenschaften, der den praktischen Arbeiterpolitiker Marx kritisiren will, der muß\n",
       "so viel Royalität und so viele Kenntnisse besitzen, um diesen Politiker da zu\n",
       "suchen, wo er zu finden ist. Selbstverständlich hat Herr Platter aber seine guten\n",
       "Gründe, sich anzustellen, als gebe es keine Literatur der Internationalen. Denn\n",
       "wenn er sich dieser Literatur auch nur auf Kanonenschußweite nähern würde, so</span></span>"
      ]
     },
     "metadata": {},
     "output_type": "display_data"
    }
   ],
   "source": [
    "# For viewing \"expected\" annotations\n",
    "annotated_sample_page = \"\"\"\n",
    "Rothkoller.\n",
    "ürst\n",
    "falls gar kein Gewicht darauf zu legen. Und nun gestattet ihnen Marx selbst\n",
    "— sie müssen offenbar sehr erstaunen, wenn sie die Stelle im <mark>„Kapital“</mark> lesen,\n",
    "und sich im tiefsten Grunde ihres Herzens blamirt fühlen, daß sie bisher viel\n",
    "marxistischer waren, als Marx selbst, der offenbar auch nach 1848 noch einiges\n",
    "beobachtete und dachte — von diesem Parteidogma abzuweichen“, und so seiten¬\n",
    "lang weiter.\n",
    "Hören wir nun nach dem „alten“ Max auch den „jungen“ Marx über\n",
    "Kooperativfabriken der Arbeiter. In der <mark>Inauguraladresse der Internationalen\n",
    "Arbeiterassoziation</mark> heißt es: „Wir sprechen von der Kooperativbewegung, von den\n",
    "auf dem Prinzip der Kooperation beruhenden, durch wenige unverzagte, wenn auch\n",
    "\n",
    "\n",
    "ununterstützte Hände ins Leben gerufenen Fabriken. Der Werth dieser großen\n",
    "sozialen ixperimente kann nicht hoch genug veranschlagt werden. Durch die That,\n",
    "statt der Gründe, haben sie bewiesen, daß Produktion in großem Maßstabe und\n",
    "in Uebereinstimmung mit den Geboten der modernen Wissenschaft stattfinden kann\n",
    "ohne die Existenz einer Klasse von Unternehmern, die einer Klasse von Arbeitern\n",
    "zu thun giebt, daß die Arbeitsmittel, um Früchte zu tragen, nicht als Werkzeug\n",
    "der Herrschaft über und der Ausbeutung gegen den Arbeitenden selbst nonopoli¬\n",
    "sirt zu werden brauchen, und daß Lohnarbeit, wie Sklavenarbeit wie Leibeigen¬\n",
    "schaft, nur eine vorübergehende und untergeordnete Form ist, die dem Untergange\n",
    "geweiht, verschwinden muß vor der assoziirten Arbeit, die ihre schwere Aufgabe\n",
    "mit williger Hand, leichtem Sinn und fröhlichem Herzen erfüllt.\" So der „junge\n",
    "Maxx in einer weltbekannten Urkunde, die am Eingange der modernen inter¬\n",
    "nationalen Arbeiterbewegung steht, und da soll sich die deutsche Sozialdemokratie\n",
    "\n",
    "\n",
    "„im tiefsten Grunde ihres Herzens blamirt“ fühlen, wenn der „alte“ Marx im\n",
    "<mark>dritten Bande des „Kapital“</mark> sich in gleichem Sinne ausspricht. Ach, Herr Platter!\n",
    "Mit dem viertel oder halben Dutzend „Widersprüche\", die Herr Platter\n",
    "sonst noch aus sozialdemokratischen Schriften herausklaubt, steht es ebenso, wie\n",
    "mit den beiden hier gegebenen Proben. Wir verzichten gern auf jede weitere\n",
    "rerzitiums, und gehen auf den Kern dessen ein, was\n",
    "Korrektur dieses Schüler\n",
    "Herr Platter eigentlich will. Er überschreibt den zweiten Hauptabschnitt seines\n",
    "Buches, der sich mit dem Sozialismus beschäftigt: Gewalt oder Arbeit? Das\n",
    "soll heißen: Marx und die deutsche Sozialdemokratie sind auf dem Holzwege,\n",
    "wenn sie politische Macht erobern wollen, um die bürgerliche Gesellschaft durch\n",
    "\n",
    "\n",
    "„Gewalt“ von oben her in die sozialistische Gesellschaft umzukrempeln; die Eman¬\n",
    "zipation der Arbeiterklasse ist nur möglich durch friedliche „Arbeit“ von unten\n",
    "auf, durch Gewerkvereine, Konsumgenossenschaften und Kooperativfabriken. Man\n",
    "merkt jetzt, weshalb Herr Platter aus allen möglichen Schriften von Marx, vom\n",
    "<mark>Kommunistischen manifest</mark> bis zum <mark>dritten Bande des „Kapital“</mark>, alle mög¬\n",
    "lichen Zitate herauschleppt, aber um die Literatur der Internationalen in weitem\n",
    "Bogen herumgeht. Auch nicht mit einem Sterbenswörtchen erfahren die Leser\n",
    "seines Buches, daß es eine solche Literatur giebt. Und doch müßte ein Mann\n",
    "der Wissenschaft, der über Marx als Praktiker und Taktiker der Arbeiterfrage\n",
    "sprechen will, in allererster Reihe auf die Literatur der Internationalen zurück¬\n",
    "gehen. Wir reden hier nicht von den Zeilenreißern der bürgerlichen Tages= und\n",
    "Wochenpresse, die es halten mögen, wie sie wollen, aber ein Professor der Staats¬\n",
    "wissenschaften, der den praktischen Arbeiterpolitiker Marx kritisiren will, der muß\n",
    "so viel Royalität und so viele Kenntnisse besitzen, um diesen Politiker da zu\n",
    "suchen, wo er zu finden ist. Selbstverständlich hat Herr Platter aber seine guten\n",
    "Gründe, sich anzustellen, als gebe es keine Literatur der Internationalen. Denn\n",
    "wenn er sich dieser Literatur auch nur auf Kanonenschußweite nähern würde, so\n",
    "\"\"\"\n",
    "mo.md(annotated_sample_page)"
   ]
  },
  {
   "cell_type": "markdown",
   "id": "PKri",
   "metadata": {},
   "source": [
    "## Basic Prompt (zero-shot)\n",
    "Note querying with the full page of text is fairly slow."
   ]
  },
  {
   "cell_type": "code",
   "execution_count": null,
   "id": "Xref",
   "metadata": {},
   "outputs": [
    {
     "name": "stdout",
     "output_type": "stream",
     "text": [
      "# Identity\n",
      "You are a research assistant familiar with Marxist scholarship and fluent in German and English.\n",
      "You help researchers identify direct title references of texts written by Karl Marx within a given passage.\n",
      "\n",
      "# Instructions\n",
      "* Copy the text of the passage exactly.\n",
      "* Annotate each title reference with square brackets.\n",
      "\n"
     ]
    }
   ],
   "source": [
    "# load prompt\n",
    "with open(\"prompts/title_mentions/basic.txt\") as f0:\n",
    "    basic_prompt = f0.read()\n",
    "print(basic_prompt)"
   ]
  },
  {
   "cell_type": "code",
   "execution_count": null,
   "id": "SFPL",
   "metadata": {},
   "outputs": [],
   "source": [
    "# get response\n",
    "basic_response = submit_prompt(\n",
    "    task_prompt=basic_prompt, user_prompt=sample_page\n",
    ")"
   ]
  },
  {
   "cell_type": "code",
   "execution_count": null,
   "id": "BYtC",
   "metadata": {},
   "outputs": [
    {
     "name": "stdout",
     "output_type": "stream",
     "text": [
      "ChatCompletion(id='chatcmpl-BPB9GcUmWrtUEQcFGznvSqLxMkgx2', choices=[Choice(finish_reason='stop', index=0, logprobs=None, message=ChatCompletionMessage(content='Rothkoller.\\nürst\\nfalls gar kein Gewicht darauf zu legen. Und nun gestattet ihnen Marx selbst\\n— sie müssen offenbar sehr erstaunen, wenn sie die Stelle im [„Kapital“] lesen,\\nund sich im tiefsten Grunde ihres Herzens blamirt fühlen, daß sie bisher viel\\nmarxistischer waren, als Marx selbst, der offenbar auch nach 1848 noch einiges\\nbeobachtete und dachte — von diesem Parteidogma abzuweichen“, und so seiten¬\\nlang weiter.\\nHören wir nun nach dem „alten“ Max auch den „jungen“ Marx über\\nKooperativfabriken der Arbeiter. In der Inauguraladresse der Internationalen\\nArbeiterassoziation heißt es: „Wir sprechen von der Kooperativbewegung, von den\\nauf dem Prinzip der Kooperation beruhenden, durch wenige unverzagte, wenn auch\\n\\nununterstützte Hände ins Leben gerufenen Fabriken. Der Werth dieser großen\\nsozialen ixperimente kann nicht hoch genug veranschlagt werden. Durch die That,\\nstatt der Gründe, haben sie bewiesen, daß Produktion in großem Maßstabe und\\nin Uebereinstimmung mit den Geboten der modernen Wissenschaft stattfinden kann\\nohne die Existenz einer Klasse von Unternehmern, die einer Klasse von Arbeitern\\nzu thun giebt, daß die Arbeitsmittel, um Früchte zu tragen, nicht als Werkzeug\\nder Herrschaft über und der Ausbeutung gegen den Arbeitenden selbst nonopoli¬\\nsirt zu werden brauchen, und daß Lohnarbeit, wie Sklavenarbeit wie Leibeigen¬\\nschaft, nur eine vorübergehende und untergeordnete Form ist, die dem Untergange\\ngeweiht, verschwinden muß vor der assoziirten Arbeit, die ihre schwere Aufgabe\\nmit williger Hand, leichtem Sinn und fröhlichem Herzen erfüllt.\" So der „junge\\nMaxx in einer weltbekannten Urkunde, die am Eingange der modernen inter¬\\nnationalen Arbeiterbewegung steht, und da soll sich die deutsche Sozialdemokratie\\n\\n„im tiefsten Grunde ihres Herzens blamirt“ fühlen, wenn der „alte“ Marx im\\ndritten Bande des [„Kapital“] sich in gleichem Sinne ausspricht. Ach, Herr Platter!\\nMit dem viertel oder halben Dutzend „Widersprüche\", die Herr Platter\\nsonst noch aus sozialdemokratischen Schriften herausklaubt, steht es ebenso, wie\\nmit den beiden hier gegebenen Proben. Wir verzichten gern auf jede weitere\\nrerzitiums, und gehen auf den Kern dessen ein, was\\nKorrektur dieses Schüler\\nHerr Platter eigentlich will. Er überschreibt den zweiten Hauptabschnitt seines\\nBuches, der sich mit dem Sozialismus beschäftigt: Gewalt oder Arbeit? Das\\nsoll heißen: Marx und die deutsche Sozialdemokratie sind auf dem Holzwege,\\nwenn sie politische Macht erobern wollen, um die bürgerliche Gesellschaft durch\\n\\n„Gewalt“ von oben her in die sozialistische Gesellschaft umzukrempeln; die Eman¬\\nzipation der Arbeiterklasse ist nur möglich durch friedliche „Arbeit“ von unten\\nauf, durch Gewerkvereine, Konsumgenossenschaften und Kooperativfabriken. Man\\nmerkt jetzt, weshalb Herr Platter aus allen möglichen Schriften von Marx, vom\\n[Kommunistischen Manifest] bis zum dritten Bande des [„Kapital“], alle mög¬\\nlichen Zitate herauschleppt, aber um die Literatur der Internationalen in weitem\\nBogen herumgeht. Auch nicht mit einem Sterbenswörtchen erfahren die Leser\\nseines Buches, daß es eine solche Literatur giebt. Und doch müßte ein Mann\\nder Wissenschaft, der über Marx als Praktiker und Taktiker der Arbeiterfrage\\nsprechen will, in allererster Reihe auf die Literatur der Internationalen zurück¬\\ngehen. Wir reden hier nicht von den Zeilenreißern der bürgerlichen Tages= und\\nWochenpresse, die es halten mögen, wie sie wollen, aber ein Professor der Staats¬\\nwissenschaften, der den praktischen Arbeiterpolitiker Marx kritisiren will, der muß\\nso viel Royalität und so viele Kenntnisse besitzen, um diesen Politiker da zu\\nsuchen, wo er zu finden ist. Selbstverständlich hat Herr Platter aber seine guten\\nGründe, sich anzustellen, als gebe es keine Literatur der Internationalen. Denn\\nwenn er sich dieser Literatur auch nur auf Kanonenschußweite nähern würde, so', refusal=None, role='assistant', annotations=None, audio=None, function_call=None, tool_calls=None), content_filter_results={'hate': {'filtered': False, 'severity': 'safe'}, 'self_harm': {'filtered': False, 'severity': 'safe'}, 'sexual': {'filtered': False, 'severity': 'safe'}, 'violence': {'filtered': False, 'severity': 'safe'}})], created=1745340754, model='gpt-4o-2024-05-13', object='chat.completion', service_tier=None, system_fingerprint='fp_ee1d74bde0', usage=CompletionUsage(completion_tokens=967, prompt_tokens=1031, total_tokens=1998, completion_tokens_details=CompletionTokensDetails(accepted_prediction_tokens=0, audio_tokens=0, reasoning_tokens=0, rejected_prediction_tokens=0), prompt_tokens_details=PromptTokensDetails(audio_tokens=0, cached_tokens=0)), prompt_filter_results=[{'prompt_index': 0, 'content_filter_results': {'hate': {'filtered': False, 'severity': 'safe'}, 'self_harm': {'filtered': False, 'severity': 'safe'}, 'sexual': {'filtered': False, 'severity': 'safe'}, 'violence': {'filtered': False, 'severity': 'safe'}}}])\n",
      "\n",
      "Rothkoller.\n",
      "ürst\n",
      "falls gar kein Gewicht darauf zu legen. Und nun gestattet ihnen Marx selbst\n",
      "— sie müssen offenbar sehr erstaunen, wenn sie die Stelle im [„Kapital“] lesen,\n",
      "und sich im tiefsten Grunde ihres Herzens blamirt fühlen, daß sie bisher viel\n",
      "marxistischer waren, als Marx selbst, der offenbar auch nach 1848 noch einiges\n",
      "beobachtete und dachte — von diesem Parteidogma abzuweichen“, und so seiten¬\n",
      "lang weiter.\n",
      "Hören wir nun nach dem „alten“ Max auch den „jungen“ Marx über\n",
      "Kooperativfabriken der Arbeiter. In der Inauguraladresse der Internationalen\n",
      "Arbeiterassoziation heißt es: „Wir sprechen von der Kooperativbewegung, von den\n",
      "auf dem Prinzip der Kooperation beruhenden, durch wenige unverzagte, wenn auch\n",
      "\n",
      "ununterstützte Hände ins Leben gerufenen Fabriken. Der Werth dieser großen\n",
      "sozialen ixperimente kann nicht hoch genug veranschlagt werden. Durch die That,\n",
      "statt der Gründe, haben sie bewiesen, daß Produktion in großem Maßstabe und\n",
      "in Uebereinstimmung mit den Geboten der modernen Wissenschaft stattfinden kann\n",
      "ohne die Existenz einer Klasse von Unternehmern, die einer Klasse von Arbeitern\n",
      "zu thun giebt, daß die Arbeitsmittel, um Früchte zu tragen, nicht als Werkzeug\n",
      "der Herrschaft über und der Ausbeutung gegen den Arbeitenden selbst nonopoli¬\n",
      "sirt zu werden brauchen, und daß Lohnarbeit, wie Sklavenarbeit wie Leibeigen¬\n",
      "schaft, nur eine vorübergehende und untergeordnete Form ist, die dem Untergange\n",
      "geweiht, verschwinden muß vor der assoziirten Arbeit, die ihre schwere Aufgabe\n",
      "mit williger Hand, leichtem Sinn und fröhlichem Herzen erfüllt.\" So der „junge\n",
      "Maxx in einer weltbekannten Urkunde, die am Eingange der modernen inter¬\n",
      "nationalen Arbeiterbewegung steht, und da soll sich die deutsche Sozialdemokratie\n",
      "\n",
      "„im tiefsten Grunde ihres Herzens blamirt“ fühlen, wenn der „alte“ Marx im\n",
      "dritten Bande des [„Kapital“] sich in gleichem Sinne ausspricht. Ach, Herr Platter!\n",
      "Mit dem viertel oder halben Dutzend „Widersprüche\", die Herr Platter\n",
      "sonst noch aus sozialdemokratischen Schriften herausklaubt, steht es ebenso, wie\n",
      "mit den beiden hier gegebenen Proben. Wir verzichten gern auf jede weitere\n",
      "rerzitiums, und gehen auf den Kern dessen ein, was\n",
      "Korrektur dieses Schüler\n",
      "Herr Platter eigentlich will. Er überschreibt den zweiten Hauptabschnitt seines\n",
      "Buches, der sich mit dem Sozialismus beschäftigt: Gewalt oder Arbeit? Das\n",
      "soll heißen: Marx und die deutsche Sozialdemokratie sind auf dem Holzwege,\n",
      "wenn sie politische Macht erobern wollen, um die bürgerliche Gesellschaft durch\n",
      "\n",
      "„Gewalt“ von oben her in die sozialistische Gesellschaft umzukrempeln; die Eman¬\n",
      "zipation der Arbeiterklasse ist nur möglich durch friedliche „Arbeit“ von unten\n",
      "auf, durch Gewerkvereine, Konsumgenossenschaften und Kooperativfabriken. Man\n",
      "merkt jetzt, weshalb Herr Platter aus allen möglichen Schriften von Marx, vom\n",
      "[Kommunistischen Manifest] bis zum dritten Bande des [„Kapital“], alle mög¬\n",
      "lichen Zitate herauschleppt, aber um die Literatur der Internationalen in weitem\n",
      "Bogen herumgeht. Auch nicht mit einem Sterbenswörtchen erfahren die Leser\n",
      "seines Buches, daß es eine solche Literatur giebt. Und doch müßte ein Mann\n",
      "der Wissenschaft, der über Marx als Praktiker und Taktiker der Arbeiterfrage\n",
      "sprechen will, in allererster Reihe auf die Literatur der Internationalen zurück¬\n",
      "gehen. Wir reden hier nicht von den Zeilenreißern der bürgerlichen Tages= und\n",
      "Wochenpresse, die es halten mögen, wie sie wollen, aber ein Professor der Staats¬\n",
      "wissenschaften, der den praktischen Arbeiterpolitiker Marx kritisiren will, der muß\n",
      "so viel Royalität und so viele Kenntnisse besitzen, um diesen Politiker da zu\n",
      "suchen, wo er zu finden ist. Selbstverständlich hat Herr Platter aber seine guten\n",
      "Gründe, sich anzustellen, als gebe es keine Literatur der Internationalen. Denn\n",
      "wenn er sich dieser Literatur auch nur auf Kanonenschußweite nähern würde, so\n"
     ]
    }
   ],
   "source": [
    "print(basic_response)\n",
    "print()\n",
    "print(basic_response.choices[0].message.content)"
   ]
  },
  {
   "cell_type": "code",
   "execution_count": null,
   "id": "RGSE",
   "metadata": {},
   "outputs": [
    {
     "data": {
      "text/html": [
       "<span class=\"markdown prose dark:prose-invert\"><span class=\"paragraph\">Rothkoller.\n",
       "ürst\n",
       "falls gar kein Gewicht darauf zu legen. Und nun gestattet ihnen Marx selbst\n",
       "— sie müssen offenbar sehr erstaunen, wenn sie die Stelle im <mark>„Kapital“</mark> lesen,\n",
       "und sich im tiefsten Grunde ihres Herzens blamirt fühlen, daß sie bisher viel\n",
       "marxistischer waren, als Marx selbst, der offenbar auch nach 1848 noch einiges\n",
       "beobachtete und dachte — von diesem Parteidogma abzuweichen“, und so seiten¬\n",
       "lang weiter.\n",
       "Hören wir nun nach dem „alten“ Max auch den „jungen“ Marx über\n",
       "Kooperativfabriken der Arbeiter. In der Inauguraladresse der Internationalen\n",
       "Arbeiterassoziation heißt es: „Wir sprechen von der Kooperativbewegung, von den\n",
       "auf dem Prinzip der Kooperation beruhenden, durch wenige unverzagte, wenn auch</span>\n",
       "<span class=\"paragraph\">ununterstützte Hände ins Leben gerufenen Fabriken. Der Werth dieser großen\n",
       "sozialen ixperimente kann nicht hoch genug veranschlagt werden. Durch die That,\n",
       "statt der Gründe, haben sie bewiesen, daß Produktion in großem Maßstabe und\n",
       "in Uebereinstimmung mit den Geboten der modernen Wissenschaft stattfinden kann\n",
       "ohne die Existenz einer Klasse von Unternehmern, die einer Klasse von Arbeitern\n",
       "zu thun giebt, daß die Arbeitsmittel, um Früchte zu tragen, nicht als Werkzeug\n",
       "der Herrschaft über und der Ausbeutung gegen den Arbeitenden selbst nonopoli¬\n",
       "sirt zu werden brauchen, und daß Lohnarbeit, wie Sklavenarbeit wie Leibeigen¬\n",
       "schaft, nur eine vorübergehende und untergeordnete Form ist, die dem Untergange\n",
       "geweiht, verschwinden muß vor der assoziirten Arbeit, die ihre schwere Aufgabe\n",
       "mit williger Hand, leichtem Sinn und fröhlichem Herzen erfüllt.\" So der „junge\n",
       "Maxx in einer weltbekannten Urkunde, die am Eingange der modernen inter¬\n",
       "nationalen Arbeiterbewegung steht, und da soll sich die deutsche Sozialdemokratie</span>\n",
       "<span class=\"paragraph\">„im tiefsten Grunde ihres Herzens blamirt“ fühlen, wenn der „alte“ Marx im\n",
       "dritten Bande des <mark>„Kapital“</mark> sich in gleichem Sinne ausspricht. Ach, Herr Platter!\n",
       "Mit dem viertel oder halben Dutzend „Widersprüche\", die Herr Platter\n",
       "sonst noch aus sozialdemokratischen Schriften herausklaubt, steht es ebenso, wie\n",
       "mit den beiden hier gegebenen Proben. Wir verzichten gern auf jede weitere\n",
       "rerzitiums, und gehen auf den Kern dessen ein, was\n",
       "Korrektur dieses Schüler\n",
       "Herr Platter eigentlich will. Er überschreibt den zweiten Hauptabschnitt seines\n",
       "Buches, der sich mit dem Sozialismus beschäftigt: Gewalt oder Arbeit? Das\n",
       "soll heißen: Marx und die deutsche Sozialdemokratie sind auf dem Holzwege,\n",
       "wenn sie politische Macht erobern wollen, um die bürgerliche Gesellschaft durch</span>\n",
       "<span class=\"paragraph\">„Gewalt“ von oben her in die sozialistische Gesellschaft umzukrempeln; die Eman¬\n",
       "zipation der Arbeiterklasse ist nur möglich durch friedliche „Arbeit“ von unten\n",
       "auf, durch Gewerkvereine, Konsumgenossenschaften und Kooperativfabriken. Man\n",
       "merkt jetzt, weshalb Herr Platter aus allen möglichen Schriften von Marx, vom\n",
       "<mark>Kommunistischen Manifest</mark> bis zum dritten Bande des <mark>„Kapital“</mark>, alle mög¬\n",
       "lichen Zitate herauschleppt, aber um die Literatur der Internationalen in weitem\n",
       "Bogen herumgeht. Auch nicht mit einem Sterbenswörtchen erfahren die Leser\n",
       "seines Buches, daß es eine solche Literatur giebt. Und doch müßte ein Mann\n",
       "der Wissenschaft, der über Marx als Praktiker und Taktiker der Arbeiterfrage\n",
       "sprechen will, in allererster Reihe auf die Literatur der Internationalen zurück¬\n",
       "gehen. Wir reden hier nicht von den Zeilenreißern der bürgerlichen Tages= und\n",
       "Wochenpresse, die es halten mögen, wie sie wollen, aber ein Professor der Staats¬\n",
       "wissenschaften, der den praktischen Arbeiterpolitiker Marx kritisiren will, der muß\n",
       "so viel Royalität und so viele Kenntnisse besitzen, um diesen Politiker da zu\n",
       "suchen, wo er zu finden ist. Selbstverständlich hat Herr Platter aber seine guten\n",
       "Gründe, sich anzustellen, als gebe es keine Literatur der Internationalen. Denn\n",
       "wenn er sich dieser Literatur auch nur auf Kanonenschußweite nähern würde, so</span></span>"
      ]
     },
     "metadata": {},
     "output_type": "display_data"
    }
   ],
   "source": [
    "highlight_bracketed_text(get_text_response(basic_response))"
   ]
  },
  {
   "cell_type": "markdown",
   "id": "Kclp",
   "metadata": {},
   "source": [
    "## One-shot Prompt\n",
    "Trying adding an example to the prompt taken from a different volume than the sample page."
   ]
  },
  {
   "cell_type": "code",
   "execution_count": null,
   "id": "emfo",
   "metadata": {},
   "outputs": [
    {
     "name": "stdout",
     "output_type": "stream",
     "text": [
      "# Identity\n",
      "You are a research assistant familiar with Marxist scholarship and fluent in German and English.\n",
      "You help researchers identify direct title references of texts written by Karl Marx within a given passage.\n",
      "\n",
      "# Instructions\n",
      "* Copy the text of the passage exactly.\n",
      "* Annotate each title reference with square brackets.\n",
      "\n",
      "# Example\n",
      "\n",
      "<user_query>\n",
      "So wurde das \"Kapital\" uns er¬ völlig erschlossen durch die Polemik gegen\n",
      "Dühring und die Neuveröffentlichung der fast verschollenen Polemik gegen\n",
      "Proudhon. Die Anschauungen des \"Kom¬ munistischen Manifests\" und des \"Kapital\"\n",
      "sind jetzt in der sozialistischen Be¬ wegung allenthalben anerkannt, aber die\n",
      "alte utopistische Denkweise ist zu nahe¬ liegend und zu mächtig, als daß sie\n",
      "nicht immer wieder sich unbewußt geltend, machte.\n",
      "</user_query>\n",
      "\n",
      "<assistant_response>\n",
      "So wurde das [\"Kapital\"] uns er¬ völlig erschlossen durch die Polemik gegen\n",
      "Dühring und die Neuveröffentlichung der fast verschollenen Polemik gegen\n",
      "Proudhon. Die Anschauungen des [\"Kom¬ munistischen Manifests\"] und des [\"Kapital\"]\n",
      "sind jetzt in der sozialistischen Be¬ wegung allenthalben anerkannt, aber die\n",
      "alte utopistische Denkweise ist zu nahe¬ liegend und zu mächtig, als daß sie\n",
      "nicht immer wieder sich unbewußt geltend, machte.\n",
      "</assistant_response>\n",
      "\n"
     ]
    }
   ],
   "source": [
    "# load prompt\n",
    "with open(\"prompts/title_mentions/one_shot.txt\") as f1:\n",
    "    one_shot_prompt = f1.read()\n",
    "print(one_shot_prompt)"
   ]
  },
  {
   "cell_type": "code",
   "execution_count": null,
   "id": "Hstk",
   "metadata": {},
   "outputs": [],
   "source": [
    "# get response\n",
    "one_shot_response = submit_prompt(\n",
    "    task_prompt=one_shot_prompt, user_prompt=sample_page\n",
    ")"
   ]
  },
  {
   "cell_type": "code",
   "execution_count": null,
   "id": "nWHF",
   "metadata": {},
   "outputs": [
    {
     "name": "stdout",
     "output_type": "stream",
     "text": [
      "ChatCompletion(id='chatcmpl-BPB9oHgArC3mSuCJMsgNXD03PT80u', choices=[Choice(finish_reason='stop', index=0, logprobs=None, message=ChatCompletionMessage(content='Rothkoller.\\nürst\\nfalls gar kein Gewicht darauf zu legen. Und nun gestattet ihnen Marx selbst\\n— sie müssen offenbar sehr erstaunen, wenn sie die Stelle im [\"Kapital\"] lesen,\\nund sich im tiefsten Grunde ihres Herzens blamirt fühlen, daß sie bisher viel\\nmarxistischer waren, als Marx selbst, der offenbar auch nach 1848 noch einiges\\nbeobachtete und dachte — von diesem Parteidogma abzuweichen“, und so seiten¬\\nlang weiter.\\nHören wir nun nach dem „alten“ Max auch den „jungen“ Marx über\\nKooperativfabriken der Arbeiter. In der Inauguraladresse der Internationalen\\nArbeiterassoziation heißt es: „Wir sprechen von der Kooperativbewegung, von den\\nauf dem Prinzip der Kooperation beruhenden, durch wenige unverzagte, wenn auch\\n\\nununterstützte Hände ins Leben gerufenen Fabriken. Der Werth dieser großen\\nsozialen ixperimente kann nicht hoch genug veranschlagt werden. Durch die That,\\nstatt der Gründe, haben sie bewiesen, daß Produktion in großem Maßstabe und\\nin Uebereinstimmung mit den Geboten der modernen Wissenschaft stattfinden kann\\nohne die Existenz einer Klasse von Unternehmern, die einer Klasse von Arbeitern\\nzu thun giebt, daß die Arbeitsmittel, um Früchte zu tragen, nicht als Werkzeug\\nder Herrschaft über und der Ausbeutung gegen den Arbeitenden selbst nonopoli¬\\nsirt zu werden brauchen, und daß Lohnarbeit, wie Sklavenarbeit wie Leibeigen¬\\nschaft, nur eine vorübergehende und untergeordnete Form ist, die dem Untergange\\ngeweiht, verschwinden muß vor der assoziirten Arbeit, die ihre schwere Aufgabe\\nmit williger Hand, leichtem Sinn und fröhlichem Herzen erfüllt.\" So der „junge\\nMaxx in einer weltbekannten Urkunde, die am Eingange der modernen inter¬\\nnationalen Arbeiterbewegung steht, und da soll sich die deutsche Sozialdemokratie\\n\\n„im tiefsten Grunde ihres Herzens blamirt“ fühlen, wenn der „alte“ Marx im\\ndritten Bande des [\"Kapital\"] sich in gleichem Sinne ausspricht. Ach, Herr Platter!\\nMit dem viertel oder halben Dutzend „Widersprüche\", die Herr Platter\\nsonst noch aus sozialdemokratischen Schriften herausklaubt, steht es ebenso, wie\\nmit den beiden hier gegebenen Proben. Wir verzichten gern auf jede weitere\\nrerzitiums, und gehen auf den Kern dessen ein, was\\nKorrektur dieses Schüler\\nHerr Platter eigentlich will. Er überschreibt den zweiten Hauptabschnitt seines\\nBuches, der sich mit dem Sozialismus beschäftigt: Gewalt oder Arbeit? Das\\nsoll heißen: Marx und die deutsche Sozialdemokratie sind auf dem Holzwege,\\nwenn sie politische Macht erobern wollen, um die bürgerliche Gesellschaft durch\\n\\n„Gewalt“ von oben her in die sozialistische Gesellschaft umzukrempeln; die Eman¬\\nzipation der Arbeiterklasse ist nur möglich durch friedliche „Arbeit“ von unten\\nauf, durch Gewerkvereine, Konsumgenossenschaften und Kooperativfabriken. Man\\nmerkt jetzt, weshalb Herr Platter aus allen möglichen Schriften von Marx, vom\\n[\"Kommunistischen Manifest\"] bis zum dritten Bande des [\"Kapital\"], alle mög¬\\nlichen Zitate herauschleppt, aber um die Literatur der Internationalen in weitem\\nBogen herumgeht. Auch nicht mit einem Sterbenswörtchen erfahren die Leser\\nseines Buches, daß es eine solche Literatur giebt. Und doch müßte ein Mann\\nder Wissenschaft, der über Marx als Praktiker und Taktiker der Arbeiterfrage\\nsprechen will, in allererster Reihe auf die Literatur der Internationalen zurück¬\\ngehen. Wir reden hier nicht von den Zeilenreißern der bürgerlichen Tages= und\\nWochenpresse, die es halten mögen, wie sie wollen, aber ein Professor der Staats¬\\nwissenschaften, der den praktischen Arbeiterpolitiker Marx kritisiren will, der muß\\nso viel Royalität und so viele Kenntnisse besitzen, um diesen Politiker da zu\\nsuchen, wo er zu finden ist. Selbstverständlich hat Herr Platter aber seine guten\\nGründe, sich anzustellen, als gebe es keine Literatur der Internationalen. Denn\\nwenn er sich dieser Literatur auch nur auf Kanonenschußweite nähern würde, so', refusal=None, role='assistant', annotations=None, audio=None, function_call=None, tool_calls=None), content_filter_results={'hate': {'filtered': False, 'severity': 'safe'}, 'self_harm': {'filtered': False, 'severity': 'safe'}, 'sexual': {'filtered': False, 'severity': 'safe'}, 'violence': {'filtered': False, 'severity': 'safe'}})], created=1745340788, model='gpt-4o-2024-05-13', object='chat.completion', service_tier=None, system_fingerprint='fp_ee1d74bde0', usage=CompletionUsage(completion_tokens=961, prompt_tokens=1282, total_tokens=2243, completion_tokens_details=CompletionTokensDetails(accepted_prediction_tokens=0, audio_tokens=0, reasoning_tokens=0, rejected_prediction_tokens=0), prompt_tokens_details=PromptTokensDetails(audio_tokens=0, cached_tokens=0)), prompt_filter_results=[{'prompt_index': 0, 'content_filter_results': {'hate': {'filtered': False, 'severity': 'safe'}, 'self_harm': {'filtered': False, 'severity': 'safe'}, 'sexual': {'filtered': False, 'severity': 'safe'}, 'violence': {'filtered': False, 'severity': 'safe'}}}])\n",
      "\n",
      "Rothkoller.\n",
      "ürst\n",
      "falls gar kein Gewicht darauf zu legen. Und nun gestattet ihnen Marx selbst\n",
      "— sie müssen offenbar sehr erstaunen, wenn sie die Stelle im [\"Kapital\"] lesen,\n",
      "und sich im tiefsten Grunde ihres Herzens blamirt fühlen, daß sie bisher viel\n",
      "marxistischer waren, als Marx selbst, der offenbar auch nach 1848 noch einiges\n",
      "beobachtete und dachte — von diesem Parteidogma abzuweichen“, und so seiten¬\n",
      "lang weiter.\n",
      "Hören wir nun nach dem „alten“ Max auch den „jungen“ Marx über\n",
      "Kooperativfabriken der Arbeiter. In der Inauguraladresse der Internationalen\n",
      "Arbeiterassoziation heißt es: „Wir sprechen von der Kooperativbewegung, von den\n",
      "auf dem Prinzip der Kooperation beruhenden, durch wenige unverzagte, wenn auch\n",
      "\n",
      "ununterstützte Hände ins Leben gerufenen Fabriken. Der Werth dieser großen\n",
      "sozialen ixperimente kann nicht hoch genug veranschlagt werden. Durch die That,\n",
      "statt der Gründe, haben sie bewiesen, daß Produktion in großem Maßstabe und\n",
      "in Uebereinstimmung mit den Geboten der modernen Wissenschaft stattfinden kann\n",
      "ohne die Existenz einer Klasse von Unternehmern, die einer Klasse von Arbeitern\n",
      "zu thun giebt, daß die Arbeitsmittel, um Früchte zu tragen, nicht als Werkzeug\n",
      "der Herrschaft über und der Ausbeutung gegen den Arbeitenden selbst nonopoli¬\n",
      "sirt zu werden brauchen, und daß Lohnarbeit, wie Sklavenarbeit wie Leibeigen¬\n",
      "schaft, nur eine vorübergehende und untergeordnete Form ist, die dem Untergange\n",
      "geweiht, verschwinden muß vor der assoziirten Arbeit, die ihre schwere Aufgabe\n",
      "mit williger Hand, leichtem Sinn und fröhlichem Herzen erfüllt.\" So der „junge\n",
      "Maxx in einer weltbekannten Urkunde, die am Eingange der modernen inter¬\n",
      "nationalen Arbeiterbewegung steht, und da soll sich die deutsche Sozialdemokratie\n",
      "\n",
      "„im tiefsten Grunde ihres Herzens blamirt“ fühlen, wenn der „alte“ Marx im\n",
      "dritten Bande des [\"Kapital\"] sich in gleichem Sinne ausspricht. Ach, Herr Platter!\n",
      "Mit dem viertel oder halben Dutzend „Widersprüche\", die Herr Platter\n",
      "sonst noch aus sozialdemokratischen Schriften herausklaubt, steht es ebenso, wie\n",
      "mit den beiden hier gegebenen Proben. Wir verzichten gern auf jede weitere\n",
      "rerzitiums, und gehen auf den Kern dessen ein, was\n",
      "Korrektur dieses Schüler\n",
      "Herr Platter eigentlich will. Er überschreibt den zweiten Hauptabschnitt seines\n",
      "Buches, der sich mit dem Sozialismus beschäftigt: Gewalt oder Arbeit? Das\n",
      "soll heißen: Marx und die deutsche Sozialdemokratie sind auf dem Holzwege,\n",
      "wenn sie politische Macht erobern wollen, um die bürgerliche Gesellschaft durch\n",
      "\n",
      "„Gewalt“ von oben her in die sozialistische Gesellschaft umzukrempeln; die Eman¬\n",
      "zipation der Arbeiterklasse ist nur möglich durch friedliche „Arbeit“ von unten\n",
      "auf, durch Gewerkvereine, Konsumgenossenschaften und Kooperativfabriken. Man\n",
      "merkt jetzt, weshalb Herr Platter aus allen möglichen Schriften von Marx, vom\n",
      "[\"Kommunistischen Manifest\"] bis zum dritten Bande des [\"Kapital\"], alle mög¬\n",
      "lichen Zitate herauschleppt, aber um die Literatur der Internationalen in weitem\n",
      "Bogen herumgeht. Auch nicht mit einem Sterbenswörtchen erfahren die Leser\n",
      "seines Buches, daß es eine solche Literatur giebt. Und doch müßte ein Mann\n",
      "der Wissenschaft, der über Marx als Praktiker und Taktiker der Arbeiterfrage\n",
      "sprechen will, in allererster Reihe auf die Literatur der Internationalen zurück¬\n",
      "gehen. Wir reden hier nicht von den Zeilenreißern der bürgerlichen Tages= und\n",
      "Wochenpresse, die es halten mögen, wie sie wollen, aber ein Professor der Staats¬\n",
      "wissenschaften, der den praktischen Arbeiterpolitiker Marx kritisiren will, der muß\n",
      "so viel Royalität und so viele Kenntnisse besitzen, um diesen Politiker da zu\n",
      "suchen, wo er zu finden ist. Selbstverständlich hat Herr Platter aber seine guten\n",
      "Gründe, sich anzustellen, als gebe es keine Literatur der Internationalen. Denn\n",
      "wenn er sich dieser Literatur auch nur auf Kanonenschußweite nähern würde, so\n"
     ]
    }
   ],
   "source": [
    "print(one_shot_response)\n",
    "print()\n",
    "print(one_shot_response.choices[0].message.content)"
   ]
  },
  {
   "cell_type": "code",
   "execution_count": null,
   "id": "iLit",
   "metadata": {},
   "outputs": [
    {
     "data": {
      "text/html": [
       "<span class=\"markdown prose dark:prose-invert\"><span class=\"paragraph\">Rothkoller.\n",
       "ürst\n",
       "falls gar kein Gewicht darauf zu legen. Und nun gestattet ihnen Marx selbst\n",
       "— sie müssen offenbar sehr erstaunen, wenn sie die Stelle im <mark>\"Kapital\"</mark> lesen,\n",
       "und sich im tiefsten Grunde ihres Herzens blamirt fühlen, daß sie bisher viel\n",
       "marxistischer waren, als Marx selbst, der offenbar auch nach 1848 noch einiges\n",
       "beobachtete und dachte — von diesem Parteidogma abzuweichen“, und so seiten¬\n",
       "lang weiter.\n",
       "Hören wir nun nach dem „alten“ Max auch den „jungen“ Marx über\n",
       "Kooperativfabriken der Arbeiter. In der Inauguraladresse der Internationalen\n",
       "Arbeiterassoziation heißt es: „Wir sprechen von der Kooperativbewegung, von den\n",
       "auf dem Prinzip der Kooperation beruhenden, durch wenige unverzagte, wenn auch</span>\n",
       "<span class=\"paragraph\">ununterstützte Hände ins Leben gerufenen Fabriken. Der Werth dieser großen\n",
       "sozialen ixperimente kann nicht hoch genug veranschlagt werden. Durch die That,\n",
       "statt der Gründe, haben sie bewiesen, daß Produktion in großem Maßstabe und\n",
       "in Uebereinstimmung mit den Geboten der modernen Wissenschaft stattfinden kann\n",
       "ohne die Existenz einer Klasse von Unternehmern, die einer Klasse von Arbeitern\n",
       "zu thun giebt, daß die Arbeitsmittel, um Früchte zu tragen, nicht als Werkzeug\n",
       "der Herrschaft über und der Ausbeutung gegen den Arbeitenden selbst nonopoli¬\n",
       "sirt zu werden brauchen, und daß Lohnarbeit, wie Sklavenarbeit wie Leibeigen¬\n",
       "schaft, nur eine vorübergehende und untergeordnete Form ist, die dem Untergange\n",
       "geweiht, verschwinden muß vor der assoziirten Arbeit, die ihre schwere Aufgabe\n",
       "mit williger Hand, leichtem Sinn und fröhlichem Herzen erfüllt.\" So der „junge\n",
       "Maxx in einer weltbekannten Urkunde, die am Eingange der modernen inter¬\n",
       "nationalen Arbeiterbewegung steht, und da soll sich die deutsche Sozialdemokratie</span>\n",
       "<span class=\"paragraph\">„im tiefsten Grunde ihres Herzens blamirt“ fühlen, wenn der „alte“ Marx im\n",
       "dritten Bande des <mark>\"Kapital\"</mark> sich in gleichem Sinne ausspricht. Ach, Herr Platter!\n",
       "Mit dem viertel oder halben Dutzend „Widersprüche\", die Herr Platter\n",
       "sonst noch aus sozialdemokratischen Schriften herausklaubt, steht es ebenso, wie\n",
       "mit den beiden hier gegebenen Proben. Wir verzichten gern auf jede weitere\n",
       "rerzitiums, und gehen auf den Kern dessen ein, was\n",
       "Korrektur dieses Schüler\n",
       "Herr Platter eigentlich will. Er überschreibt den zweiten Hauptabschnitt seines\n",
       "Buches, der sich mit dem Sozialismus beschäftigt: Gewalt oder Arbeit? Das\n",
       "soll heißen: Marx und die deutsche Sozialdemokratie sind auf dem Holzwege,\n",
       "wenn sie politische Macht erobern wollen, um die bürgerliche Gesellschaft durch</span>\n",
       "<span class=\"paragraph\">„Gewalt“ von oben her in die sozialistische Gesellschaft umzukrempeln; die Eman¬\n",
       "zipation der Arbeiterklasse ist nur möglich durch friedliche „Arbeit“ von unten\n",
       "auf, durch Gewerkvereine, Konsumgenossenschaften und Kooperativfabriken. Man\n",
       "merkt jetzt, weshalb Herr Platter aus allen möglichen Schriften von Marx, vom\n",
       "<mark>\"Kommunistischen Manifest\"</mark> bis zum dritten Bande des <mark>\"Kapital\"</mark>, alle mög¬\n",
       "lichen Zitate herauschleppt, aber um die Literatur der Internationalen in weitem\n",
       "Bogen herumgeht. Auch nicht mit einem Sterbenswörtchen erfahren die Leser\n",
       "seines Buches, daß es eine solche Literatur giebt. Und doch müßte ein Mann\n",
       "der Wissenschaft, der über Marx als Praktiker und Taktiker der Arbeiterfrage\n",
       "sprechen will, in allererster Reihe auf die Literatur der Internationalen zurück¬\n",
       "gehen. Wir reden hier nicht von den Zeilenreißern der bürgerlichen Tages= und\n",
       "Wochenpresse, die es halten mögen, wie sie wollen, aber ein Professor der Staats¬\n",
       "wissenschaften, der den praktischen Arbeiterpolitiker Marx kritisiren will, der muß\n",
       "so viel Royalität und so viele Kenntnisse besitzen, um diesen Politiker da zu\n",
       "suchen, wo er zu finden ist. Selbstverständlich hat Herr Platter aber seine guten\n",
       "Gründe, sich anzustellen, als gebe es keine Literatur der Internationalen. Denn\n",
       "wenn er sich dieser Literatur auch nur auf Kanonenschußweite nähern würde, so</span></span>"
      ]
     },
     "metadata": {},
     "output_type": "display_data"
    }
   ],
   "source": [
    "# Finds the texts of interest but does not include volume-level information.\n",
    "# Misses the additional speech (https://www.marxists.org/deutsch/archiv/marx-engels/1864/10/inaugadr.htm) in the first paragraph\n",
    "highlight_bracketed_text(get_text_response(one_shot_response))"
   ]
  },
  {
   "cell_type": "markdown",
   "id": "ZHCJ",
   "metadata": {},
   "source": [
    "## Switching to smaller text chunks\n",
    "Prompting with a full page appears to take a fairly long time (~30s), so explore response times for smaller chunks.\n",
    "\n",
    "**Results: Faster responses for smaller text chunks.**"
   ]
  },
  {
   "cell_type": "code",
   "execution_count": null,
   "id": "ROlb",
   "metadata": {},
   "outputs": [],
   "source": [
    "text_chunks = sample_page.split(\"\\n\\n\")"
   ]
  },
  {
   "cell_type": "code",
   "execution_count": null,
   "id": "qnkX",
   "metadata": {},
   "outputs": [
    {
     "data": {
      "text/html": [
       "<span class=\"markdown prose dark:prose-invert\"><span class=\"paragraph\">Rothkoller.\n",
       "ürst\n",
       "falls gar kein Gewicht darauf zu legen. Und nun gestattet ihnen Marx selbst\n",
       "— sie müssen offenbar sehr erstaunen, wenn sie die Stelle im <mark>„Kapital“</mark> lesen,\n",
       "und sich im tiefsten Grunde ihres Herzens blamirt fühlen, daß sie bisher viel\n",
       "marxistischer waren, als Marx selbst, der offenbar auch nach 1848 noch einiges\n",
       "beobachtete und dachte — von diesem Parteidogma abzuweichen“, und so seiten¬\n",
       "lang weiter.\n",
       "Hören wir nun nach dem „alten“ Max auch den „jungen“ Marx über\n",
       "Kooperativfabriken der Arbeiter. In der <mark>Inauguraladresse der Internationalen\n",
       "Arbeiterassoziation</mark> heißt es: „Wir sprechen von der Kooperativbewegung, von den\n",
       "auf dem Prinzip der Kooperation beruhenden, durch wenige unverzagte, wenn auch</span></span>"
      ]
     },
     "metadata": {},
     "output_type": "display_data"
    }
   ],
   "source": [
    "# Skips speech sometimes\n",
    "highlight_bracketed_text(\n",
    "    get_text_response(\n",
    "        submit_prompt(task_prompt=basic_prompt, user_prompt=text_chunks[0])\n",
    "    )\n",
    ")"
   ]
  },
  {
   "cell_type": "code",
   "execution_count": null,
   "id": "TqIu",
   "metadata": {},
   "outputs": [
    {
     "data": {
      "text/html": [
       "<span class=\"markdown prose dark:prose-invert\"><span class=\"paragraph\">ununterstützte Hände ins Leben gerufenen Fabriken. Der Werth dieser großen\n",
       "sozialen ixperimente kann nicht hoch genug veranschlagt werden. Durch die That,\n",
       "statt der Gründe, haben sie bewiesen, daß Produktion in großem Maßstabe und\n",
       "in Uebereinstimmung mit den Geboten der modernen Wissenschaft stattfinden kann\n",
       "ohne die Existenz einer Klasse von Unternehmern, die einer Klasse von Arbeitern\n",
       "zu thun giebt, daß die Arbeitsmittel, um Früchte zu tragen, nicht als Werkzeug\n",
       "der Herrschaft über und der Ausbeutung gegen den Arbeitenden selbst nonopoli¬\n",
       "sirt zu werden brauchen, und daß Lohnarbeit, wie Sklavenarbeit wie Leibeigen¬\n",
       "schaft, nur eine vorübergehende und untergeordnete Form ist, die dem Untergange\n",
       "geweiht, verschwinden muß vor der assoziirten Arbeit, die ihre schwere Aufgabe\n",
       "mit williger Hand, leichtem Sinn und fröhlichem Herzen erfüllt.\" So der „junge\n",
       "Marx in einer weltbekannten Urkunde, die am Eingange der modernen inter¬\n",
       "nationalen Arbeiterbewegung steht, und da soll sich die deutsche Sozialdemokratie</span></span>"
      ]
     },
     "metadata": {},
     "output_type": "display_data"
    }
   ],
   "source": [
    "highlight_bracketed_text(\n",
    "    get_text_response(\n",
    "        submit_prompt(task_prompt=basic_prompt, user_prompt=text_chunks[1])\n",
    "    )\n",
    ")"
   ]
  },
  {
   "cell_type": "code",
   "execution_count": null,
   "id": "Vxnm",
   "metadata": {},
   "outputs": [
    {
     "data": {
      "text/html": [
       "<span class=\"markdown prose dark:prose-invert\"><span class=\"paragraph\">„im tiefsten Grunde ihres Herzens blamirt“ fühlen, wenn der „alte“ Marx im dritten Bande des <mark>„Kapital“</mark> sich in gleichem Sinne ausspricht. Ach, Herr Platter! Mit dem viertel oder halben Dutzend „Widersprüche\", die Herr Platter sonst noch aus sozialdemokratischen Schriften herausklaubt, steht es ebenso, wie mit den beiden hier gegebenen Proben. Wir verzichten gern auf jede weitere rerzitiums, und gehen auf den Kern dessen ein, was Korrektur dieses Schüler Herr Platter eigentlich will. Er überschreibt den zweiten Hauptabschnitt seines Buches, der sich mit dem Sozialismus beschäftigt: Gewalt oder Arbeit? Das soll heißen: Marx und die deutsche Sozialdemokratie sind auf dem Holzwege, wenn sie politische Macht erobern wollen, um die bürgerliche Gesellschaft durch</span></span>"
      ]
     },
     "metadata": {},
     "output_type": "display_data"
    }
   ],
   "source": [
    "# Skips volume information\n",
    "highlight_bracketed_text(\n",
    "    get_text_response(\n",
    "        submit_prompt(task_prompt=basic_prompt, user_prompt=text_chunks[2])\n",
    "    )\n",
    ")"
   ]
  },
  {
   "cell_type": "code",
   "execution_count": null,
   "id": "DnEU",
   "metadata": {},
   "outputs": [
    {
     "data": {
      "text/html": [
       "<span class=\"markdown prose dark:prose-invert\"><span class=\"paragraph\">„Gewalt“ von oben her in die sozialistische Gesellschaft umzukrempeln; die Eman¬\n",
       "zipation der Arbeiterklasse ist nur möglich durch friedliche „Arbeit“ von unten\n",
       "auf, durch Gewerkvereine, Konsumgenossenschaften und Kooperativfabriken. Man\n",
       "merkt jetzt, weshalb Herr Platter aus allen möglichen Schriften von Marx, vom\n",
       "<mark>Kommunistischen Manifest</mark> bis zum dritten Bande des <mark>Kapital</mark>, alle mög¬\n",
       "lichen Zitate herauschleppt, aber um die Literatur der Internationalen in weitem\n",
       "Bogen herumgeht. Auch nicht mit einem Sterbenswörtchen erfahren die Leser\n",
       "seines Buches, daß es eine solche Literatur gibt. Und doch müßte ein Mann\n",
       "der Wissenschaft, der über Marx als Praktiker und Taktiker der Arbeiterfrage\n",
       "sprechen will, in allererster Reihe auf die Literatur der Internationalen zurück¬\n",
       "gehen. Wir reden hier nicht von den Zeilenreißern der bürgerlichen Tages= und\n",
       "Wochenpresse, die es halten mögen, wie sie wollen, aber ein Professor der Staats¬\n",
       "wissenschaften, der den praktischen Arbeiterpolitiker Marx kritisieren will, der muß\n",
       "so viel Royalität und so viele Kenntnisse besitzen, um diesen Politiker da zu\n",
       "suchen, wo er zu finden ist. Selbstverständlich hat Herr Platter aber seine guten\n",
       "Gründe, sich anzustellen, als gebe es keine Literatur der Internationalen. Denn\n",
       "wenn er sich dieser Literatur auch nur auf Kanonenschußweite nähern würde, so</span></span>"
      ]
     },
     "metadata": {},
     "output_type": "display_data"
    }
   ],
   "source": [
    "# Skips volume information\n",
    "highlight_bracketed_text(\n",
    "    get_text_response(\n",
    "        submit_prompt(task_prompt=basic_prompt, user_prompt=text_chunks[3])\n",
    "    )\n",
    ")"
   ]
  },
  {
   "cell_type": "markdown",
   "id": "ulZA",
   "metadata": {},
   "source": [
    "## Conclusions\n",
    "- Volume-level information is generally ignored.\n",
    "- Prompting to use square brackets for annotations appears to work, will be relatively easy to convert for viewing assuming the underlying text does not include square brackets.\n",
    "- Not clear that adding an example to the prompt helps.\n",
    "- The newer prompt template appears to take a lot more time, but it seems to be relative to the length of the input passage.\n",
    "- Annotations do not appear to be particularly stable between runs.\n",
    "    - Spurious annotations may appear in passages without any title references\n",
    "    - Not all texts written by Karl Marx are necessarily identified (e.g., an inaugural address written by Marx)"
   ]
  }
 ],
 "metadata": {},
 "nbformat": 4,
 "nbformat_minor": 5
}
