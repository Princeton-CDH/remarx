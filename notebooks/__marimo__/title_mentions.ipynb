{
 "cells": [
  {
   "cell_type": "code",
   "execution_count": null,
   "id": "Hbol",
   "metadata": {},
   "outputs": [
    {
     "data": {
      "text/html": [
       "<span class=\"markdown prose dark:prose-invert\"><h1 id=\"notebook-for-exploring-title-mention-prompts\">Notebook for exploring title mention prompts</h1></span>"
      ]
     },
     "metadata": {},
     "output_type": "display_data"
    }
   ],
   "source": [
    "# Notebook for exploring title mention prompts"
   ]
  },
  {
   "cell_type": "code",
   "execution_count": null,
   "id": "MJUe",
   "metadata": {},
   "outputs": [],
   "source": [
    "import marimo as mo\n",
    "from remarx.sandbox_utils import submit_prompt"
   ]
  },
  {
   "cell_type": "code",
   "execution_count": null,
   "id": "vblA",
   "metadata": {},
   "outputs": [],
   "source": [
    "# Some code for viewing annotated responses\n",
    "def display_response(response):\n",
    "    output_object = response.choices[0]\n",
    "    # Check finish reason\n",
    "    finish_reason = output_object.finish_reason\n",
    "    if finish_reason == \"length\":\n",
    "        print(\"WARNING: Response stopped early due to length limits!\")\n",
    "    elif finish_reason == \"content_filter\":\n",
    "        print(\"WARNING: Content filtering occurred for response!\")\n",
    "\n",
    "    # Display reponse\n",
    "    output_text = output_object.message.content\n",
    "    output_text = output_text.replace(\"[\", \"<mark>\")\n",
    "    output_text = output_text.replace(\"]\", \"</mark>\")\n",
    "    return mo.md(output_text)"
   ]
  },
  {
   "cell_type": "markdown",
   "id": "bkHC",
   "metadata": {
    "marimo": {
     "config": {
      "hide_code": true
     }
    }
   },
   "source": [
    "Below is a sample page of text with several title mentions including _Das Kapital_ and _The Communist Manifesto_."
   ]
  },
  {
   "cell_type": "code",
   "execution_count": null,
   "id": "lEQa",
   "metadata": {
    "marimo": {
     "config": {
      "hide_code": true
     }
    }
   },
   "outputs": [],
   "source": [
    "# Note: pages may not have regular separations across files!\n",
    "sample_page = \"\"\"\n",
    "Rothkoller.\n",
    "ürst\n",
    "falls gar kein Gewicht darauf zu legen. Und nun gestattet ihnen Marx selbst\n",
    "— sie müssen offenbar sehr erstaunen, wenn sie die Stelle im „Kapital“ lesen,\n",
    "und sich im tiefsten Grunde ihres Herzens blamirt fühlen, daß sie bisher viel\n",
    "marxistischer waren, als Marx selbst, der offenbar auch nach 1848 noch einiges\n",
    "beobachtete und dachte — von diesem Parteidogma abzuweichen“, und so seiten¬\n",
    "lang weiter.\n",
    "Hören wir nun nach dem „alten“ Max auch den „jungen“ Marx über\n",
    "Kooperativfabriken der Arbeiter. In der Inauguraladresse der Internationalen\n",
    "Arbeiterassoziation heißt es: „Wir sprechen von der Kooperativbewegung, von den\n",
    "auf dem Prinzip der Kooperation beruhenden, durch wenige unverzagte, wenn auch\n",
    "\n",
    "\n",
    "ununterstützte Hände ins Leben gerufenen Fabriken. Der Werth dieser großen\n",
    "sozialen ixperimente kann nicht hoch genug veranschlagt werden. Durch die That,\n",
    "statt der Gründe, haben sie bewiesen, daß Produktion in großem Maßstabe und\n",
    "in Uebereinstimmung mit den Geboten der modernen Wissenschaft stattfinden kann\n",
    "ohne die Existenz einer Klasse von Unternehmern, die einer Klasse von Arbeitern\n",
    "zu thun giebt, daß die Arbeitsmittel, um Früchte zu tragen, nicht als Werkzeug\n",
    "der Herrschaft über und der Ausbeutung gegen den Arbeitenden selbst nonopoli¬\n",
    "sirt zu werden brauchen, und daß Lohnarbeit, wie Sklavenarbeit wie Leibeigen¬\n",
    "schaft, nur eine vorübergehende und untergeordnete Form ist, die dem Untergange\n",
    "geweiht, verschwinden muß vor der assoziirten Arbeit, die ihre schwere Aufgabe\n",
    "mit williger Hand, leichtem Sinn und fröhlichem Herzen erfüllt.\" So der „junge\n",
    "Maxx in einer weltbekannten Urkunde, die am Eingange der modernen inter¬\n",
    "nationalen Arbeiterbewegung steht, und da soll sich die deutsche Sozialdemokratie\n",
    "\n",
    "\n",
    "„im tiefsten Grunde ihres Herzens blamirt“ fühlen, wenn der „alte“ Marx im\n",
    "dritten Bande des „Kapital“ sich in gleichem Sinne ausspricht. Ach, Herr Platter!\n",
    "Mit dem viertel oder halben Dutzend „Widersprüche\", die Herr Platter\n",
    "sonst noch aus sozialdemokratischen Schriften herausklaubt, steht es ebenso, wie\n",
    "mit den beiden hier gegebenen Proben. Wir verzichten gern auf jede weitere\n",
    "rerzitiums, und gehen auf den Kern dessen ein, was\n",
    "Korrektur dieses Schüler\n",
    "Herr Platter eigentlich will. Er überschreibt den zweiten Hauptabschnitt seines\n",
    "Buches, der sich mit dem Sozialismus beschäftigt: Gewalt oder Arbeit? Das\n",
    "soll heißen: Marx und die deutsche Sozialdemokratie sind auf dem Holzwege,\n",
    "wenn sie politische Macht erobern wollen, um die bürgerliche Gesellschaft durch\n",
    "\n",
    "\n",
    "„Gewalt“ von oben her in die sozialistische Gesellschaft umzukrempeln; die Eman¬\n",
    "zipation der Arbeiterklasse ist nur möglich durch friedliche „Arbeit“ von unten\n",
    "auf, durch Gewerkvereine, Konsumgenossenschaften und Kooperativfabriken. Man\n",
    "merkt jetzt, weshalb Herr Platter aus allen möglichen Schriften von Marx, vom\n",
    "Kommunistischen manifest bis zum dritten Bande des „Kapital“, alle mög¬\n",
    "lichen Zitate herauschleppt, aber um die Literatur der Internationalen in weitem\n",
    "Bogen herumgeht. Auch nicht mit einem Sterbenswörtchen erfahren die Leser\n",
    "seines Buches, daß es eine solche Literatur giebt. Und doch müßte ein Mann\n",
    "der Wissenschaft, der über Marx als Praktiker und Taktiker der Arbeiterfrage\n",
    "sprechen will, in allererster Reihe auf die Literatur der Internationalen zurück¬\n",
    "gehen. Wir reden hier nicht von den Zeilenreißern der bürgerlichen Tages= und\n",
    "Wochenpresse, die es halten mögen, wie sie wollen, aber ein Professor der Staats¬\n",
    "wissenschaften, der den praktischen Arbeiterpolitiker Marx kritisiren will, der muß\n",
    "so viel Royalität und so viele Kenntnisse besitzen, um diesen Politiker da zu\n",
    "suchen, wo er zu finden ist. Selbstverständlich hat Herr Platter aber seine guten\n",
    "Gründe, sich anzustellen, als gebe es keine Literatur der Internationalen. Denn\n",
    "wenn er sich dieser Literatur auch nur auf Kanonenschußweite nähern würde, so\n",
    "\"\"\""
   ]
  },
  {
   "cell_type": "code",
   "execution_count": null,
   "id": "PKri",
   "metadata": {
    "marimo": {
     "config": {
      "hide_code": true
     }
    }
   },
   "outputs": [
    {
     "data": {
      "text/html": [
       "<span class=\"markdown prose dark:prose-invert\"><span class=\"paragraph\">Rothkoller.\n",
       "ürst\n",
       "falls gar kein Gewicht darauf zu legen. Und nun gestattet ihnen Marx selbst\n",
       "— sie müssen offenbar sehr erstaunen, wenn sie die Stelle im <mark>„Kapital“</mark> lesen,\n",
       "und sich im tiefsten Grunde ihres Herzens blamirt fühlen, daß sie bisher viel\n",
       "marxistischer waren, als Marx selbst, der offenbar auch nach 1848 noch einiges\n",
       "beobachtete und dachte — von diesem Parteidogma abzuweichen“, und so seiten¬\n",
       "lang weiter.\n",
       "Hören wir nun nach dem „alten“ Max auch den „jungen“ Marx über\n",
       "Kooperativfabriken der Arbeiter. In der <mark>Inauguraladresse der Internationalen\n",
       "Arbeiterassoziation</mark> heißt es: „Wir sprechen von der Kooperativbewegung, von den\n",
       "auf dem Prinzip der Kooperation beruhenden, durch wenige unverzagte, wenn auch</span>\n",
       "<span class=\"paragraph\">ununterstützte Hände ins Leben gerufenen Fabriken. Der Werth dieser großen\n",
       "sozialen ixperimente kann nicht hoch genug veranschlagt werden. Durch die That,\n",
       "statt der Gründe, haben sie bewiesen, daß Produktion in großem Maßstabe und\n",
       "in Uebereinstimmung mit den Geboten der modernen Wissenschaft stattfinden kann\n",
       "ohne die Existenz einer Klasse von Unternehmern, die einer Klasse von Arbeitern\n",
       "zu thun giebt, daß die Arbeitsmittel, um Früchte zu tragen, nicht als Werkzeug\n",
       "der Herrschaft über und der Ausbeutung gegen den Arbeitenden selbst nonopoli¬\n",
       "sirt zu werden brauchen, und daß Lohnarbeit, wie Sklavenarbeit wie Leibeigen¬\n",
       "schaft, nur eine vorübergehende und untergeordnete Form ist, die dem Untergange\n",
       "geweiht, verschwinden muß vor der assoziirten Arbeit, die ihre schwere Aufgabe\n",
       "mit williger Hand, leichtem Sinn und fröhlichem Herzen erfüllt.\" So der „junge\n",
       "Maxx in einer weltbekannten Urkunde, die am Eingange der modernen inter¬\n",
       "nationalen Arbeiterbewegung steht, und da soll sich die deutsche Sozialdemokratie</span>\n",
       "<span class=\"paragraph\">„im tiefsten Grunde ihres Herzens blamirt“ fühlen, wenn der „alte“ Marx im\n",
       "<mark>dritten Bande des „Kapital“</mark> sich in gleichem Sinne ausspricht. Ach, Herr Platter!\n",
       "Mit dem viertel oder halben Dutzend „Widersprüche\", die Herr Platter\n",
       "sonst noch aus sozialdemokratischen Schriften herausklaubt, steht es ebenso, wie\n",
       "mit den beiden hier gegebenen Proben. Wir verzichten gern auf jede weitere\n",
       "rerzitiums, und gehen auf den Kern dessen ein, was\n",
       "Korrektur dieses Schüler\n",
       "Herr Platter eigentlich will. Er überschreibt den zweiten Hauptabschnitt seines\n",
       "Buches, der sich mit dem Sozialismus beschäftigt: Gewalt oder Arbeit? Das\n",
       "soll heißen: Marx und die deutsche Sozialdemokratie sind auf dem Holzwege,\n",
       "wenn sie politische Macht erobern wollen, um die bürgerliche Gesellschaft durch</span>\n",
       "<span class=\"paragraph\">„Gewalt“ von oben her in die sozialistische Gesellschaft umzukrempeln; die Eman¬\n",
       "zipation der Arbeiterklasse ist nur möglich durch friedliche „Arbeit“ von unten\n",
       "auf, durch Gewerkvereine, Konsumgenossenschaften und Kooperativfabriken. Man\n",
       "merkt jetzt, weshalb Herr Platter aus allen möglichen Schriften von Marx, vom\n",
       "<mark>Kommunistischen manifest</mark> bis zum <mark>dritten Bande des „Kapital“</mark>, alle mög¬\n",
       "lichen Zitate herauschleppt, aber um die Literatur der Internationalen in weitem\n",
       "Bogen herumgeht. Auch nicht mit einem Sterbenswörtchen erfahren die Leser\n",
       "seines Buches, daß es eine solche Literatur giebt. Und doch müßte ein Mann\n",
       "der Wissenschaft, der über Marx als Praktiker und Taktiker der Arbeiterfrage\n",
       "sprechen will, in allererster Reihe auf die Literatur der Internationalen zurück¬\n",
       "gehen. Wir reden hier nicht von den Zeilenreißern der bürgerlichen Tages= und\n",
       "Wochenpresse, die es halten mögen, wie sie wollen, aber ein Professor der Staats¬\n",
       "wissenschaften, der den praktischen Arbeiterpolitiker Marx kritisiren will, der muß\n",
       "so viel Royalität und so viele Kenntnisse besitzen, um diesen Politiker da zu\n",
       "suchen, wo er zu finden ist. Selbstverständlich hat Herr Platter aber seine guten\n",
       "Gründe, sich anzustellen, als gebe es keine Literatur der Internationalen. Denn\n",
       "wenn er sich dieser Literatur auch nur auf Kanonenschußweite nähern würde, so</span></span>"
      ]
     },
     "metadata": {},
     "output_type": "display_data"
    }
   ],
   "source": [
    "# For viewing \"expected\" annotations\n",
    "annotated_sample_page = \"\"\"\n",
    "Rothkoller.\n",
    "ürst\n",
    "falls gar kein Gewicht darauf zu legen. Und nun gestattet ihnen Marx selbst\n",
    "— sie müssen offenbar sehr erstaunen, wenn sie die Stelle im <mark>„Kapital“</mark> lesen,\n",
    "und sich im tiefsten Grunde ihres Herzens blamirt fühlen, daß sie bisher viel\n",
    "marxistischer waren, als Marx selbst, der offenbar auch nach 1848 noch einiges\n",
    "beobachtete und dachte — von diesem Parteidogma abzuweichen“, und so seiten¬\n",
    "lang weiter.\n",
    "Hören wir nun nach dem „alten“ Max auch den „jungen“ Marx über\n",
    "Kooperativfabriken der Arbeiter. In der <mark>Inauguraladresse der Internationalen\n",
    "Arbeiterassoziation</mark> heißt es: „Wir sprechen von der Kooperativbewegung, von den\n",
    "auf dem Prinzip der Kooperation beruhenden, durch wenige unverzagte, wenn auch\n",
    "\n",
    "\n",
    "ununterstützte Hände ins Leben gerufenen Fabriken. Der Werth dieser großen\n",
    "sozialen ixperimente kann nicht hoch genug veranschlagt werden. Durch die That,\n",
    "statt der Gründe, haben sie bewiesen, daß Produktion in großem Maßstabe und\n",
    "in Uebereinstimmung mit den Geboten der modernen Wissenschaft stattfinden kann\n",
    "ohne die Existenz einer Klasse von Unternehmern, die einer Klasse von Arbeitern\n",
    "zu thun giebt, daß die Arbeitsmittel, um Früchte zu tragen, nicht als Werkzeug\n",
    "der Herrschaft über und der Ausbeutung gegen den Arbeitenden selbst nonopoli¬\n",
    "sirt zu werden brauchen, und daß Lohnarbeit, wie Sklavenarbeit wie Leibeigen¬\n",
    "schaft, nur eine vorübergehende und untergeordnete Form ist, die dem Untergange\n",
    "geweiht, verschwinden muß vor der assoziirten Arbeit, die ihre schwere Aufgabe\n",
    "mit williger Hand, leichtem Sinn und fröhlichem Herzen erfüllt.\" So der „junge\n",
    "Maxx in einer weltbekannten Urkunde, die am Eingange der modernen inter¬\n",
    "nationalen Arbeiterbewegung steht, und da soll sich die deutsche Sozialdemokratie\n",
    "\n",
    "\n",
    "„im tiefsten Grunde ihres Herzens blamirt“ fühlen, wenn der „alte“ Marx im\n",
    "<mark>dritten Bande des „Kapital“</mark> sich in gleichem Sinne ausspricht. Ach, Herr Platter!\n",
    "Mit dem viertel oder halben Dutzend „Widersprüche\", die Herr Platter\n",
    "sonst noch aus sozialdemokratischen Schriften herausklaubt, steht es ebenso, wie\n",
    "mit den beiden hier gegebenen Proben. Wir verzichten gern auf jede weitere\n",
    "rerzitiums, und gehen auf den Kern dessen ein, was\n",
    "Korrektur dieses Schüler\n",
    "Herr Platter eigentlich will. Er überschreibt den zweiten Hauptabschnitt seines\n",
    "Buches, der sich mit dem Sozialismus beschäftigt: Gewalt oder Arbeit? Das\n",
    "soll heißen: Marx und die deutsche Sozialdemokratie sind auf dem Holzwege,\n",
    "wenn sie politische Macht erobern wollen, um die bürgerliche Gesellschaft durch\n",
    "\n",
    "\n",
    "„Gewalt“ von oben her in die sozialistische Gesellschaft umzukrempeln; die Eman¬\n",
    "zipation der Arbeiterklasse ist nur möglich durch friedliche „Arbeit“ von unten\n",
    "auf, durch Gewerkvereine, Konsumgenossenschaften und Kooperativfabriken. Man\n",
    "merkt jetzt, weshalb Herr Platter aus allen möglichen Schriften von Marx, vom\n",
    "<mark>Kommunistischen manifest</mark> bis zum <mark>dritten Bande des „Kapital“</mark>, alle mög¬\n",
    "lichen Zitate herauschleppt, aber um die Literatur der Internationalen in weitem\n",
    "Bogen herumgeht. Auch nicht mit einem Sterbenswörtchen erfahren die Leser\n",
    "seines Buches, daß es eine solche Literatur giebt. Und doch müßte ein Mann\n",
    "der Wissenschaft, der über Marx als Praktiker und Taktiker der Arbeiterfrage\n",
    "sprechen will, in allererster Reihe auf die Literatur der Internationalen zurück¬\n",
    "gehen. Wir reden hier nicht von den Zeilenreißern der bürgerlichen Tages= und\n",
    "Wochenpresse, die es halten mögen, wie sie wollen, aber ein Professor der Staats¬\n",
    "wissenschaften, der den praktischen Arbeiterpolitiker Marx kritisiren will, der muß\n",
    "so viel Royalität und so viele Kenntnisse besitzen, um diesen Politiker da zu\n",
    "suchen, wo er zu finden ist. Selbstverständlich hat Herr Platter aber seine guten\n",
    "Gründe, sich anzustellen, als gebe es keine Literatur der Internationalen. Denn\n",
    "wenn er sich dieser Literatur auch nur auf Kanonenschußweite nähern würde, so\n",
    "\"\"\"\n",
    "mo.md(annotated_sample_page)"
   ]
  },
  {
   "cell_type": "markdown",
   "id": "Xref",
   "metadata": {},
   "source": [
    "## Basic Prompt (zero-shot)\n",
    "Note querying with the full page of text is fairly slow."
   ]
  },
  {
   "cell_type": "code",
   "execution_count": null,
   "id": "SFPL",
   "metadata": {},
   "outputs": [
    {
     "name": "stdout",
     "output_type": "stream",
     "text": [
      "# Identity\n",
      "You are a research assistant fluent in German and English. You help researchers identify direct title references of works by Karl Marx within a given passage of text.\n",
      "\n",
      "# Instructions\n",
      "* Copy the passage exactly.\n",
      "* Annotate each title reference with square brackets (e.g. [title reference]).\n",
      "\n"
     ]
    }
   ],
   "source": [
    "# load prompt\n",
    "with open(\"prompts/title_mentions/basic.txt\") as f0:\n",
    "    basic_prompt = f0.read()\n",
    "print(basic_prompt)"
   ]
  },
  {
   "cell_type": "code",
   "execution_count": null,
   "id": "BYtC",
   "metadata": {},
   "outputs": [],
   "source": [
    "# get response\n",
    "basic_response = submit_prompt(\n",
    "    task_prompt=basic_prompt, user_prompt=sample_page\n",
    ")"
   ]
  },
  {
   "cell_type": "code",
   "execution_count": null,
   "id": "RGSE",
   "metadata": {},
   "outputs": [
    {
     "name": "stdout",
     "output_type": "stream",
     "text": [
      "ChatCompletion(id='chatcmpl-BOq41xeVtIl3ob5sqcEjOEApjNXd8', choices=[Choice(finish_reason='stop', index=0, logprobs=None, message=ChatCompletionMessage(content='Rothkoller.\\nürst\\nfalls gar kein Gewicht darauf zu legen. Und nun gestattet ihnen Marx selbst\\n— sie müssen offenbar sehr erstaunen, wenn sie die Stelle im [„Kapital“] lesen,\\nund sich im tiefsten Grunde ihres Herzens blamirt fühlen, daß sie bisher viel\\nmarxistischer waren, als Marx selbst, der offenbar auch nach 1848 noch einiges\\nbeobachtete und dachte — von diesem Parteidogma abzuweichen“, und so seiten¬\\nlang weiter.\\nHören wir nun nach dem „alten“ Max auch den „jungen“ Marx über\\nKooperativfabriken der Arbeiter. In der Inauguraladresse der Internationalen\\nArbeiterassoziation heißt es: „Wir sprechen von der Kooperativbewegung, von den\\nauf dem Prinzip der Kooperation beruhenden, durch wenige unverzagte, wenn auch\\n\\nununterstützte Hände ins Leben gerufenen Fabriken. Der Werth dieser großen\\nsozialen ixperimente kann nicht hoch genug veranschlagt werden. Durch die That,\\nstatt der Gründe, haben sie bewiesen, daß Produktion in großem Maßstabe und\\nin Uebereinstimmung mit den Geboten der modernen Wissenschaft stattfinden kann\\nohne die Existenz einer Klasse von Unternehmern, die einer Klasse von Arbeitern\\nzu thun giebt, daß die Arbeitsmittel, um Früchte zu tragen, nicht als Werkzeug\\nder Herrschaft über und der Ausbeutung gegen den Arbeitenden selbst nonopoli¬\\nsirt zu werden brauchen, und daß Lohnarbeit, wie Sklavenarbeit wie Leibeigen¬\\nschaft, nur eine vorübergehende und untergeordnete Form ist, die dem Untergange\\ngeweiht, verschwinden muß vor der assoziirten Arbeit, die ihre schwere Aufgabe\\nmit williger Hand, leichtem Sinn und fröhlichem Herzen erfüllt.\" So der „junge\\nMaxx in einer weltbekannten Urkunde, die am Eingange der modernen inter¬\\nnationalen Arbeiterbewegung steht, und da soll sich die deutsche Sozialdemokratie\\n\\n„im tiefsten Grunde ihres Herzens blamirt“ fühlen, wenn der „alte“ Marx im\\ndritten Bande des [„Kapital“] sich in gleichem Sinne ausspricht. Ach, Herr Platter!\\nMit dem viertel oder halben Dutzend „Widersprüche\", die Herr Platter\\nsonst noch aus sozialdemokratischen Schriften herausklaubt, steht es ebenso, wie\\nmit den beiden hier gegebenen Proben. Wir verzichten gern auf jede weitere\\nrerzitiums, und gehen auf den Kern dessen ein, was\\nKorrektur dieses Schüler\\nHerr Platter eigentlich will. Er überschreibt den zweiten Hauptabschnitt seines\\nBuches, der sich mit dem Sozialismus beschäftigt: Gewalt oder Arbeit? Das\\nsoll heißen: Marx und die deutsche Sozialdemokratie sind auf dem Holzwege,\\nwenn sie politische Macht erobern wollen, um die bürgerliche Gesellschaft durch\\n\\n„Gewalt“ von oben her in die sozialistische Gesellschaft umzukrempeln; die Eman¬\\nzipation der Arbeiterklasse ist nur möglich durch friedliche „Arbeit“ von unten\\nauf, durch Gewerkvereine, Konsumgenossenschaften und Kooperativfabriken. Man\\nmerkt jetzt, weshalb Herr Platter aus allen möglichen Schriften von Marx, vom\\n[Kommunistischen Manifest] bis zum dritten Bande des [„Kapital“], alle mög¬\\nlichen Zitate herauschleppt, aber um die Literatur der Internationalen in weitem\\nBogen herumgeht. Auch nicht mit einem Sterbenswörtchen erfahren die Leser\\nseines Buches, daß es eine solche Literatur giebt. Und doch müßte ein Mann\\nder Wissenschaft, der über Marx als Praktiker und Taktiker der Arbeiterfrage\\nsprechen will, in allererster Reihe auf die Literatur der Internationalen zurück¬\\ngehen. Wir reden hier nicht von den Zeilenreißern der bürgerlichen Tages= und\\nWochenpresse, die es halten mögen, wie sie wollen, aber ein Professor der Staats¬\\nwissenschaften, der den praktischen Arbeiterpolitiker Marx kritisiren will, der muß\\nso viel Royalität und so viele Kenntnisse besitzen, um diesen Politiker da zu\\nsuchen, wo er zu finden ist. Selbstverständlich hat Herr Platter aber seine guten\\nGründe, sich anzustellen, als gebe es keine Literatur der Internationalen. Denn\\nwenn er sich dieser Literatur auch nur auf Kanonenschußweite nähern würde, so', refusal=None, role='assistant', annotations=None, audio=None, function_call=None, tool_calls=None), content_filter_results={'hate': {'filtered': False, 'severity': 'safe'}, 'protected_material_code': {'filtered': False, 'detected': False}, 'protected_material_text': {'filtered': False, 'detected': False}, 'self_harm': {'filtered': False, 'severity': 'safe'}, 'sexual': {'filtered': False, 'severity': 'safe'}, 'violence': {'filtered': False, 'severity': 'safe'}})], created=1745259705, model='gpt-4o-2024-05-13', object='chat.completion', service_tier=None, system_fingerprint='fp_65792305e4', usage=CompletionUsage(completion_tokens=967, prompt_tokens=1030, total_tokens=1997, completion_tokens_details=CompletionTokensDetails(accepted_prediction_tokens=0, audio_tokens=0, reasoning_tokens=0, rejected_prediction_tokens=0), prompt_tokens_details=PromptTokensDetails(audio_tokens=0, cached_tokens=0)), prompt_filter_results=[{'prompt_index': 0, 'content_filter_results': {'hate': {'filtered': False, 'severity': 'safe'}, 'jailbreak': {'filtered': False, 'detected': False}, 'self_harm': {'filtered': False, 'severity': 'safe'}, 'sexual': {'filtered': False, 'severity': 'safe'}, 'violence': {'filtered': False, 'severity': 'safe'}}}])\n",
      "\n",
      "Rothkoller.\n",
      "ürst\n",
      "falls gar kein Gewicht darauf zu legen. Und nun gestattet ihnen Marx selbst\n",
      "— sie müssen offenbar sehr erstaunen, wenn sie die Stelle im [„Kapital“] lesen,\n",
      "und sich im tiefsten Grunde ihres Herzens blamirt fühlen, daß sie bisher viel\n",
      "marxistischer waren, als Marx selbst, der offenbar auch nach 1848 noch einiges\n",
      "beobachtete und dachte — von diesem Parteidogma abzuweichen“, und so seiten¬\n",
      "lang weiter.\n",
      "Hören wir nun nach dem „alten“ Max auch den „jungen“ Marx über\n",
      "Kooperativfabriken der Arbeiter. In der Inauguraladresse der Internationalen\n",
      "Arbeiterassoziation heißt es: „Wir sprechen von der Kooperativbewegung, von den\n",
      "auf dem Prinzip der Kooperation beruhenden, durch wenige unverzagte, wenn auch\n",
      "\n",
      "ununterstützte Hände ins Leben gerufenen Fabriken. Der Werth dieser großen\n",
      "sozialen ixperimente kann nicht hoch genug veranschlagt werden. Durch die That,\n",
      "statt der Gründe, haben sie bewiesen, daß Produktion in großem Maßstabe und\n",
      "in Uebereinstimmung mit den Geboten der modernen Wissenschaft stattfinden kann\n",
      "ohne die Existenz einer Klasse von Unternehmern, die einer Klasse von Arbeitern\n",
      "zu thun giebt, daß die Arbeitsmittel, um Früchte zu tragen, nicht als Werkzeug\n",
      "der Herrschaft über und der Ausbeutung gegen den Arbeitenden selbst nonopoli¬\n",
      "sirt zu werden brauchen, und daß Lohnarbeit, wie Sklavenarbeit wie Leibeigen¬\n",
      "schaft, nur eine vorübergehende und untergeordnete Form ist, die dem Untergange\n",
      "geweiht, verschwinden muß vor der assoziirten Arbeit, die ihre schwere Aufgabe\n",
      "mit williger Hand, leichtem Sinn und fröhlichem Herzen erfüllt.\" So der „junge\n",
      "Maxx in einer weltbekannten Urkunde, die am Eingange der modernen inter¬\n",
      "nationalen Arbeiterbewegung steht, und da soll sich die deutsche Sozialdemokratie\n",
      "\n",
      "„im tiefsten Grunde ihres Herzens blamirt“ fühlen, wenn der „alte“ Marx im\n",
      "dritten Bande des [„Kapital“] sich in gleichem Sinne ausspricht. Ach, Herr Platter!\n",
      "Mit dem viertel oder halben Dutzend „Widersprüche\", die Herr Platter\n",
      "sonst noch aus sozialdemokratischen Schriften herausklaubt, steht es ebenso, wie\n",
      "mit den beiden hier gegebenen Proben. Wir verzichten gern auf jede weitere\n",
      "rerzitiums, und gehen auf den Kern dessen ein, was\n",
      "Korrektur dieses Schüler\n",
      "Herr Platter eigentlich will. Er überschreibt den zweiten Hauptabschnitt seines\n",
      "Buches, der sich mit dem Sozialismus beschäftigt: Gewalt oder Arbeit? Das\n",
      "soll heißen: Marx und die deutsche Sozialdemokratie sind auf dem Holzwege,\n",
      "wenn sie politische Macht erobern wollen, um die bürgerliche Gesellschaft durch\n",
      "\n",
      "„Gewalt“ von oben her in die sozialistische Gesellschaft umzukrempeln; die Eman¬\n",
      "zipation der Arbeiterklasse ist nur möglich durch friedliche „Arbeit“ von unten\n",
      "auf, durch Gewerkvereine, Konsumgenossenschaften und Kooperativfabriken. Man\n",
      "merkt jetzt, weshalb Herr Platter aus allen möglichen Schriften von Marx, vom\n",
      "[Kommunistischen Manifest] bis zum dritten Bande des [„Kapital“], alle mög¬\n",
      "lichen Zitate herauschleppt, aber um die Literatur der Internationalen in weitem\n",
      "Bogen herumgeht. Auch nicht mit einem Sterbenswörtchen erfahren die Leser\n",
      "seines Buches, daß es eine solche Literatur giebt. Und doch müßte ein Mann\n",
      "der Wissenschaft, der über Marx als Praktiker und Taktiker der Arbeiterfrage\n",
      "sprechen will, in allererster Reihe auf die Literatur der Internationalen zurück¬\n",
      "gehen. Wir reden hier nicht von den Zeilenreißern der bürgerlichen Tages= und\n",
      "Wochenpresse, die es halten mögen, wie sie wollen, aber ein Professor der Staats¬\n",
      "wissenschaften, der den praktischen Arbeiterpolitiker Marx kritisiren will, der muß\n",
      "so viel Royalität und so viele Kenntnisse besitzen, um diesen Politiker da zu\n",
      "suchen, wo er zu finden ist. Selbstverständlich hat Herr Platter aber seine guten\n",
      "Gründe, sich anzustellen, als gebe es keine Literatur der Internationalen. Denn\n",
      "wenn er sich dieser Literatur auch nur auf Kanonenschußweite nähern würde, so\n"
     ]
    }
   ],
   "source": [
    "print(basic_response)\n",
    "print()\n",
    "print(basic_response.choices[0].message.content)"
   ]
  },
  {
   "cell_type": "code",
   "execution_count": null,
   "id": "Kclp",
   "metadata": {},
   "outputs": [
    {
     "data": {
      "text/html": [
       "<span class=\"markdown prose dark:prose-invert\"><span class=\"paragraph\">Rothkoller.\n",
       "ürst\n",
       "falls gar kein Gewicht darauf zu legen. Und nun gestattet ihnen Marx selbst\n",
       "— sie müssen offenbar sehr erstaunen, wenn sie die Stelle im <mark>„Kapital“</mark> lesen,\n",
       "und sich im tiefsten Grunde ihres Herzens blamirt fühlen, daß sie bisher viel\n",
       "marxistischer waren, als Marx selbst, der offenbar auch nach 1848 noch einiges\n",
       "beobachtete und dachte — von diesem Parteidogma abzuweichen“, und so seiten¬\n",
       "lang weiter.\n",
       "Hören wir nun nach dem „alten“ Max auch den „jungen“ Marx über\n",
       "Kooperativfabriken der Arbeiter. In der Inauguraladresse der Internationalen\n",
       "Arbeiterassoziation heißt es: „Wir sprechen von der Kooperativbewegung, von den\n",
       "auf dem Prinzip der Kooperation beruhenden, durch wenige unverzagte, wenn auch</span>\n",
       "<span class=\"paragraph\">ununterstützte Hände ins Leben gerufenen Fabriken. Der Werth dieser großen\n",
       "sozialen ixperimente kann nicht hoch genug veranschlagt werden. Durch die That,\n",
       "statt der Gründe, haben sie bewiesen, daß Produktion in großem Maßstabe und\n",
       "in Uebereinstimmung mit den Geboten der modernen Wissenschaft stattfinden kann\n",
       "ohne die Existenz einer Klasse von Unternehmern, die einer Klasse von Arbeitern\n",
       "zu thun giebt, daß die Arbeitsmittel, um Früchte zu tragen, nicht als Werkzeug\n",
       "der Herrschaft über und der Ausbeutung gegen den Arbeitenden selbst nonopoli¬\n",
       "sirt zu werden brauchen, und daß Lohnarbeit, wie Sklavenarbeit wie Leibeigen¬\n",
       "schaft, nur eine vorübergehende und untergeordnete Form ist, die dem Untergange\n",
       "geweiht, verschwinden muß vor der assoziirten Arbeit, die ihre schwere Aufgabe\n",
       "mit williger Hand, leichtem Sinn und fröhlichem Herzen erfüllt.\" So der „junge\n",
       "Maxx in einer weltbekannten Urkunde, die am Eingange der modernen inter¬\n",
       "nationalen Arbeiterbewegung steht, und da soll sich die deutsche Sozialdemokratie</span>\n",
       "<span class=\"paragraph\">„im tiefsten Grunde ihres Herzens blamirt“ fühlen, wenn der „alte“ Marx im\n",
       "dritten Bande des <mark>„Kapital“</mark> sich in gleichem Sinne ausspricht. Ach, Herr Platter!\n",
       "Mit dem viertel oder halben Dutzend „Widersprüche\", die Herr Platter\n",
       "sonst noch aus sozialdemokratischen Schriften herausklaubt, steht es ebenso, wie\n",
       "mit den beiden hier gegebenen Proben. Wir verzichten gern auf jede weitere\n",
       "rerzitiums, und gehen auf den Kern dessen ein, was\n",
       "Korrektur dieses Schüler\n",
       "Herr Platter eigentlich will. Er überschreibt den zweiten Hauptabschnitt seines\n",
       "Buches, der sich mit dem Sozialismus beschäftigt: Gewalt oder Arbeit? Das\n",
       "soll heißen: Marx und die deutsche Sozialdemokratie sind auf dem Holzwege,\n",
       "wenn sie politische Macht erobern wollen, um die bürgerliche Gesellschaft durch</span>\n",
       "<span class=\"paragraph\">„Gewalt“ von oben her in die sozialistische Gesellschaft umzukrempeln; die Eman¬\n",
       "zipation der Arbeiterklasse ist nur möglich durch friedliche „Arbeit“ von unten\n",
       "auf, durch Gewerkvereine, Konsumgenossenschaften und Kooperativfabriken. Man\n",
       "merkt jetzt, weshalb Herr Platter aus allen möglichen Schriften von Marx, vom\n",
       "<mark>Kommunistischen Manifest</mark> bis zum dritten Bande des <mark>„Kapital“</mark>, alle mög¬\n",
       "lichen Zitate herauschleppt, aber um die Literatur der Internationalen in weitem\n",
       "Bogen herumgeht. Auch nicht mit einem Sterbenswörtchen erfahren die Leser\n",
       "seines Buches, daß es eine solche Literatur giebt. Und doch müßte ein Mann\n",
       "der Wissenschaft, der über Marx als Praktiker und Taktiker der Arbeiterfrage\n",
       "sprechen will, in allererster Reihe auf die Literatur der Internationalen zurück¬\n",
       "gehen. Wir reden hier nicht von den Zeilenreißern der bürgerlichen Tages= und\n",
       "Wochenpresse, die es halten mögen, wie sie wollen, aber ein Professor der Staats¬\n",
       "wissenschaften, der den praktischen Arbeiterpolitiker Marx kritisiren will, der muß\n",
       "so viel Royalität und so viele Kenntnisse besitzen, um diesen Politiker da zu\n",
       "suchen, wo er zu finden ist. Selbstverständlich hat Herr Platter aber seine guten\n",
       "Gründe, sich anzustellen, als gebe es keine Literatur der Internationalen. Denn\n",
       "wenn er sich dieser Literatur auch nur auf Kanonenschußweite nähern würde, so</span></span>"
      ]
     },
     "metadata": {},
     "output_type": "display_data"
    }
   ],
   "source": [
    "display_response(basic_response)"
   ]
  },
  {
   "cell_type": "markdown",
   "id": "emfo",
   "metadata": {},
   "source": [
    "## One-shot Prompt\n",
    "Trying adding an example to the prompt taken from a different volume than the sample page."
   ]
  },
  {
   "cell_type": "code",
   "execution_count": null,
   "id": "Hstk",
   "metadata": {},
   "outputs": [
    {
     "name": "stdout",
     "output_type": "stream",
     "text": [
      "# Identity\n",
      "You are a research assistant fluent in German and English. You help researchers\n",
      "identify direct title references of works by Karl Marx within a given passage\n",
      "of text.\n",
      "\n",
      "# Instructions\n",
      "* Copy the passage exactly.\n",
      "* Annotate each title reference with square brackets (e.g. [title reference]).\n",
      "\n",
      "# Example\n",
      "\n",
      "<user_query>\n",
      "So wurde das \"Kapital\" uns er¬ völlig erschlossen durch die Polemik gegen\n",
      "Dühring und die Neuveröffentlichung der fast verschollenen Polemik gegen\n",
      "Proudhon. Die Anschauungen des \"Kom¬ munistischen Manifests\" und des \"Kapital\"\n",
      "sind jetzt in der sozialistischen Be¬ wegung allenthalben anerkannt, aber die\n",
      "alte utopistische Denkweise ist zu nahe¬ liegend und zu mächtig, als daß sie\n",
      "nicht immer wieder sich unbewußt geltend, machte.\n",
      "</user_query>\n",
      "\n",
      "<assistant_response>\n",
      "So wurde das [\"Kapital\"] uns er¬ völlig erschlossen durch die Polemik gegen\n",
      "Dühring und die Neuveröffentlichung der fast verschollenen Polemik gegen\n",
      "Proudhon. Die Anschauungen des [\"Kom¬ munistischen Manifests\"] und des [\"Kapital\"]\n",
      "sind jetzt in der sozialistischen Be¬ wegung allenthalben anerkannt, aber die\n",
      "alte utopistische Denkweise ist zu nahe¬ liegend und zu mächtig, als daß sie\n",
      "nicht immer wieder sich unbewußt geltend, machte.\n",
      "</assistant_response>\n",
      "\n"
     ]
    }
   ],
   "source": [
    "# load prompt\n",
    "with open(\"prompts/title_mentions/one_shot.txt\") as f1:\n",
    "    one_shot_prompt = f1.read()\n",
    "print(one_shot_prompt)"
   ]
  },
  {
   "cell_type": "code",
   "execution_count": null,
   "id": "nWHF",
   "metadata": {},
   "outputs": [],
   "source": [
    "# get response\n",
    "one_shot_response = submit_prompt(\n",
    "    task_prompt=one_shot_prompt, user_prompt=sample_page\n",
    ")"
   ]
  },
  {
   "cell_type": "code",
   "execution_count": null,
   "id": "iLit",
   "metadata": {},
   "outputs": [
    {
     "name": "stdout",
     "output_type": "stream",
     "text": [
      "ChatCompletion(id='chatcmpl-BOq2uMrIQK2iUIDTETOlkwD6CUpEF', choices=[Choice(finish_reason='stop', index=0, logprobs=None, message=ChatCompletionMessage(content='Rothkoller.\\nürst\\nfalls gar kein Gewicht darauf zu legen. Und nun gestattet ihnen Marx selbst\\n— sie müssen offenbar sehr erstaunen, wenn sie die Stelle im [„Kapital“] lesen,\\nund sich im tiefsten Grunde ihres Herzens blamirt fühlen, daß sie bisher viel\\nmarxistischer waren, als Marx selbst, der offenbar auch nach 1848 noch einiges\\nbeobachtete und dachte — von diesem Parteidogma abzuweichen“, und so seiten¬\\nlang weiter.\\nHören wir nun nach dem „alten“ Max auch den „jungen“ Marx über\\nKooperativfabriken der Arbeiter. In der Inauguraladresse der Internationalen\\nArbeiterassoziation heißt es: „Wir sprechen von der Kooperativbewegung, von den\\nauf dem Prinzip der Kooperation beruhenden, durch wenige unverzagte, wenn auch\\n\\nununterstützte Hände ins Leben gerufenen Fabriken. Der Werth dieser großen\\nsozialen ixperimente kann nicht hoch genug veranschlagt werden. Durch die That,\\nstatt der Gründe, haben sie bewiesen, daß Produktion in großem Maßstabe und\\nin Uebereinstimmung mit den Geboten der modernen Wissenschaft stattfinden kann\\nohne die Existenz einer Klasse von Unternehmern, die einer Klasse von Arbeitern\\nzu thun giebt, daß die Arbeitsmittel, um Früchte zu tragen, nicht als Werkzeug\\nder Herrschaft über und der Ausbeutung gegen den Arbeitenden selbst nonopoli¬\\nsirt zu werden brauchen, und daß Lohnarbeit, wie Sklavenarbeit wie Leibeigen¬\\nschaft, nur eine vorübergehende und untergeordnete Form ist, die dem Untergange\\ngeweiht, verschwinden muß vor der assoziirten Arbeit, die ihre schwere Aufgabe\\nmit williger Hand, leichtem Sinn und fröhlichem Herzen erfüllt.\" So der „junge\\nMaxx in einer weltbekannten Urkunde, die am Eingange der modernen inter¬\\nnationalen Arbeiterbewegung steht, und da soll sich die deutsche Sozialdemokratie\\n\\n„im tiefsten Grunde ihres Herzens blamirt“ fühlen, wenn der „alte“ Marx im\\ndritten Bande des [„Kapital“] sich in gleichem Sinne ausspricht. Ach, Herr Platter!\\nMit dem viertel oder halben Dutzend „Widersprüche\", die Herr Platter\\nsonst noch aus sozialdemokratischen Schriften herausklaubt, steht es ebenso, wie\\nmit den beiden hier gegebenen Proben. Wir verzichten gern auf jede weitere\\nrerzitiums, und gehen auf den Kern dessen ein, was\\nKorrektur dieses Schüler\\nHerr Platter eigentlich will. Er überschreibt den zweiten Hauptabschnitt seines\\nBuches, der sich mit dem Sozialismus beschäftigt: Gewalt oder Arbeit? Das\\nsoll heißen: Marx und die deutsche Sozialdemokratie sind auf dem Holzwege,\\nwenn sie politische Macht erobern wollen, um die bürgerliche Gesellschaft durch\\n\\n„Gewalt“ von oben her in die sozialistische Gesellschaft umzukrempeln; die Eman¬\\nzipation der Arbeiterklasse ist nur möglich durch friedliche „Arbeit“ von unten\\nauf, durch Gewerkvereine, Konsumgenossenschaften und Kooperativfabriken. Man\\nmerkt jetzt, weshalb Herr Platter aus allen möglichen Schriften von Marx, vom\\n[Kommunistischen Manifest] bis zum dritten Bande des [„Kapital“], alle mög¬\\nlichen Zitate herauschleppt, aber um die Literatur der Internationalen in weitem\\nBogen herumgeht. Auch nicht mit einem Sterbenswörtchen erfahren die Leser\\nseines Buches, daß es eine solche Literatur giebt. Und doch müßte ein Mann\\nder Wissenschaft, der über Marx als Praktiker und Taktiker der Arbeiterfrage\\nsprechen will, in allererster Reihe auf die Literatur der Internationalen zurück¬\\ngehen. Wir reden hier nicht von den Zeilenreißern der bürgerlichen Tages= und\\nWochenpresse, die es halten mögen, wie sie wollen, aber ein Professor der Staats¬\\nwissenschaften, der den praktischen Arbeiterpolitiker Marx kritisiren will, der muß\\nso viel Royalität und so viele Kenntnisse besitzen, um diesen Politiker da zu\\nsuchen, wo er zu finden ist. Selbstverständlich hat Herr Platter aber seine guten\\nGründe, sich anzustellen, als gebe es keine Literatur der Internationalen. Denn\\nwenn er sich dieser Literatur auch nur auf Kanonenschußweite nähern würde, so', refusal=None, role='assistant', annotations=None, audio=None, function_call=None, tool_calls=None), content_filter_results={'hate': {'filtered': False, 'severity': 'safe'}, 'self_harm': {'filtered': False, 'severity': 'safe'}, 'sexual': {'filtered': False, 'severity': 'safe'}, 'violence': {'filtered': False, 'severity': 'safe'}})], created=1745259636, model='gpt-4o-2024-05-13', object='chat.completion', service_tier=None, system_fingerprint='fp_ee1d74bde0', usage=CompletionUsage(completion_tokens=967, prompt_tokens=1284, total_tokens=2251, completion_tokens_details=CompletionTokensDetails(accepted_prediction_tokens=0, audio_tokens=0, reasoning_tokens=0, rejected_prediction_tokens=0), prompt_tokens_details=PromptTokensDetails(audio_tokens=0, cached_tokens=0)), prompt_filter_results=[{'prompt_index': 0, 'content_filter_results': {'hate': {'filtered': False, 'severity': 'safe'}, 'self_harm': {'filtered': False, 'severity': 'safe'}, 'sexual': {'filtered': False, 'severity': 'safe'}, 'violence': {'filtered': False, 'severity': 'safe'}}}])\n",
      "\n",
      "Rothkoller.\n",
      "ürst\n",
      "falls gar kein Gewicht darauf zu legen. Und nun gestattet ihnen Marx selbst\n",
      "— sie müssen offenbar sehr erstaunen, wenn sie die Stelle im [„Kapital“] lesen,\n",
      "und sich im tiefsten Grunde ihres Herzens blamirt fühlen, daß sie bisher viel\n",
      "marxistischer waren, als Marx selbst, der offenbar auch nach 1848 noch einiges\n",
      "beobachtete und dachte — von diesem Parteidogma abzuweichen“, und so seiten¬\n",
      "lang weiter.\n",
      "Hören wir nun nach dem „alten“ Max auch den „jungen“ Marx über\n",
      "Kooperativfabriken der Arbeiter. In der Inauguraladresse der Internationalen\n",
      "Arbeiterassoziation heißt es: „Wir sprechen von der Kooperativbewegung, von den\n",
      "auf dem Prinzip der Kooperation beruhenden, durch wenige unverzagte, wenn auch\n",
      "\n",
      "ununterstützte Hände ins Leben gerufenen Fabriken. Der Werth dieser großen\n",
      "sozialen ixperimente kann nicht hoch genug veranschlagt werden. Durch die That,\n",
      "statt der Gründe, haben sie bewiesen, daß Produktion in großem Maßstabe und\n",
      "in Uebereinstimmung mit den Geboten der modernen Wissenschaft stattfinden kann\n",
      "ohne die Existenz einer Klasse von Unternehmern, die einer Klasse von Arbeitern\n",
      "zu thun giebt, daß die Arbeitsmittel, um Früchte zu tragen, nicht als Werkzeug\n",
      "der Herrschaft über und der Ausbeutung gegen den Arbeitenden selbst nonopoli¬\n",
      "sirt zu werden brauchen, und daß Lohnarbeit, wie Sklavenarbeit wie Leibeigen¬\n",
      "schaft, nur eine vorübergehende und untergeordnete Form ist, die dem Untergange\n",
      "geweiht, verschwinden muß vor der assoziirten Arbeit, die ihre schwere Aufgabe\n",
      "mit williger Hand, leichtem Sinn und fröhlichem Herzen erfüllt.\" So der „junge\n",
      "Maxx in einer weltbekannten Urkunde, die am Eingange der modernen inter¬\n",
      "nationalen Arbeiterbewegung steht, und da soll sich die deutsche Sozialdemokratie\n",
      "\n",
      "„im tiefsten Grunde ihres Herzens blamirt“ fühlen, wenn der „alte“ Marx im\n",
      "dritten Bande des [„Kapital“] sich in gleichem Sinne ausspricht. Ach, Herr Platter!\n",
      "Mit dem viertel oder halben Dutzend „Widersprüche\", die Herr Platter\n",
      "sonst noch aus sozialdemokratischen Schriften herausklaubt, steht es ebenso, wie\n",
      "mit den beiden hier gegebenen Proben. Wir verzichten gern auf jede weitere\n",
      "rerzitiums, und gehen auf den Kern dessen ein, was\n",
      "Korrektur dieses Schüler\n",
      "Herr Platter eigentlich will. Er überschreibt den zweiten Hauptabschnitt seines\n",
      "Buches, der sich mit dem Sozialismus beschäftigt: Gewalt oder Arbeit? Das\n",
      "soll heißen: Marx und die deutsche Sozialdemokratie sind auf dem Holzwege,\n",
      "wenn sie politische Macht erobern wollen, um die bürgerliche Gesellschaft durch\n",
      "\n",
      "„Gewalt“ von oben her in die sozialistische Gesellschaft umzukrempeln; die Eman¬\n",
      "zipation der Arbeiterklasse ist nur möglich durch friedliche „Arbeit“ von unten\n",
      "auf, durch Gewerkvereine, Konsumgenossenschaften und Kooperativfabriken. Man\n",
      "merkt jetzt, weshalb Herr Platter aus allen möglichen Schriften von Marx, vom\n",
      "[Kommunistischen Manifest] bis zum dritten Bande des [„Kapital“], alle mög¬\n",
      "lichen Zitate herauschleppt, aber um die Literatur der Internationalen in weitem\n",
      "Bogen herumgeht. Auch nicht mit einem Sterbenswörtchen erfahren die Leser\n",
      "seines Buches, daß es eine solche Literatur giebt. Und doch müßte ein Mann\n",
      "der Wissenschaft, der über Marx als Praktiker und Taktiker der Arbeiterfrage\n",
      "sprechen will, in allererster Reihe auf die Literatur der Internationalen zurück¬\n",
      "gehen. Wir reden hier nicht von den Zeilenreißern der bürgerlichen Tages= und\n",
      "Wochenpresse, die es halten mögen, wie sie wollen, aber ein Professor der Staats¬\n",
      "wissenschaften, der den praktischen Arbeiterpolitiker Marx kritisiren will, der muß\n",
      "so viel Royalität und so viele Kenntnisse besitzen, um diesen Politiker da zu\n",
      "suchen, wo er zu finden ist. Selbstverständlich hat Herr Platter aber seine guten\n",
      "Gründe, sich anzustellen, als gebe es keine Literatur der Internationalen. Denn\n",
      "wenn er sich dieser Literatur auch nur auf Kanonenschußweite nähern würde, so\n"
     ]
    }
   ],
   "source": [
    "print(one_shot_response)\n",
    "print()\n",
    "print(one_shot_response.choices[0].message.content)"
   ]
  },
  {
   "cell_type": "code",
   "execution_count": null,
   "id": "ZHCJ",
   "metadata": {},
   "outputs": [
    {
     "data": {
      "text/html": [
       "<span class=\"markdown prose dark:prose-invert\"><span class=\"paragraph\">Rothkoller.\n",
       "ürst\n",
       "falls gar kein Gewicht darauf zu legen. Und nun gestattet ihnen Marx selbst\n",
       "— sie müssen offenbar sehr erstaunen, wenn sie die Stelle im <mark>„Kapital“</mark> lesen,\n",
       "und sich im tiefsten Grunde ihres Herzens blamirt fühlen, daß sie bisher viel\n",
       "marxistischer waren, als Marx selbst, der offenbar auch nach 1848 noch einiges\n",
       "beobachtete und dachte — von diesem Parteidogma abzuweichen“, und so seiten¬\n",
       "lang weiter.\n",
       "Hören wir nun nach dem „alten“ Max auch den „jungen“ Marx über\n",
       "Kooperativfabriken der Arbeiter. In der Inauguraladresse der Internationalen\n",
       "Arbeiterassoziation heißt es: „Wir sprechen von der Kooperativbewegung, von den\n",
       "auf dem Prinzip der Kooperation beruhenden, durch wenige unverzagte, wenn auch</span>\n",
       "<span class=\"paragraph\">ununterstützte Hände ins Leben gerufenen Fabriken. Der Werth dieser großen\n",
       "sozialen ixperimente kann nicht hoch genug veranschlagt werden. Durch die That,\n",
       "statt der Gründe, haben sie bewiesen, daß Produktion in großem Maßstabe und\n",
       "in Uebereinstimmung mit den Geboten der modernen Wissenschaft stattfinden kann\n",
       "ohne die Existenz einer Klasse von Unternehmern, die einer Klasse von Arbeitern\n",
       "zu thun giebt, daß die Arbeitsmittel, um Früchte zu tragen, nicht als Werkzeug\n",
       "der Herrschaft über und der Ausbeutung gegen den Arbeitenden selbst nonopoli¬\n",
       "sirt zu werden brauchen, und daß Lohnarbeit, wie Sklavenarbeit wie Leibeigen¬\n",
       "schaft, nur eine vorübergehende und untergeordnete Form ist, die dem Untergange\n",
       "geweiht, verschwinden muß vor der assoziirten Arbeit, die ihre schwere Aufgabe\n",
       "mit williger Hand, leichtem Sinn und fröhlichem Herzen erfüllt.\" So der „junge\n",
       "Maxx in einer weltbekannten Urkunde, die am Eingange der modernen inter¬\n",
       "nationalen Arbeiterbewegung steht, und da soll sich die deutsche Sozialdemokratie</span>\n",
       "<span class=\"paragraph\">„im tiefsten Grunde ihres Herzens blamirt“ fühlen, wenn der „alte“ Marx im\n",
       "dritten Bande des <mark>„Kapital“</mark> sich in gleichem Sinne ausspricht. Ach, Herr Platter!\n",
       "Mit dem viertel oder halben Dutzend „Widersprüche\", die Herr Platter\n",
       "sonst noch aus sozialdemokratischen Schriften herausklaubt, steht es ebenso, wie\n",
       "mit den beiden hier gegebenen Proben. Wir verzichten gern auf jede weitere\n",
       "rerzitiums, und gehen auf den Kern dessen ein, was\n",
       "Korrektur dieses Schüler\n",
       "Herr Platter eigentlich will. Er überschreibt den zweiten Hauptabschnitt seines\n",
       "Buches, der sich mit dem Sozialismus beschäftigt: Gewalt oder Arbeit? Das\n",
       "soll heißen: Marx und die deutsche Sozialdemokratie sind auf dem Holzwege,\n",
       "wenn sie politische Macht erobern wollen, um die bürgerliche Gesellschaft durch</span>\n",
       "<span class=\"paragraph\">„Gewalt“ von oben her in die sozialistische Gesellschaft umzukrempeln; die Eman¬\n",
       "zipation der Arbeiterklasse ist nur möglich durch friedliche „Arbeit“ von unten\n",
       "auf, durch Gewerkvereine, Konsumgenossenschaften und Kooperativfabriken. Man\n",
       "merkt jetzt, weshalb Herr Platter aus allen möglichen Schriften von Marx, vom\n",
       "<mark>Kommunistischen Manifest</mark> bis zum dritten Bande des <mark>„Kapital“</mark>, alle mög¬\n",
       "lichen Zitate herauschleppt, aber um die Literatur der Internationalen in weitem\n",
       "Bogen herumgeht. Auch nicht mit einem Sterbenswörtchen erfahren die Leser\n",
       "seines Buches, daß es eine solche Literatur giebt. Und doch müßte ein Mann\n",
       "der Wissenschaft, der über Marx als Praktiker und Taktiker der Arbeiterfrage\n",
       "sprechen will, in allererster Reihe auf die Literatur der Internationalen zurück¬\n",
       "gehen. Wir reden hier nicht von den Zeilenreißern der bürgerlichen Tages= und\n",
       "Wochenpresse, die es halten mögen, wie sie wollen, aber ein Professor der Staats¬\n",
       "wissenschaften, der den praktischen Arbeiterpolitiker Marx kritisiren will, der muß\n",
       "so viel Royalität und so viele Kenntnisse besitzen, um diesen Politiker da zu\n",
       "suchen, wo er zu finden ist. Selbstverständlich hat Herr Platter aber seine guten\n",
       "Gründe, sich anzustellen, als gebe es keine Literatur der Internationalen. Denn\n",
       "wenn er sich dieser Literatur auch nur auf Kanonenschußweite nähern würde, so</span></span>"
      ]
     },
     "metadata": {},
     "output_type": "display_data"
    }
   ],
   "source": [
    "# Finds the texts of interest but does not include volume-level information.\n",
    "# Misses the additional speech (https://www.marxists.org/deutsch/archiv/marx-engels/1864/10/inaugadr.htm) in the first paragraph\n",
    "display_response(one_shot_response)"
   ]
  },
  {
   "cell_type": "markdown",
   "id": "ROlb",
   "metadata": {},
   "source": [
    "## Switching to smaller text chunks\n",
    "Prompting with a full page appears to take a fairly long time (~30s), so explore response times for smaller chunks.\n",
    "\n",
    "**Results: Faster responses for smaller text chunks.**"
   ]
  },
  {
   "cell_type": "code",
   "execution_count": null,
   "id": "qnkX",
   "metadata": {},
   "outputs": [],
   "source": [
    "text_chunks = sample_page.split(\"\\n\\n\")"
   ]
  },
  {
   "cell_type": "code",
   "execution_count": null,
   "id": "TqIu",
   "metadata": {},
   "outputs": [
    {
     "data": {
      "text/html": [
       "<span class=\"markdown prose dark:prose-invert\"><span class=\"paragraph\">Rothkoller.\n",
       "ürst\n",
       "falls gar kein Gewicht darauf zu legen. Und nun gestattet ihnen Marx selbst\n",
       "— sie müssen offenbar sehr erstaunen, wenn sie die Stelle im <mark>„Kapital“</mark> lesen,\n",
       "und sich im tiefsten Grunde ihres Herzens blamirt fühlen, daß sie bisher viel\n",
       "marxistischer waren, als Marx selbst, der offenbar auch nach 1848 noch einiges\n",
       "beobachtete und dachte — von diesem Parteidogma abzuweichen“, und so seiten¬\n",
       "lang weiter.\n",
       "Hören wir nun nach dem „alten“ Max auch den „jungen“ Marx über\n",
       "Kooperativfabriken der Arbeiter. In der Inauguraladresse der Internationalen\n",
       "Arbeiterassoziation heißt es: „Wir sprechen von der Kooperativbewegung, von den\n",
       "auf dem Prinzip der Kooperation beruhenden, durch wenige unverzagte, wenn auch</span></span>"
      ]
     },
     "metadata": {},
     "output_type": "display_data"
    }
   ],
   "source": [
    "\n",
    "#\n",
    "display_response(submit_prompt(task_prompt=basic_prompt, user_prompt=text_chunks[0]))"
   ]
  },
  {
   "cell_type": "code",
   "execution_count": null,
   "id": "Vxnm",
   "metadata": {},
   "outputs": [
    {
     "data": {
      "text/html": [
       "<span class=\"markdown prose dark:prose-invert\"><span class=\"paragraph\">ununterstützte Hände ins Leben gerufenen Fabriken. Der Werth dieser großen\n",
       "sozialen ixperimente kann nicht hoch genug veranschlagt werden. Durch die That,\n",
       "statt der Gründe, haben sie bewiesen, daß Produktion in großem Maßstabe und\n",
       "in Uebereinstimmung mit den Geboten der modernen Wissenschaft stattfinden kann\n",
       "ohne die Existenz einer Klasse von Unternehmern, die einer Klasse von Arbeitern\n",
       "zu thun giebt, daß die Arbeitsmittel, um Früchte zu tragen, nicht als Werkzeug\n",
       "der Herrschaft über und der Ausbeutung gegen den Arbeitenden selbst nonopoli¬\n",
       "sirt zu werden brauchen, und daß Lohnarbeit, wie Sklavenarbeit wie Leibeigen¬\n",
       "schaft, nur eine vorübergehende und untergeordnete Form ist, die dem Untergange\n",
       "geweiht, verschwinden muß vor der assoziirten Arbeit, die ihre schwere Aufgabe\n",
       "mit williger Hand, leichtem Sinn und fröhlichem Herzen erfüllt.\" So der „<mark>junge\n",
       "Marx</mark> in einer weltbekannten Urkunde, die am Eingange der modernen inter¬\n",
       "nationalen Arbeiterbewegung steht, und da soll sich die deutsche Sozialdemokratie</span></span>"
      ]
     },
     "metadata": {},
     "output_type": "display_data"
    }
   ],
   "source": [
    "# Spurious annotation\n",
    "display_response(submit_prompt(task_prompt=basic_prompt, user_prompt=text_chunks[1]))"
   ]
  },
  {
   "cell_type": "code",
   "execution_count": null,
   "id": "DnEU",
   "metadata": {},
   "outputs": [
    {
     "data": {
      "text/html": [
       "<span class=\"markdown prose dark:prose-invert\"><span class=\"paragraph\">„im tiefsten Grunde ihres Herzens blamirt“ fühlen, wenn der „alte“ Marx im dritten Bande des <mark>„Kapital“</mark> sich in gleichem Sinne ausspricht. Ach, Herr Platter! Mit dem viertel oder halben Dutzend „Widersprüche\", die Herr Platter sonst noch aus sozialdemokratischen Schriften herausklaubt, steht es ebenso, wie mit den beiden hier gegebenen Proben. Wir verzichten gern auf jede weitere rerzitiums, und gehen auf den Kern dessen ein, was Korrektur dieses Schüler Herr Platter eigentlich will. Er überschreibt den zweiten Hauptabschnitt seines Buches, der sich mit dem Sozialismus beschäftigt: Gewalt oder Arbeit? Das soll heißen: Marx und die deutsche Sozialdemokratie sind auf dem Holzwege, wenn sie politische Macht erobern wollen, um die bürgerliche Gesellschaft durch</span></span>"
      ]
     },
     "metadata": {},
     "output_type": "display_data"
    }
   ],
   "source": [
    "display_response(submit_prompt(task_prompt=basic_prompt, user_prompt=text_chunks[2]))"
   ]
  },
  {
   "cell_type": "code",
   "execution_count": null,
   "id": "ulZA",
   "metadata": {},
   "outputs": [
    {
     "data": {
      "text/html": [
       "<span class=\"markdown prose dark:prose-invert\"><span class=\"paragraph\">„Gewalt“ von oben her in die sozialistische Gesellschaft umzukrempeln; die Eman¬\n",
       "zipation der Arbeiterklasse ist nur möglich durch friedliche „Arbeit“ von unten\n",
       "auf, durch Gewerkvereine, Konsumgenossenschaften und Kooperativfabriken. Man\n",
       "merkt jetzt, weshalb Herr Platter aus allen möglichen Schriften von Marx, vom\n",
       "<mark>Kommunistischen Manifest</mark> bis zum dritten Bande des <mark>Kapital</mark>, alle mög¬\n",
       "lichen Zitate herauschleppt, aber um die Literatur der Internationalen in weitem\n",
       "Bogen herumgeht. Auch nicht mit einem Sterbenswörtchen erfahren die Leser\n",
       "seines Buches, daß es eine solche Literatur gibt. Und doch müßte ein Mann\n",
       "der Wissenschaft, der über Marx als Praktiker und Taktiker der Arbeiterfrage\n",
       "sprechen will, in allererster Reihe auf die Literatur der Internationalen zurück¬\n",
       "gehen. Wir reden hier nicht von den Zeilenreißern der bürgerlichen Tages= und\n",
       "Wochenpresse, die es halten mögen, wie sie wollen, aber ein Professor der Staats¬\n",
       "wissenschaften, der den praktischen Arbeiterpolitiker Marx kritisieren will, der muß\n",
       "so viel Loyalität und so viele Kenntnisse besitzen, um diesen Politiker da zu\n",
       "suchen, wo er zu finden ist. Selbstverständlich hat Herr Platter aber seine guten\n",
       "Gründe, sich anzustellen, als gebe es keine Literatur der Internationalen. Denn\n",
       "wenn er sich dieser Literatur auch nur auf Kanonenschußweite nähern würde, so</span></span>"
      ]
     },
     "metadata": {},
     "output_type": "display_data"
    }
   ],
   "source": [
    "display_response(submit_prompt(task_prompt=basic_prompt, user_prompt=text_chunks[3]))"
   ]
  },
  {
   "cell_type": "markdown",
   "id": "ecfG",
   "metadata": {},
   "source": [
    "## Conclusions\n",
    "- Prompting to use square brackets for annotations appears to work, will be relatively easy to convert for viewing assuming the underlying text does not include square brackets.\n",
    "- Not clear that adding an example to the prompt helps.\n",
    "- The newer prompt template appears to take a lot more time, but this might also be caused by the length of the sample text."
   ]
  }
 ],
 "metadata": {},
 "nbformat": 4,
 "nbformat_minor": 5
}
