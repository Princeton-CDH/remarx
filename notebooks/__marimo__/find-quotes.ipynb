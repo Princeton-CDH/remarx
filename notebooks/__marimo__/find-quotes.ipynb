{
 "cells": [
  {
   "cell_type": "code",
   "execution_count": null,
   "id": "Hbol",
   "metadata": {},
   "outputs": [],
   "source": [
    "import marimo as mo\n",
    "import polars as pl\n",
    "import re"
   ]
  },
  {
   "cell_type": "markdown",
   "id": "MJUe",
   "metadata": {},
   "source": [
    "# Finding general quotes in Die Neue Zeit\n",
    "This notebook explores finding quotes within Die Neue Zeit article using simple search rules.\n",
    "Namely, that a quote is text that occurs between the starting quote character „ and an ending quote character (either “ or \").\n",
    "In practice, this identifies quotations as well as titles and concepts.\n",
    "\n",
    "**Findings:** This simple approach works when the underlying transcription is accurate and when quotations are not broken across pages. The latter is especially a problem for block quotes."
   ]
  },
  {
   "cell_type": "code",
   "execution_count": null,
   "id": "vblA",
   "metadata": {},
   "outputs": [],
   "source": [
    "def find_quotes(text):\n",
    "    search_text = text\n",
    "    results = []\n",
    "    # Find basic quotes of the form „ ... “ or „ ... \"\n",
    "    for match in re.finditer(r\"„[^“\\\"]+[“\\\"]\", search_text):\n",
    "        # Add match to results\n",
    "        results.append(match)\n",
    "        ## White out match\n",
    "        start, end = match.span()\n",
    "        search_text = (\n",
    "            search_text[:start] + \" \" * (end - start) + search_text[end:]\n",
    "        )\n",
    "    return results"
   ]
  },
  {
   "cell_type": "code",
   "execution_count": null,
   "id": "bkHC",
   "metadata": {},
   "outputs": [],
   "source": [
    "## Load quotes and page data"
   ]
  },
  {
   "cell_type": "code",
   "execution_count": null,
   "id": "lEQa",
   "metadata": {},
   "outputs": [
    {
     "data": {
      "text/html": [
       "<marimo-ui-element object-id='lEQa-0' random-id='4aa93f63-778a-d0d8-4e1d-9bffc5e0a628'><marimo-table data-initial-value='[]' data-label='null' data-data='&quot;./@file/8425-336559-soY3Lqet.json&quot;' data-total-rows='16' data-total-columns='5' data-banner-text='&quot;&quot;' data-pagination='true' data-page-size='10' data-field-types='[[&quot;FILE&quot;, [&quot;string&quot;, &quot;str&quot;]], [&quot;page_index&quot;, [&quot;integer&quot;, &quot;i64&quot;]], [&quot;TAGS&quot;, [&quot;string&quot;, &quot;str&quot;]], [&quot;QUOTE_TRANSCRIPTION&quot;, [&quot;string&quot;, &quot;str&quot;]], [&quot;start_index&quot;, [&quot;integer&quot;, &quot;i64&quot;]]]' data-show-filters='true' data-show-download='true' data-show-column-summaries='true' data-row-headers='[]' data-has-stable-row-id='false' data-lazy='false' data-preload='false'></marimo-table></marimo-ui-element>"
      ]
     },
     "metadata": {},
     "output_type": "display_data"
    }
   ],
   "source": [
    "# Load quotes data\n",
    "quotes_data = pl.read_csv(\"data/direct_quotes_subset.csv\")\n",
    "quotes_data.select(\n",
    "    \"FILE\", \"page_index\", \"TAGS\", \"QUOTE_TRANSCRIPTION\", \"start_index\"\n",
    ").sort(\"page_index\", \"start_index\")"
   ]
  },
  {
   "cell_type": "code",
   "execution_count": null,
   "id": "PKri",
   "metadata": {},
   "outputs": [
    {
     "data": {
      "text/html": [
       "<marimo-ui-element object-id='PKri-0' random-id='848fb0a5-9dd5-f9c3-f466-1f09e72e8fab'><marimo-table data-initial-value='[]' data-label='null' data-data='&quot;./@file/41050-336559-D9YzBmUC.json&quot;' data-total-rows='10' data-total-columns='3' data-banner-text='&quot;&quot;' data-pagination='true' data-page-size='10' data-field-types='[[&quot;FILE&quot;, [&quot;string&quot;, &quot;str&quot;]], [&quot;page_index&quot;, [&quot;integer&quot;, &quot;i64&quot;]], [&quot;page_text&quot;, [&quot;string&quot;, &quot;str&quot;]]]' data-show-filters='true' data-show-download='true' data-show-column-summaries='false' data-row-headers='[]' data-has-stable-row-id='false' data-lazy='false' data-preload='false'></marimo-table></marimo-ui-element>"
      ]
     },
     "metadata": {},
     "output_type": "display_data"
    }
   ],
   "source": [
    "# Convert quote data into page data\n",
    "page_data = (\n",
    "    quotes_data.unique(\"page_text\")\n",
    "    .select(\"FILE\", \"page_index\", \"page_text\")\n",
    "    .sort(\"page_index\")\n",
    ")\n",
    "page_data"
   ]
  },
  {
   "cell_type": "markdown",
   "id": "Xref",
   "metadata": {},
   "source": [
    "## View Results by Page"
   ]
  },
  {
   "cell_type": "code",
   "execution_count": null,
   "id": "SFPL",
   "metadata": {},
   "outputs": [],
   "source": [
    "page_slider = mo.ui.slider(start=1, stop=len(page_data.rows()), value=2)"
   ]
  },
  {
   "cell_type": "code",
   "execution_count": null,
   "id": "BYtC",
   "metadata": {},
   "outputs": [
    {
     "data": {
      "text/html": [
       "<div style='display: flex;flex: 1;flex-direction: column;justify-content: flex-start;align-items: normal;flex-wrap: nowrap;gap: 0.5rem'><span class=\"markdown prose dark:prose-invert\"><span class=\"paragraph\">Select Slider:</span></span><marimo-ui-element object-id='SFPL-0' random-id='79c1d2df-8d63-7a49-dd57-153f8cd53696'><marimo-slider data-initial-value='2' data-label='null' data-start='1' data-stop='10' data-steps='[]' data-debounce='false' data-orientation='&quot;horizontal&quot;' data-show-value='false' data-full-width='false'></marimo-slider></marimo-ui-element><span class=\"markdown prose dark:prose-invert\"><span class=\"paragraph\">Selected Page: 2</span></span></div>"
      ]
     },
     "metadata": {},
     "output_type": "display_data"
    }
   ],
   "source": [
    "mo.vstack(\n",
    "    [\n",
    "        mo.md(\"Select Slider:\"),\n",
    "        page_slider,\n",
    "        mo.md(f\"Selected Page: {page_slider.value}\"),\n",
    "    ]\n",
    ")"
   ]
  },
  {
   "cell_type": "code",
   "execution_count": null,
   "id": "RGSE",
   "metadata": {},
   "outputs": [],
   "source": [
    "# Store notes for pages (index by page id)\n",
    "notes = {\n",
    "    18: \"\"\"- Corresponds to page 25\"\"\",\n",
    "    38: \"\"\"- Corresponds to page 43\\n- Missing leading quote mark: \"Frage an:\\n<mark>**„**</mark>Bet gewissem\"\\n- Spurious quote mark: \"die Naturprodukte nicht!<mark>**\"**</mark> Hier\"\n",
    "    \"\"\",\n",
    "    76: \"\"\"- Corresponds to page 76\\n- Missing ending quote mark, transcribed as period: \"und Schön¬\n",
    "geister<mark>**.**</mark>\\n— heißt es\\n- Missing ending quote mark: \"die Verwirklichung der Philssophie<mark>**“**</mark> (a. a. O. S. 85).\"\n",
    "\"\"\",\n",
    "    256: \"\"\"- Corresponds to page 231\"\"\",\n",
    "    301: \"\"\"- Corresponds to page 268\\n- Ending block quote not captured because it continues to the next page: \"„Die Kommunisten [...]\"\n",
    "    \"\"\",\n",
    "    499: \"\"\"- Corresponds to page 289\"\"\",\n",
    "    545: \"\"\"- Corresponds to page 493\\n- Missing ending quote, transcribed as ¬: \"die „Heilige Familie<mark>**¬**</mark> zurück\"\n",
    "    \"\"\",\n",
    "    546: \"\"\"- Corresponds to page 494\\n- Spurious quote mark: \"Produktionsprozesse\\nleitet,<mark>**“**</mark> wiedergefunden\"\n",
    "    \"\"\",\n",
    "    549: \"\"\"- Corresponds to page 497\\n- Potentially incorrect annotations. Does this page contain any direct quotations from Kapital, or are there just citations (e.g., the footnote)? - The text seems to be missing the closing quotation for a referenced title. As a result, several title mentions are grouped together.\"\"\",\n",
    "    661: \"\"\"- Corresponds to page 612\"\"\",\n",
    "}"
   ]
  },
  {
   "cell_type": "code",
   "execution_count": null,
   "id": "Kclp",
   "metadata": {},
   "outputs": [
    {
     "name": "stdout",
     "output_type": "stream",
     "text": [
      "Raw Page Text:\n",
      "La Barbe: Die Steuern im türkischen Armenien &c.\n",
      "437\n",
      "das Stehlen kolossale Dinensionen annimmt. Klee wird gewöhnlich zweimal¬\n",
      "hoch wie Heit eingeschätzt. Die Einnehmer schätzen alle ländlichen Produkte zu\n",
      "den Preisen der Stadt, während in der asiatischen Türkei, wie in allen rück¬\n",
      "ständigen Ländern, wo keine guten Verkehrsmittel vorhanden sind, ein sehr\n",
      "bedeutender Unterschied zwischen den Preisen der Lebensmittel in der Stadt und\n",
      "auf dem flachen Lande besteht; in den Dörfern ist alles billiger als in der Stadt.\n",
      "Bei Gomüsen, Honig, Früchten u. s. w. wird das Maß nach dem Augen¬\n",
      "schein, annähernd abgeschätzt. Der Einnehmer selbst schätzt ab! Er schätzt das¬\n",
      "Maß „annähernd“ ab (gewiß immer das Doppelte), er bestimmt den Preis nach\n",
      "seinem freien Ermessen und dann fordert er das Achtel desselben in Geld. Und¬\n",
      "das ist das Achtel des türkischen Gesetzes! Oft, sehr oft bietet der arme Bauer¬\n",
      "den ganzen Bruttoertrag seines Feldes, seines Gemüse- oder Obstgartens,\n",
      "nur unt dieser fluchwürdigen Steuer zu entgehen.... Allein der Wucherer und\n",
      "sein Einnehmer verlangen, unterstüitzt von Polizei und stehendem Heer Geld und\n",
      "nur Geld; sie wollen die Naturprodukte nicht!\"\n",
      "Hier sind wir zu dem entscheidenden Punkte gekommen, in dem das Elend¬\n",
      "Armeniens, der Provinzen des türkischen Reichs überhaupt wurzelt. Die Ursache,\n",
      "ihres Elends ist dieselbe, die den französischen Bauern unter Ludwig XIV ruinirte.\n",
      "Bis zu Ludwig XIV wurden die Steuern in Naturprodukten erhoben,\n",
      "unter Ludwig XIV. ersetzte man die Naturalsteuer durch die Steuer in baarem,\n",
      "Welch' kleine, einfache Thatfache, scheinbar unwichtig ... aber welch¬\n",
      "Geld.\n",
      "erschreckendes Elend, welch' jammervoller Pauperismus ging daraus hervor!,\n",
      "Wir führen die Worte von Karl Marx über diese Frage an:\n",
      "Bet gewissem Höhegrad und Umfang der Waarenproduktion greift die Funktion\n",
      "des Geldes als Zahlungsmittel über die Sphäre der Waarenzirkulation hinaus.\n",
      "Es wird die allgeneine Waare der Kontrakte. Renten, Steuern u. s. w. ver¬\n",
      "wandeln sich aus Naturallieferungen in Geldzahlungen. Wie sehr diese Um¬\n",
      "wandlung durch die Gesammtgestalt des Produktionsprozefses bedingt wird, be¬\n",
      "weist z. B. der zweimal gescheiterte Versuch des römischen Kaiserreichs, alle Ab¬\n",
      "gaben in Geld zu erheben. Das ungeheure Elend des französischen Landvolts¬\n",
      "unter Ludwig XIV., das Boisguillebert, Marschall Vauban u. s. w. so beredt\n",
      "denunziren, war nicht nur der Steuerhöhe geschuldet, sondern auch der Verwand¬\n",
      "lung der Naturalsteuer in Geldsteuer. Wenn andererseits die Naturalform der\n",
      "Grundrente, in Asien zugleich das Hauptelement der Staatssteuer, dort auf Pro¬\n",
      "duktionselementen beruht, welche sich mit der Umwandelbarkeit von Natural¬\n",
      "verhältnissen reproduziren erhält jene Zahlungsform rückwirkend die alte Pro¬\n",
      "duktionsform. Sie bildet eines der Selbsterhaltungsgeheimnisse des\n",
      "türkischen Reichs.“ („Kapital“, I. Band, 2. Auflage, Seite 122.),\n",
      "Die Naturalform der Steuern ist „eins der Selbsterhaltungsgeheimnisse\n",
      "des türkischen Reichs\", sagt Marx; er hatte damit vollkommen Recht damals als¬\n",
      "er das „Kapital\" schrieb. Aber seitdem hat sich das gründlich geändert.\n",
      "Wäre das türkische Reich von Ländern der gleichen oder noch niedrigerer\n",
      "Kulturstufe umgeben, so hätte sich in seinem Steuerwesen nichts geändert. Allein\n",
      "die Türket ist umringt von europäischen Ländern mit hochentwickelter kapitalistischer\n",
      "Produktionsweise, zu denen sie in Beziehungen steht. Ein Land, welches noch¬\n",
      "„Naturalwirthschaft\" hat, wo der Tauschhandel ohne Geld noch oft vorkommt,\n",
      "ein solches Land ist mit Rußland, England, Frankreich und anderen Ländern\n",
      "mit entwickelter kapitalistischer Produktionsweise in innigen Verkehr getreten.\n",
      "Zwar haben die europäische Türkei und einige Theile der astatischen Türkei¬\n",
      "schon lange den Weg der eigentlichen\n",
      "einige am Meer gelegene Stüidte i\n"
     ]
    }
   ],
   "source": [
    "row_id = page_slider.value - 1\n",
    "page_id = page_data.row(row_id)[1]\n",
    "page_text = page_data.row(row_id)[2]\n",
    "results = [mo.md(f\"## Page {page_id}\")]\n",
    "if page_id in notes:\n",
    "    results.append(mo.md(f\"### Notes\\n{notes[page_id]}\"))\n",
    "# Get matches\n",
    "matches = find_quotes(page_text)\n",
    "# Highlight (and bold) Page Text\n",
    "highlighted_page = page_text\n",
    "for match in sorted(matches, reverse=True, key=lambda x: x.span()):\n",
    "    start, end = match.span()\n",
    "    highlighted_page = (\n",
    "        highlighted_page[:start]\n",
    "        + \"<mark>**\"\n",
    "        + highlighted_page[start:end]\n",
    "        + \"</mark>**\"\n",
    "        + highlighted_page[end:]\n",
    "    )\n",
    "results.append(mo.md(f\"### Page with Quotes Highlighted\\n{highlighted_page}\"))\n",
    "# Print raw page\n",
    "print(\"Raw Page Text:\\n\" + page_text)\n",
    "mo.vstack(results)"
   ]
  }
 ],
 "metadata": {},
 "nbformat": 4,
 "nbformat_minor": 5
}
