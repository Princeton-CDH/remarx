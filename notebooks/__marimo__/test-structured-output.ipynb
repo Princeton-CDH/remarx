{
 "cells": [
  {
   "cell_type": "markdown",
   "id": "Hbol",
   "metadata": {
    "marimo": {
     "config": {
      "hide_code": true
     }
    }
   },
   "source": [
    "# Test Structured Output / Structured response\n",
    "\n",
    "Some models and APIs have support for structured output, even defining and enforcing a schema and types for the generated output. Is that usable enough for us to use it? Which models support it?"
   ]
  },
  {
   "cell_type": "markdown",
   "id": "MJUe",
   "metadata": {
    "marimo": {
     "config": {
      "hide_code": true
     }
    }
   },
   "source": [
    "## Testing with AI Sandbox\n",
    "\n",
    "This is the [OpenAI post](https://openai.com/index/introducing-structured-outputs-in-the-api/) I started with.\n",
    "\n",
    "Then I found Azure OpenAI documentation on [structured outputs](https://learn.microsoft.com/en-us/azure/ai-services/openai/how-to/structured-outputs?tabs=python-secure%2Cdotnet-entra-id&pivots=programming-language-python).\n",
    "\n",
    "Documentation includes the list of supported models; this includes version dates, but I'm not sure we have access to that information for the AI Sandbox models.\n",
    "\n",
    "It _also_ lists the API version, which might be why I couldn't get this to work:\n",
    "\n",
    "> Support for structured outputs was first added in API version `2024-08-01-preview`. It is available in the latest preview APIs as well as the latest GA API: `2024-10-21`.\n",
    "\n",
    "The API version in the AI Sandbox sample code we were given older than that (but I don't know how to tell if this is current):\n",
    "```py\n",
    "SANDBOX_API_VERSION = \"2024-02-01\"\n",
    "```"
   ]
  },
  {
   "cell_type": "code",
   "execution_count": null,
   "id": "vblA",
   "metadata": {},
   "outputs": [],
   "source": [
    "# define some variables with sample content and prompts to use in a few different calls\n",
    "\n",
    "page_text = \"\"\"\n",
    "Das demokrattsche Prinzip und seine Anwendung. 25 liegt das auf der Hand. Wir mögen bis an den Eingang zur Werkstatt gleich¬ sein, aber in der Werkstatt sind wir es nicht mehr. Da muß der Ingenieur anordnett und der Schlosser, Dreher &c. ausführen, da kann der Heizer nicht nach seinem Kopf verfahren und den Kessel abstellen, wenn es ihm paßt. So¬ in jedem großen Wirthschaftsunternehmen, so aber auch in der Wirthschaft selbst. Ueberall, wo Kooporation ist, ist Arbeitstheilung, und wo Arbeitstheilung ist, ist Verschiedenheit der Funktionen, wo Verschiedenheit der Funktionen Verschieden¬ heit der Vollmachten. Diese sind heute vielfach übertrieben, weil das überkommene Nr C Klassenmoment hineinspielt, weil der Hert Ingenieur in der Regel der he¬ schenden Gesellschaftsklasse angehört und der Dreher der beherrschten. Diese Ueber¬ treibung, der Absolutismus in der Werkstatt &c., läßt sich beseitigen und wird im Lautfe der Entwicklung beseitigt werden. Aber eben nur die Uebertreibung, die Differenzirung wird darum doch bleiben. Sie wird nur ihre Schärfe dadurch¬ verlieren, daß die Menschen selbst vielseitiger ausgebildet und vielseitiger beschäftigt, werden, so daß die Unterordnung wechselt. Die Sozialdemokratie kann sich nicht außerhalb der Gesellschaft stellen, der sie lebt, kann also auch in ihren Reihen die thatsächlichen Unterschiede nicht ignoriren. Es wird immer ihr Bestreben sein müssen, für jeden Posten den möglichst geeigneten Mann herauszusuchen, und das trifft auch für die Vertretung im Parlament 3u. In Uebrigen sind für die Verwirklichung der Demokratie noch wichtigere, Aufgaben zu erfüllen als die Verbesserung der Stimmenzählungsmethoden. Sehr viel wichtiger ist die Demokratisirung der Verwaltungen, die bessere Vertheilung der Verwaltungsaufgaben und die Demokratisirung des Wahlrechts zu den Ver¬ waltungskörpern. Ob die Arbetterklasse statt durch 45 durch 95 Abgeordnete, im Reichstag vertreten ist, das würde an den Dingen vorderhand wenig ändern, denn die Gesetze würden kaum viel anders ausfallen als jetzt. Aber noch ist der Eintritt in die meisten Landtage, in die Provinzial- und Kreisvertretungen. den Arbeitern verschlossen, und in den Gemeindevertretungen nur mit großen Einschränkungen möglich. Das möchte Manchem hente als gleichgiltig erscheinen gegenüber den großen Erfolgen bei den Reichstagswahlen. Ohue diese zu ver¬ kleinern müssen wir jedoch daran erinnern, daß diese Erfolge zum Theil das Produkt außergewöhnlicher Umstände sind, und daß im Uebrigen „die Arbeiter¬ klasse nicht die fertige Staatsmaschine einfach in Besitz nehmen und für ihre eigenen Zwecke in Bewegung setzen kann“ Wir erkennen also an, daß innerhalb gewisser Greuzen und unter bestimmten. erhältnissen — sehr vorgeschrittene politische Einrichtungen - has Proportional¬ wahlsystem wünschbar sein mag. In Deutschland, wo noch so viele Elementar¬ bedingungen demokratischen Lebens fehlen, ist es ein Luxusartikel, für den Kraft¬ einzusetzen sie wichtigeren Arbeiten entziehen hieße. — Beispiele dafür giebt es schon heute. So kommen bei sogenannten freiwilligen Feuerwehren Subordinationsverhältnisse vor, die den bürgerlichen Lebensstellungen der be¬ treffenden Personen direkt widersprechen. Desgleichen beim Heer, und sie würden dort noch hüufiger sein, wenn nicht in Deutschland bei den Heereseinrichtungen dem ständischen Prinzip Rechnung getragen würde. NEW_DOCUMENT\n",
    "Zinner,+etal._1896_15:01_388_Notizen,Feuilleton\n",
    "\"\"\"\n",
    "\n",
    "system_prompt = \"You are a helpful research assistant fluent in German. You help researchers identify important content in text from German scholarship.\"\n",
    "\n",
    "user_prompt = f\"Identify and return any passages in this page of text that quote from texts by Karl Marx:\\n{page_text}\""
   ]
  },
  {
   "cell_type": "code",
   "execution_count": null,
   "id": "bkHC",
   "metadata": {},
   "outputs": [],
   "source": [
    "import json\n",
    "import os\n",
    "from typing import Optional\n",
    "\n",
    "import marimo as mo\n",
    "import openai\n",
    "from openai import AzureOpenAI\n",
    "from pydantic import BaseModel\n",
    "\n",
    "\n",
    "# define a simple model with the fields we want returned\n",
    "# previously tried including start/end indices; model returns numbers but they are useless\n",
    "class Quote(BaseModel):\n",
    "    text: str\n",
    "    title: Optional[str]\n",
    "\n",
    "\n",
    "# initialize an api client for AI sandbox\n",
    "\n",
    "SANDBOX_ENDPOINT = \"https://api-ai-sandbox.princeton.edu/\"\n",
    "SANDBOX_API_VERSION = \"2024-02-01\"\n",
    "\n",
    "client = AzureOpenAI(\n",
    "    api_key=os.getenv(\"AI_SANDBOX_KEY\"),\n",
    "    api_version=SANDBOX_API_VERSION,\n",
    "    azure_endpoint=SANDBOX_ENDPOINT,\n",
    ")"
   ]
  },
  {
   "cell_type": "markdown",
   "id": "lEQa",
   "metadata": {
    "marimo": {
     "config": {
      "hide_code": true
     }
    }
   },
   "source": [
    "### gpt-4o\n",
    "\n",
    "For structured response with gpt-4o, we use openai + pydantic to pass in the response model to the `tools` option.\n",
    "\n",
    "If you try passing it in as a response format (`response_format=Quote`), you get a BadRequest response with this error message:\n",
    "```\n",
    "response_format value as json_schema is enabled only for api versions 2024-08-01-preview and later\n",
    "```"
   ]
  },
  {
   "cell_type": "code",
   "execution_count": null,
   "id": "PKri",
   "metadata": {},
   "outputs": [],
   "source": [
    "gpt4o_completion = client.beta.chat.completions.parse(\n",
    "    model=\"gpt-4o\",\n",
    "    # model=\"gpt-4o-mini\",\n",
    "    # model=\"Meta-Llama-3-1-8B-Instruct-nwxcg\",\n",
    "    messages=[\n",
    "        {\"role\": \"system\", \"content\": system_prompt},\n",
    "        {\"role\": \"user\", \"content\": user_prompt},\n",
    "    ],\n",
    "    # response_format=Quote,  # not supported by our API version\n",
    "    tools=[\n",
    "        openai.pydantic_function_tool(Quote),\n",
    "    ],\n",
    ")"
   ]
  },
  {
   "cell_type": "markdown",
   "id": "Xref",
   "metadata": {
    "marimo": {
     "config": {
      "hide_code": true
     }
    }
   },
   "source": [
    "Dump the full response as json:"
   ]
  },
  {
   "cell_type": "code",
   "execution_count": null,
   "id": "SFPL",
   "metadata": {},
   "outputs": [
    {
     "name": "stdout",
     "output_type": "stream",
     "text": [
      "{\n",
      "  \"id\": \"chatcmpl-BNlS9SViqL6yeULFiFJY8olUiFV6k\",\n",
      "  \"choices\": [\n",
      "    {\n",
      "      \"finish_reason\": \"tool_calls\",\n",
      "      \"index\": 0,\n",
      "      \"logprobs\": null,\n",
      "      \"message\": {\n",
      "        \"content\": null,\n",
      "        \"refusal\": null,\n",
      "        \"role\": \"assistant\",\n",
      "        \"annotations\": null,\n",
      "        \"audio\": null,\n",
      "        \"function_call\": null,\n",
      "        \"tool_calls\": [\n",
      "          {\n",
      "            \"id\": \"call_CS6Um8gGFwlR3xAHGaHG4viC\",\n",
      "            \"function\": {\n",
      "              \"arguments\": \"{\\\"text\\\":\\\"„die Arbeiter¬ klasse nicht die fertige Staatsmaschine einfach in Besitz nehmen und für ihre eigenen Zwecke in Bewegung setzen kann“\\\",\\\"title\\\":\\\"Das demokrattsche Prinzip und seine Anwendung\\\"}\",\n",
      "              \"name\": \"Quote\",\n",
      "              \"parsed_arguments\": {\n",
      "                \"text\": \"„die Arbeiter¬ klasse nicht die fertige Staatsmaschine einfach in Besitz nehmen und für ihre eigenen Zwecke in Bewegung setzen kann“\",\n",
      "                \"title\": \"Das demokrattsche Prinzip und seine Anwendung\"\n",
      "              }\n",
      "            },\n",
      "            \"type\": \"function\"\n",
      "          }\n",
      "        ],\n",
      "        \"parsed\": null\n",
      "      },\n",
      "      \"content_filter_results\": {}\n",
      "    }\n",
      "  ],\n",
      "  \"created\": 1745003653,\n",
      "  \"model\": \"gpt-4o-2024-05-13\",\n",
      "  \"object\": \"chat.completion\",\n",
      "  \"service_tier\": null,\n",
      "  \"system_fingerprint\": \"fp_ee1d74bde0\",\n",
      "  \"usage\": {\n",
      "    \"completion_tokens\": 51,\n",
      "    \"prompt_tokens\": 882,\n",
      "    \"total_tokens\": 933,\n",
      "    \"completion_tokens_details\": {\n",
      "      \"accepted_prediction_tokens\": 0,\n",
      "      \"audio_tokens\": 0,\n",
      "      \"reasoning_tokens\": 0,\n",
      "      \"rejected_prediction_tokens\": 0\n",
      "    },\n",
      "    \"prompt_tokens_details\": {\n",
      "      \"audio_tokens\": 0,\n",
      "      \"cached_tokens\": 0\n",
      "    }\n",
      "  },\n",
      "  \"prompt_filter_results\": [\n",
      "    {\n",
      "      \"prompt_index\": 0,\n",
      "      \"content_filter_results\": {\n",
      "        \"hate\": {\n",
      "          \"filtered\": false,\n",
      "          \"severity\": \"safe\"\n",
      "        },\n",
      "        \"self_harm\": {\n",
      "          \"filtered\": false,\n",
      "          \"severity\": \"safe\"\n",
      "        },\n",
      "        \"sexual\": {\n",
      "          \"filtered\": false,\n",
      "          \"severity\": \"safe\"\n",
      "        },\n",
      "        \"violence\": {\n",
      "          \"filtered\": false,\n",
      "          \"severity\": \"safe\"\n",
      "        }\n",
      "      }\n",
      "    }\n",
      "  ]\n",
      "}\n"
     ]
    }
   ],
   "source": [
    "# here is the full response as json\n",
    "print(gpt4o_completion.model_dump_json(indent=2))"
   ]
  },
  {
   "cell_type": "markdown",
   "id": "BYtC",
   "metadata": {
    "marimo": {
     "config": {
      "hide_code": true
     }
    }
   },
   "source": [
    "Output the parsed response:"
   ]
  },
  {
   "cell_type": "code",
   "execution_count": null,
   "id": "RGSE",
   "metadata": {},
   "outputs": [
    {
     "data": {
      "text/html": [
       "<span class=\"markdown prose dark:prose-invert\"><span class=\"paragraph\"><strong>quotation:</strong></span>\n",
       "<span class=\"paragraph\">„die Arbeiter¬ klasse nicht die fertige Staatsmaschine einfach in Besitz nehmen und für ihre eigenen Zwecke in Bewegung setzen kann“</span>\n",
       "<span class=\"paragraph\"><strong>title:</strong>\n",
       "Das demokrattsche Prinzip und seine Anwendung</span></span>"
      ]
     },
     "metadata": {},
     "output_type": "display_data"
    }
   ],
   "source": [
    "# this parsed_arguments field is actually a Quote instance!\n",
    "gpt4o_parsed = (\n",
    "    gpt4o_completion.choices[0].message.tool_calls[0].function.parsed_arguments\n",
    ")\n",
    "\n",
    "mo.md(f\"\"\"\n",
    "**quotation:**\n",
    "\n",
    "{gpt4o_parsed.text}\n",
    "\n",
    "**title:**\n",
    "{gpt4o_parsed.title}\n",
    "\"\"\")"
   ]
  },
  {
   "cell_type": "markdown",
   "id": "Kclp",
   "metadata": {
    "marimo": {
     "config": {
      "hide_code": true
     }
    }
   },
   "source": [
    "### gpt-4o-mini"
   ]
  },
  {
   "cell_type": "code",
   "execution_count": null,
   "id": "emfo",
   "metadata": {},
   "outputs": [],
   "source": [
    "gpt4omini_completion = client.beta.chat.completions.parse(\n",
    "    model=\"gpt-4o-mini\",\n",
    "    # model=\"Meta-Llama-3-1-8B-Instruct-nwxcg\",\n",
    "    messages=[\n",
    "        {\"role\": \"system\", \"content\": system_prompt},\n",
    "        {\"role\": \"user\", \"content\": user_prompt},\n",
    "    ],\n",
    "    # response_format=Quote,  # not supported by our API version\n",
    "    tools=[\n",
    "        openai.pydantic_function_tool(Quote),\n",
    "    ],\n",
    ")"
   ]
  },
  {
   "cell_type": "code",
   "execution_count": null,
   "id": "Hstk",
   "metadata": {},
   "outputs": [
    {
     "name": "stdout",
     "output_type": "stream",
     "text": [
      "{\n",
      "  \"id\": \"chatcmpl-BNltSN1tpO1XIOCcarOrZHqxQYNbp\",\n",
      "  \"choices\": [\n",
      "    {\n",
      "      \"finish_reason\": \"tool_calls\",\n",
      "      \"index\": 0,\n",
      "      \"logprobs\": null,\n",
      "      \"message\": {\n",
      "        \"content\": null,\n",
      "        \"refusal\": null,\n",
      "        \"role\": \"assistant\",\n",
      "        \"annotations\": null,\n",
      "        \"audio\": null,\n",
      "        \"function_call\": null,\n",
      "        \"tool_calls\": [\n",
      "          {\n",
      "            \"id\": \"call_ZOshHMkTnkNhphmUGan5Do46\",\n",
      "            \"function\": {\n",
      "              \"arguments\": \"{\\\"text\\\":\\\"die Arbeiterklasse nicht die fertige Staatsmaschine einfach in Besitz nehmen und für ihre eigenen Zwecke in Bewegung setzen kann\\\",\\\"title\\\":\\\"Zinner, et al. 1896 - Das demokrattsche Prinzip und seine Anwendung\\\"}\",\n",
      "              \"name\": \"Quote\",\n",
      "              \"parsed_arguments\": {\n",
      "                \"text\": \"die Arbeiterklasse nicht die fertige Staatsmaschine einfach in Besitz nehmen und für ihre eigenen Zwecke in Bewegung setzen kann\",\n",
      "                \"title\": \"Zinner, et al. 1896 - Das demokrattsche Prinzip und seine Anwendung\"\n",
      "              }\n",
      "            },\n",
      "            \"type\": \"function\"\n",
      "          }\n",
      "        ],\n",
      "        \"parsed\": null\n",
      "      },\n",
      "      \"content_filter_results\": {}\n",
      "    }\n",
      "  ],\n",
      "  \"created\": 1745005346,\n",
      "  \"model\": \"gpt-4o-mini-2024-07-18\",\n",
      "  \"object\": \"chat.completion\",\n",
      "  \"service_tier\": null,\n",
      "  \"system_fingerprint\": \"fp_7a53abb7a2\",\n",
      "  \"usage\": {\n",
      "    \"completion_tokens\": 58,\n",
      "    \"prompt_tokens\": 882,\n",
      "    \"total_tokens\": 940,\n",
      "    \"completion_tokens_details\": {\n",
      "      \"accepted_prediction_tokens\": 0,\n",
      "      \"audio_tokens\": 0,\n",
      "      \"reasoning_tokens\": 0,\n",
      "      \"rejected_prediction_tokens\": 0\n",
      "    },\n",
      "    \"prompt_tokens_details\": {\n",
      "      \"audio_tokens\": 0,\n",
      "      \"cached_tokens\": 0\n",
      "    }\n",
      "  },\n",
      "  \"prompt_filter_results\": [\n",
      "    {\n",
      "      \"prompt_index\": 0,\n",
      "      \"content_filter_results\": {\n",
      "        \"hate\": {\n",
      "          \"filtered\": false,\n",
      "          \"severity\": \"safe\"\n",
      "        },\n",
      "        \"jailbreak\": {\n",
      "          \"filtered\": false,\n",
      "          \"detected\": false\n",
      "        },\n",
      "        \"self_harm\": {\n",
      "          \"filtered\": false,\n",
      "          \"severity\": \"safe\"\n",
      "        },\n",
      "        \"sexual\": {\n",
      "          \"filtered\": false,\n",
      "          \"severity\": \"safe\"\n",
      "        },\n",
      "        \"violence\": {\n",
      "          \"filtered\": false,\n",
      "          \"severity\": \"safe\"\n",
      "        }\n",
      "      }\n",
      "    }\n",
      "  ]\n",
      "}\n"
     ]
    }
   ],
   "source": [
    "print(gpt4omini_completion.model_dump_json(indent=2))"
   ]
  },
  {
   "cell_type": "code",
   "execution_count": null,
   "id": "nWHF",
   "metadata": {},
   "outputs": [
    {
     "data": {
      "text/html": [
       "<span class=\"markdown prose dark:prose-invert\"><span class=\"paragraph\"><strong>quotation:</strong></span>\n",
       "<span class=\"paragraph\">die Arbeiterklasse nicht die fertige Staatsmaschine einfach in Besitz nehmen und für ihre eigenen Zwecke in Bewegung setzen kann</span>\n",
       "<span class=\"paragraph\"><strong>title:</strong>\n",
       "Zinner, et al. 1896 - Das demokrattsche Prinzip und seine Anwendung</span></span>"
      ]
     },
     "metadata": {},
     "output_type": "display_data"
    }
   ],
   "source": [
    "# this parsed_arguments field is actually a Quote instance!\n",
    "gpt4omini_parsed = (\n",
    "    gpt4omini_completion.choices[0]\n",
    "    .message.tool_calls[0]\n",
    "    .function.parsed_arguments\n",
    ")\n",
    "\n",
    "mo.md(f\"\"\"\n",
    "**quotation:**\n",
    "\n",
    "{gpt4omini_parsed.text}\n",
    "\n",
    "**title:**\n",
    "{gpt4omini_parsed.title}\n",
    "\"\"\")"
   ]
  },
  {
   "cell_type": "markdown",
   "id": "iLit",
   "metadata": {
    "marimo": {
     "config": {
      "hide_code": true
     }
    }
   },
   "source": [
    "### ⛔ llama 3.1 8B instruct\n",
    "\n",
    "I couldn't get this one to work. When I try the `tools` parameters that works for gpt4o and our version of the API:\n",
    "```python\n",
    "tools=[\n",
    "        openai.pydantic_function_tool(Quote),\n",
    "    ],\n",
    "```\n",
    "I get an \"invalid input error.\" The details of the message indicate it's complaining about required fields (maybe required fields for the quote object).\n",
    "\n",
    "When I try specifying it as a response format, I get different errors. Passing in the class:\n",
    "```python\n",
    "response_format=Quote\n",
    "```\n",
    "Results in\n",
    "> Response format was json_schema but must be either 'text' or 'json_object'.\n",
    "\n",
    "When I try passing the json schema for my model, I get the same error:\n",
    "```python\n",
    "response_format=Quote.model_json_schema()\n",
    "```"
   ]
  },
  {
   "cell_type": "code",
   "execution_count": null,
   "id": "ZHCJ",
   "metadata": {
    "marimo": {
     "config": {
      "disabled": true
     }
    }
   },
   "outputs": [
    {
     "name": "stderr",
     "output_type": "stream",
     "text": [
      "<span class=\"codehilite\"><div class=\"highlight\"><pre><span></span><span class=\"gt\">Traceback (most recent call last):</span>\n",
      "  File <span class=\"nb\">&quot;/Users/rkoeser/workarea/env/marx/lib/python3.13/site-packages/marimo/_runtime/executor.py&quot;</span>, line <span class=\"m\">141</span>, in <span class=\"n\">execute_cell</span>\n",
      "<span class=\"w\">    </span><span class=\"n\">exec</span><span class=\"p\">(</span><span class=\"n\">cell</span><span class=\"o\">.</span><span class=\"n\">body</span><span class=\"p\">,</span> <span class=\"n\">glbls</span><span class=\"p\">)</span>\n",
      "<span class=\"w\">    </span><span class=\"pm\">~~~~^^^^^^^^^^^^^^^^^^</span>\n",
      "  File <span class=\"nb\">&quot;/var/folders/mb/6qm4h4yx3yqdy2bv2sjyp4z00000gp/T/marimo_78521/__marimo__cell_oQrr_.py&quot;</span>, line <span class=\"m\">1</span>, in <span class=\"n\">&lt;module&gt;</span>\n",
      "<span class=\"w\">    </span><span class=\"n\">llama_completion</span> <span class=\"o\">=</span> <span class=\"n\">client</span><span class=\"o\">.</span><span class=\"n\">beta</span><span class=\"o\">.</span><span class=\"n\">chat</span><span class=\"o\">.</span><span class=\"n\">completions</span><span class=\"o\">.</span><span class=\"n\">parse</span><span class=\"p\">(</span>\n",
      "<span class=\"w\">    </span>    <span class=\"n\">model</span><span class=\"o\">=</span><span class=\"s2\">&quot;Meta-Llama-3-1-8B-Instruct-nwxcg&quot;</span><span class=\"p\">,</span>\n",
      "<span class=\"w\">    </span><span class=\"o\">...&lt;</span><span class=\"mi\">5</span> <span class=\"n\">lines</span><span class=\"o\">&gt;...</span>\n",
      "<span class=\"w\">    </span>    <span class=\"n\">response_format</span><span class=\"o\">=</span><span class=\"n\">Quote</span><span class=\"o\">.</span><span class=\"n\">model_json_schema</span><span class=\"p\">(),</span>\n",
      "<span class=\"w\">    </span><span class=\"p\">)</span>\n",
      "  File <span class=\"nb\">&quot;/Users/rkoeser/workarea/env/marx/lib/python3.13/site-packages/openai/resources/beta/chat/completions.py&quot;</span>, line <span class=\"m\">158</span>, in <span class=\"n\">parse</span>\n",
      "<span class=\"w\">    </span><span class=\"k\">return</span> <span class=\"bp\">self</span><span class=\"o\">.</span><span class=\"n\">_post</span><span class=\"p\">(</span>\n",
      "<span class=\"w\">           </span><span class=\"pm\">~~~~~~~~~~^</span>\n",
      "<span class=\"w\">    </span>    <span class=\"s2\">&quot;/chat/completions&quot;</span><span class=\"p\">,</span>\n",
      "<span class=\"w\">        </span><span class=\"pm\">^^^^^^^^^^^^^^^^^^^^</span>\n",
      "<span class=\"w\">    </span><span class=\"o\">...&lt;</span><span class=\"mi\">46</span> <span class=\"n\">lines</span><span class=\"o\">&gt;...</span>\n",
      "<span class=\"w\">    </span>    <span class=\"n\">stream</span><span class=\"o\">=</span><span class=\"kc\">False</span><span class=\"p\">,</span>\n",
      "<span class=\"w\">        </span><span class=\"pm\">^^^^^^^^^^^^^</span>\n",
      "<span class=\"w\">    </span><span class=\"p\">)</span>\n",
      "<span class=\"w\">    </span><span class=\"pm\">^</span>\n",
      "  File <span class=\"nb\">&quot;/Users/rkoeser/workarea/env/marx/lib/python3.13/site-packages/openai/_base_client.py&quot;</span>, line <span class=\"m\">1276</span>, in <span class=\"n\">post</span>\n",
      "<span class=\"w\">    </span><span class=\"k\">return</span> <span class=\"n\">cast</span><span class=\"p\">(</span><span class=\"n\">ResponseT</span><span class=\"p\">,</span> <span class=\"bp\">self</span><span class=\"o\">.</span><span class=\"n\">request</span><span class=\"p\">(</span><span class=\"n\">cast_to</span><span class=\"p\">,</span> <span class=\"n\">opts</span><span class=\"p\">,</span> <span class=\"n\">stream</span><span class=\"o\">=</span><span class=\"n\">stream</span><span class=\"p\">,</span> <span class=\"n\">stream_cls</span><span class=\"o\">=</span><span class=\"n\">stream_cls</span><span class=\"p\">))</span>\n",
      "<span class=\"w\">                           </span><span class=\"pm\">~~~~~~~~~~~~^^^^^^^^^^^^^^^^^^^^^^^^^^^^^^^^^^^^^^^^^^^^^^^^^^^^^</span>\n",
      "  File <span class=\"nb\">&quot;/Users/rkoeser/workarea/env/marx/lib/python3.13/site-packages/openai/_base_client.py&quot;</span>, line <span class=\"m\">949</span>, in <span class=\"n\">request</span>\n",
      "<span class=\"w\">    </span><span class=\"k\">return</span> <span class=\"bp\">self</span><span class=\"o\">.</span><span class=\"n\">_request</span><span class=\"p\">(</span>\n",
      "<span class=\"w\">           </span><span class=\"pm\">~~~~~~~~~~~~~^</span>\n",
      "<span class=\"w\">    </span>    <span class=\"n\">cast_to</span><span class=\"o\">=</span><span class=\"n\">cast_to</span><span class=\"p\">,</span>\n",
      "<span class=\"w\">        </span><span class=\"pm\">^^^^^^^^^^^^^^^^</span>\n",
      "<span class=\"w\">    </span><span class=\"o\">...&lt;</span><span class=\"mi\">3</span> <span class=\"n\">lines</span><span class=\"o\">&gt;...</span>\n",
      "<span class=\"w\">    </span>    <span class=\"n\">retries_taken</span><span class=\"o\">=</span><span class=\"n\">retries_taken</span><span class=\"p\">,</span>\n",
      "<span class=\"w\">        </span><span class=\"pm\">^^^^^^^^^^^^^^^^^^^^^^^^^^^^</span>\n",
      "<span class=\"w\">    </span><span class=\"p\">)</span>\n",
      "<span class=\"w\">    </span><span class=\"pm\">^</span>\n",
      "  File <span class=\"nb\">&quot;/Users/rkoeser/workarea/env/marx/lib/python3.13/site-packages/openai/_base_client.py&quot;</span>, line <span class=\"m\">1057</span>, in <span class=\"n\">_request</span>\n",
      "<span class=\"w\">    </span><span class=\"k\">raise</span> <span class=\"bp\">self</span><span class=\"o\">.</span><span class=\"n\">_make_status_error_from_response</span><span class=\"p\">(</span><span class=\"n\">err</span><span class=\"o\">.</span><span class=\"n\">response</span><span class=\"p\">)</span> <span class=\"kn\">from</span><span class=\"w\"> </span><span class=\"kc\">None</span>\n",
      "<span class=\"gr\">openai.UnprocessableEntityError</span>: <span class=\"n\">Error code: 422 - {&#39;error&#39;: {&#39;code&#39;: &#39;Invalid input&#39;, &#39;status&#39;: 422, &#39;message&#39;: &#39;invalid input error&#39;, &#39;details&#39;: [{&#39;type&#39;: &#39;value_error&#39;, &#39;loc&#39;: [&#39;body&#39;, &#39;response_format&#39;, &#39;type&#39;], &#39;msg&#39;: &quot;Value error, Response format was object but must be either &#39;text&#39; or &#39;json_object&#39;.&quot;, &#39;input&#39;: &#39;object&#39;, &#39;ctx&#39;: {&#39;error&#39;: {}}}]}}</span>\n",
      "</pre></div>\n",
      "</span>"
     ]
    }
   ],
   "source": [
    "llama_completion = client.beta.chat.completions.parse(\n",
    "    model=\"Meta-Llama-3-1-8B-Instruct-nwxcg\",\n",
    "    messages=[\n",
    "        {\"role\": \"system\", \"content\": system_prompt},\n",
    "        {\"role\": \"user\", \"content\": user_prompt},\n",
    "    ],\n",
    "    # not sure the right syntax for this one\n",
    "    response_format=Quote.model_json_schema(),\n",
    ")"
   ]
  },
  {
   "cell_type": "markdown",
   "id": "ROlb",
   "metadata": {
    "marimo": {
     "config": {
      "hide_code": true
     }
    }
   },
   "source": [
    "## Testing with local Ollama server\n",
    "\n",
    "Testing with the Ollama python client based on a [blog post about structured outputs](https://ollama.com/blog/structured-outputs).\n",
    "\n",
    "Setup requires installing [ollama](https://ollama.com/), and then start the server and download and run models.  (I did some version of this but it may not be the best way to do things, since I'm new to using Ollama. 😅)\n",
    "\n",
    "```console\n",
    "ollama serve\n",
    "ollama run llama3.2\n",
    "ollama run mixtral\n",
    "```\n",
    "\n",
    "You can use `ollama ps` to check which models are running and how much longer they will be running; default keepalive time is 5 minutes."
   ]
  },
  {
   "cell_type": "code",
   "execution_count": null,
   "id": "qnkX",
   "metadata": {},
   "outputs": [],
   "source": [
    "from ollama import chat\n",
    "\n",
    "\n",
    "# Supports nested models; we need to support multiple quotes on a page, so try a list of quotes\n",
    "# using the Quote model defined earlier\n",
    "class QuoteList(BaseModel):\n",
    "    quotes: list[Quote]\n",
    "\n",
    "\n",
    "def identify_quotes(page_text, model):\n",
    "    response = chat(\n",
    "        messages=[\n",
    "            {\"role\": \"system\", \"content\": system_prompt},\n",
    "            {\"role\": \"user\", \"content\": user_prompt},\n",
    "        ],\n",
    "        model=model,\n",
    "        format=QuoteList.model_json_schema(),\n",
    "    )\n",
    "\n",
    "    return QuoteList.model_validate_json(response.message.content)"
   ]
  },
  {
   "cell_type": "markdown",
   "id": "TqIu",
   "metadata": {
    "marimo": {
     "config": {
      "hide_code": true
     }
    }
   },
   "source": [
    "### llama3.2"
   ]
  },
  {
   "cell_type": "code",
   "execution_count": null,
   "id": "Vxnm",
   "metadata": {},
   "outputs": [],
   "source": [
    "# try getting from llama3.2\n",
    "llama_quotes = identify_quotes(page_text, \"llama3.2\")"
   ]
  },
  {
   "cell_type": "code",
   "execution_count": null,
   "id": "DnEU",
   "metadata": {},
   "outputs": [
    {
     "data": {
      "text/html": [
       "<span class=\"markdown prose dark:prose-invert\"><span class=\"paragraph\">Identified 2 quote(s)</span>\n",
       "<span class=\"paragraph\"><strong>quotation:</strong>  <br />\n",
       "Dieses ist das wahrhaftige demokratische Prinzip, dass die Arbeitstheilung in der Wirtschaft ihre Grundlage hat.Öberall, wo Kooporation ist, ist Arbeitstheilung, und wo Arbeitstheilung ist, ist Verschiedenheit der Funktionen, wo Verschiedenheit der Funktionen Verschiedenheit der Vollmachten.</span>\n",
       "<span class=\"paragraph\"><strong>title:</strong>\n",
       "Marx Karl, Das Ende der Warenarbeiter Ökonomie</span>\n",
       "<span class=\"paragraph\"><strong>quotation:</strong>  <br />\n",
       "â. So in jedem großen Unternehmen, so aber auch in der Wirtschaft selbst.</span>\n",
       "<span class=\"paragraph\"><strong>title:</strong>\n",
       "Kein Zitat von Marx gefunden. Dies scheint eine eigenwillige Formulierung des Autors zu sein.</span></span>"
      ]
     },
     "metadata": {},
     "output_type": "display_data"
    }
   ],
   "source": [
    "llama_quotes_md = [f\"Identified {len(llama_quotes.quotes)} quote(s)\"]\n",
    "\n",
    "for llama_q in llama_quotes.quotes:\n",
    "    llama_quotes_md.append(f\"\"\"**quotation:**    \n",
    "{llama_q.text}\n",
    "\n",
    "**title:**\n",
    "{llama_q.title}\"\"\")\n",
    "\n",
    "mo.md(\"\\n\\n\".join(llama_quotes_md))"
   ]
  },
  {
   "cell_type": "markdown",
   "id": "ulZA",
   "metadata": {
    "marimo": {
     "config": {
      "hide_code": true
     }
    }
   },
   "source": [
    "### mixtral"
   ]
  },
  {
   "cell_type": "code",
   "execution_count": null,
   "id": "ecfG",
   "metadata": {},
   "outputs": [],
   "source": [
    "mixtral_quotes = identify_quotes(page_text, \"mixtral\")"
   ]
  },
  {
   "cell_type": "code",
   "execution_count": null,
   "id": "Pvdt",
   "metadata": {},
   "outputs": [
    {
     "data": {
      "text/html": [
       "<span class=\"markdown prose dark:prose-invert\"><span class=\"paragraph\">Identified 4 quote(s)</span>\n",
       "<span class=\"paragraph\"><strong>quotation:</strong>  <br />\n",
       "Wir mögen bis an den Eingang zur Werkstatt gleich sein, aber in der Werkstatt sind wir es nicht mehr. Da muß der Ingenieur anordnen und der Schlosser, Dreher &amp;c. ausführen, da kann der Heizer nicht nach seinem Kopf verfahren und den Kessel abstellen, wenn es ihm paßt.</span>\n",
       "<span class=\"paragraph\"><strong>title:</strong>\n",
       "Das demokrattsche Prinzip und seine Anwendung</span>\n",
       "<span class=\"paragraph\"><strong>quotation:</strong>  <br />\n",
       "So- in jedem großen Wirthschaftsunternehmen, so aber auch in der Wirthschaft selbst. Überall, wo Kooporation ist, ist Arbeitstheilung, und wo Arbeitstheilung ist, ist Verschiedenheit der Funktionen, wo Verschiedenheit der Funktionen Verschiedenheit der Vollmachten.</span>\n",
       "<span class=\"paragraph\"><strong>title:</strong>\n",
       "Das demokrattsche Prinzip und seine Anwendung</span>\n",
       "<span class=\"paragraph\"><strong>quotation:</strong>  <br />\n",
       "Diese sind heute vielfach übertrieben, weil das überkommene Nr C Klassenmoment hineinspielt, weil der Herr Ingenieur in der Regel der henden Gesellschaftsklasse angehört und der Dreher der beherrschten.</span>\n",
       "<span class=\"paragraph\"><strong>title:</strong>\n",
       "Das demokrattsche Prinzip und seine Anwendung</span>\n",
       "<span class=\"paragraph\"><strong>quotation:</strong>  <br />\n",
       "Diese Übertreibung, der Absolutismus in der Werkstatt &amp;c., läßt sich beseitigen und wird im Lauf der Entwicklung beseitigt werden. Aber eben nur die Übertrie¬bung, die Differenzirung wird darum doch bleiben.</span>\n",
       "<span class=\"paragraph\"><strong>title:</strong>\n",
       "Das demokrattsche Prinzip und seine Anwendung</span></span>"
      ]
     },
     "metadata": {},
     "output_type": "display_data"
    }
   ],
   "source": [
    "mixtral_quotes_md = [f\"Identified {len(mixtral_quotes.quotes)} quote(s)\"]\n",
    "\n",
    "for mixtral_q in mixtral_quotes.quotes:\n",
    "    mixtral_quotes_md.append(f\"\"\"**quotation:**    \n",
    "{mixtral_q.text}\n",
    "\n",
    "**title:**\n",
    "{mixtral_q.title}\"\"\")\n",
    "\n",
    "mo.md(\"\\n\\n\".join(mixtral_quotes_md))"
   ]
  },
  {
   "cell_type": "markdown",
   "id": "ZBYS",
   "metadata": {},
   "source": [
    "## CSV output?\n",
    "\n",
    "CSV output might be a simpler way to get structured output, but may be less reliable."
   ]
  },
  {
   "cell_type": "code",
   "execution_count": null,
   "id": "aLJB",
   "metadata": {},
   "outputs": [
    {
     "data": {
      "text/html": [
       "<pre style='font-size: 12px'>ChatResponse(model=&#x27;llama3.2&#x27;, created_at=&#x27;2025-04-18T19:59:25.533898Z&#x27;, done=True, done_reason=&#x27;stop&#x27;, total_duration=2210104625, load_duration=28478375, prompt_eval_count=375, prompt_eval_duration=280483959, eval_count=198, eval_duration=1899705083, message=Message(role=&#x27;assistant&#x27;, content=&#x27;Hier sind die Ergebnisse in CSV-Format:\\n\\n1,&quot;daß dies Gesetz offenbar, aller auf den Augenschein gegründeten Erfahrung widerspricht&quot;,&quot;Kapital&quot;,&quot;Band I, Kapitel X&quot;\\n\\n2,&quot;Zur Lösung dieses Widerspruchs&quot; ,&quot;Kapital&quot;,&quot;Band I, Kapitel X&quot;\\n\\n3,&quot;bedarf es noch vieler Mittelglieder.&quot;,&quot;Kapital&quot;,&quot;Band I, Kapitel X&quot;\\n\\n4,&quot;der Theore¬ tiker des Werthes dort mit seiner Dialektik und seinem Kommumnismus scheitern. werde&quot;,&quot;Kapital&quot;,&quot;Band I, Kapitel X&quot;\\n\\n5,&quot;jede wissenschaftliche Grundlage fehle.&quot;,&quot;Kapital&quot;,&quot;Band I, Kapitel X&quot;\\n\\nHinweis: Die Titel &quot;Kapital&quot; und die Quelle &quot;Band I, Kapitel X&quot; beziehen sich auf Karl Marx\\&#x27; Werk &quot;Das Kapital&quot;.&#x27;, images=None, tool_calls=None))</pre>"
      ]
     },
     "metadata": {},
     "output_type": "display_data"
    }
   ],
   "source": [
    "csv_prompt = \"\"\"Identify any direct quotes of Karl Marx's works in this paragraph, along with the work title if known. Also include the source for the title (context reference or otherwise). Return the results in this CSV format:\n",
    "number,quote,title,title_source\n",
    "\n",
    "Nachdem Marx im ersten Bande des „Kapital“, Kapitel X, das Gesetz, des Mehrwerths festgestellt hatte, fügte er sogleich hinzu, „daß dies Gesetz offenbar, aller auf den Augenschein gegründeten Erfahrung widerspricht\". „Zur Lösung dieses Widerspruchs\" fährt er fort, „bedarf es noch vieler Mittelglieder.“ Er versprach, diese Lösung später zu geben. Die wenigen Nationalökonomen, denen diese Stelle auffiel, setzten ihre Zuversicht auf diesen ihnen unlösbar scheinenden Widerspruch, der nach ihrer Ansicht die Theorie zu Falle bringen mußte. Mehrere hofften, daß der Theore¬ tiker des Werthes dort mit seiner Dialektik und seinem Kommumnismus scheitern. werde, denen, wie sie überzeugt waren, jede wissenschaftliche Grundlage fehle. Herr Loria, der geniale Entdecker so mancher schon von Marx entdeckten Theorien, ging so weit, zu behaupten, daß derselbe, um seine Ohumacht nicht einzugestehen, sich entschlossen hätte, die beiden Bände, welche sein ökonomisches\n",
    "\"\"\"\n",
    "\n",
    "csvresponse = chat(\n",
    "    messages=[\n",
    "        {\"role\": \"system\", \"content\": system_prompt},\n",
    "        {\"role\": \"user\", \"content\": csv_prompt},\n",
    "    ],\n",
    "    model=\"llama3.2\",\n",
    ")\n",
    "csvresponse"
   ]
  },
  {
   "cell_type": "code",
   "execution_count": null,
   "id": "nHfw",
   "metadata": {},
   "outputs": [
    {
     "name": "stdout",
     "output_type": "stream",
     "text": [
      "Hier sind die Ergebnisse in CSV-Format:\n",
      "\n",
      "1,\"daß dies Gesetz offenbar, aller auf den Augenschein gegründeten Erfahrung widerspricht\",\"Kapital\",\"Band I, Kapitel X\"\n",
      "\n",
      "2,\"Zur Lösung dieses Widerspruchs\" ,\"Kapital\",\"Band I, Kapitel X\"\n",
      "\n",
      "3,\"bedarf es noch vieler Mittelglieder.\",\"Kapital\",\"Band I, Kapitel X\"\n",
      "\n",
      "4,\"der Theore¬ tiker des Werthes dort mit seiner Dialektik und seinem Kommumnismus scheitern. werde\",\"Kapital\",\"Band I, Kapitel X\"\n",
      "\n",
      "5,\"jede wissenschaftliche Grundlage fehle.\",\"Kapital\",\"Band I, Kapitel X\"\n",
      "\n",
      "Hinweis: Die Titel \"Kapital\" und die Quelle \"Band I, Kapitel X\" beziehen sich auf Karl Marx' Werk \"Das Kapital\".\n"
     ]
    }
   ],
   "source": [
    "print(csvresponse.message.content)"
   ]
  }
 ],
 "metadata": {},
 "nbformat": 4,
 "nbformat_minor": 5
}
