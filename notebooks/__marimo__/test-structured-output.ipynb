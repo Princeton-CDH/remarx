{
 "cells": [
  {
   "cell_type": "markdown",
   "id": "Hbol",
   "metadata": {
    "marimo": {
     "config": {
      "hide_code": true
     }
    }
   },
   "source": [
    "# Test Structured Output / Structured response\n",
    "\n",
    "Some models and APIs have support for structured output, even defining and enforcing a schema and types for the generated output. Is that usable enough for us to use it? Which models support it?"
   ]
  },
  {
   "cell_type": "markdown",
   "id": "MJUe",
   "metadata": {
    "marimo": {
     "config": {
      "hide_code": true
     }
    }
   },
   "source": [
    "## Testing with AI Sandbox\n",
    "\n",
    "This is the [OpenAI post](https://openai.com/index/introducing-structured-outputs-in-the-api/) I started with.\n",
    "\n",
    "Then I found Azure OpenAI documentation on [structured outputs](https://learn.microsoft.com/en-us/azure/ai-services/openai/how-to/structured-outputs?tabs=python-secure%2Cdotnet-entra-id&pivots=programming-language-python).\n",
    "\n",
    "Documentation includes the list of supported models; this includes version dates, but I'm not sure we have access to that information for the AI Sandbox models.\n",
    "\n",
    "It _also_ lists the API version, which might be why I couldn't get this to work:\n",
    "\n",
    "> Support for structured outputs was first added in API version `2024-08-01-preview`. It is available in the latest preview APIs as well as the latest GA API: `2024-10-21`.\n",
    "\n",
    "As of April 2025, the API version to use with AI Sandbox is **2025-03-01-preview**."
   ]
  },
  {
   "cell_type": "markdown",
   "id": "vblA",
   "metadata": {
    "marimo": {
     "config": {
      "hide_code": true
     }
    }
   },
   "source": [
    "* * *\n",
    "\n",
    "Use a page of text from the quote data subset for testing.\n",
    "\n",
    "This is the last entry in the quote data subset file. The expected quote based on annotation data:\n",
    "\n",
    "> „die Arbeiter¬ klasse nicht die fertige Staatsmaschine einfach in Besitz nehmen und für ihre eigenen Zwecke in Bewegung setzen kann“"
   ]
  },
  {
   "cell_type": "code",
   "execution_count": null,
   "id": "bkHC",
   "metadata": {},
   "outputs": [],
   "source": [
    "# define some variables with sample content and prompts to use in a few different calls\n",
    "\n",
    "page_text = \"\"\"\n",
    "Das demokrattsche Prinzip und seine Anwendung. 25 liegt das auf der Hand. Wir mögen bis an den Eingang zur Werkstatt gleich¬ sein, aber in der Werkstatt sind wir es nicht mehr. Da muß der Ingenieur anordnett und der Schlosser, Dreher &c. ausführen, da kann der Heizer nicht nach seinem Kopf verfahren und den Kessel abstellen, wenn es ihm paßt. So¬ in jedem großen Wirthschaftsunternehmen, so aber auch in der Wirthschaft selbst. Ueberall, wo Kooporation ist, ist Arbeitstheilung, und wo Arbeitstheilung ist, ist Verschiedenheit der Funktionen, wo Verschiedenheit der Funktionen Verschieden¬ heit der Vollmachten. Diese sind heute vielfach übertrieben, weil das überkommene Nr C Klassenmoment hineinspielt, weil der Hert Ingenieur in der Regel der he¬ schenden Gesellschaftsklasse angehört und der Dreher der beherrschten. Diese Ueber¬ treibung, der Absolutismus in der Werkstatt &c., läßt sich beseitigen und wird im Lautfe der Entwicklung beseitigt werden. Aber eben nur die Uebertreibung, die Differenzirung wird darum doch bleiben. Sie wird nur ihre Schärfe dadurch¬ verlieren, daß die Menschen selbst vielseitiger ausgebildet und vielseitiger beschäftigt, werden, so daß die Unterordnung wechselt. Die Sozialdemokratie kann sich nicht außerhalb der Gesellschaft stellen, der sie lebt, kann also auch in ihren Reihen die thatsächlichen Unterschiede nicht ignoriren. Es wird immer ihr Bestreben sein müssen, für jeden Posten den möglichst geeigneten Mann herauszusuchen, und das trifft auch für die Vertretung im Parlament 3u. In Uebrigen sind für die Verwirklichung der Demokratie noch wichtigere, Aufgaben zu erfüllen als die Verbesserung der Stimmenzählungsmethoden. Sehr viel wichtiger ist die Demokratisirung der Verwaltungen, die bessere Vertheilung der Verwaltungsaufgaben und die Demokratisirung des Wahlrechts zu den Ver¬ waltungskörpern. Ob die Arbetterklasse statt durch 45 durch 95 Abgeordnete, im Reichstag vertreten ist, das würde an den Dingen vorderhand wenig ändern, denn die Gesetze würden kaum viel anders ausfallen als jetzt. Aber noch ist der Eintritt in die meisten Landtage, in die Provinzial- und Kreisvertretungen. den Arbeitern verschlossen, und in den Gemeindevertretungen nur mit großen Einschränkungen möglich. Das möchte Manchem hente als gleichgiltig erscheinen gegenüber den großen Erfolgen bei den Reichstagswahlen. Ohue diese zu ver¬ kleinern müssen wir jedoch daran erinnern, daß diese Erfolge zum Theil das Produkt außergewöhnlicher Umstände sind, und daß im Uebrigen „die Arbeiter¬ klasse nicht die fertige Staatsmaschine einfach in Besitz nehmen und für ihre eigenen Zwecke in Bewegung setzen kann“ Wir erkennen also an, daß innerhalb gewisser Greuzen und unter bestimmten. erhältnissen — sehr vorgeschrittene politische Einrichtungen - has Proportional¬ wahlsystem wünschbar sein mag. In Deutschland, wo noch so viele Elementar¬ bedingungen demokratischen Lebens fehlen, ist es ein Luxusartikel, für den Kraft¬ einzusetzen sie wichtigeren Arbeiten entziehen hieße. — Beispiele dafür giebt es schon heute. So kommen bei sogenannten freiwilligen Feuerwehren Subordinationsverhältnisse vor, die den bürgerlichen Lebensstellungen der be¬ treffenden Personen direkt widersprechen. Desgleichen beim Heer, und sie würden dort noch hüufiger sein, wenn nicht in Deutschland bei den Heereseinrichtungen dem ständischen Prinzip Rechnung getragen würde. NEW_DOCUMENT\n",
    "Zinner,+etal._1896_15:01_388_Notizen,Feuilleton\n",
    "\"\"\"\n",
    "\n",
    "system_prompt = \"You are a helpful research assistant fluent in German. You help researchers identify important content in text from German scholarship.  Identify and return any passages in this text provided by the user that quote from works by Karl Marx.\"\n",
    "\n",
    "user_prompt = page_text"
   ]
  },
  {
   "cell_type": "code",
   "execution_count": null,
   "id": "lEQa",
   "metadata": {},
   "outputs": [],
   "source": [
    "import json\n",
    "import os\n",
    "from typing import Optional\n",
    "\n",
    "import marimo as mo\n",
    "import openai\n",
    "from openai import AzureOpenAI\n",
    "from pydantic import BaseModel\n",
    "\n",
    "\n",
    "# define a simple model with the fields we want returned\n",
    "# previously tried including start/end indices; model returns numbers but they are useless\n",
    "class Quote(BaseModel):\n",
    "    text: str\n",
    "    title: Optional[str]\n",
    "\n",
    "\n",
    "# Both APIs supports nested models; we need to support multiple quotes on a page, so return a list of quotes\n",
    "# using the Quote model defined above\n",
    "class QuoteList(BaseModel):\n",
    "    quotes: list[Quote]\n",
    "\n",
    "\n",
    "# initialize an api client for AI sandbox\n",
    "\n",
    "SANDBOX_ENDPOINT = \"https://api-ai-sandbox.princeton.edu/\"\n",
    "SANDBOX_API_VERSION = \"2025-03-01-preview\"\n",
    "\n",
    "client = AzureOpenAI(\n",
    "    api_key=os.getenv(\"AI_SANDBOX_KEY\"),\n",
    "    api_version=SANDBOX_API_VERSION,\n",
    "    azure_endpoint=SANDBOX_ENDPOINT,\n",
    ")"
   ]
  },
  {
   "cell_type": "markdown",
   "id": "PKri",
   "metadata": {
    "marimo": {
     "config": {
      "hide_code": true
     }
    }
   },
   "source": [
    "### gpt-4o\n",
    "\n",
    "For structured response with gpt-4o, we use openai + pydantic to pass in the response model to the `tools` option.\n",
    "\n",
    "If you try passing it in as a response format (`response_format=Quote`), you get a BadRequest response with this error message:\n",
    "```\n",
    "response_format value as json_schema is enabled only for api versions 2024-08-01-preview and later\n",
    "```"
   ]
  },
  {
   "cell_type": "code",
   "execution_count": null,
   "id": "Xref",
   "metadata": {},
   "outputs": [],
   "source": [
    "gpt4o_completion = client.beta.chat.completions.parse(\n",
    "    model=\"gpt-4o\",\n",
    "    # model=\"gpt-4o-mini\",\n",
    "    # model=\"Meta-Llama-3-1-8B-Instruct-nwxcg\",\n",
    "    messages=[\n",
    "        {\"role\": \"system\", \"content\": system_prompt},\n",
    "        {\"role\": \"user\", \"content\": user_prompt},\n",
    "    ],\n",
    "    # response_format=QuoteList.model_json_schema(),  # not supported by our API version or not being passed correctly\n",
    "    tools=[\n",
    "        openai.pydantic_function_tool(QuoteList),\n",
    "    ],\n",
    ")"
   ]
  },
  {
   "cell_type": "markdown",
   "id": "SFPL",
   "metadata": {
    "marimo": {
     "config": {
      "hide_code": true
     }
    }
   },
   "source": [
    "Dump the full response as json:"
   ]
  },
  {
   "cell_type": "code",
   "execution_count": null,
   "id": "BYtC",
   "metadata": {},
   "outputs": [
    {
     "name": "stdout",
     "output_type": "stream",
     "text": [
      "{\n",
      "  \"id\": \"chatcmpl-BPCTedMDRgxQbAUBSxp3RWGO64FBz\",\n",
      "  \"choices\": [\n",
      "    {\n",
      "      \"finish_reason\": \"tool_calls\",\n",
      "      \"index\": 0,\n",
      "      \"logprobs\": null,\n",
      "      \"message\": {\n",
      "        \"content\": null,\n",
      "        \"refusal\": null,\n",
      "        \"role\": \"assistant\",\n",
      "        \"annotations\": null,\n",
      "        \"audio\": null,\n",
      "        \"function_call\": null,\n",
      "        \"tool_calls\": [\n",
      "          {\n",
      "            \"id\": \"call_pPkjs2Tv4RBniRcOq74BDKRx\",\n",
      "            \"function\": {\n",
      "              \"arguments\": \"{\\\"quotes\\\":[{\\\"text\\\":\\\"„die Arbeiter¬ klasse nicht die fertige Staatsmaschine einfach in Besitz nehmen und für ihre eigenen Zwecke in Bewegung setzen kann\\\\\\\"\\\",\\\"title\\\":null}]}\",\n",
      "              \"name\": \"QuoteList\",\n",
      "              \"parsed_arguments\": {\n",
      "                \"quotes\": [\n",
      "                  {\n",
      "                    \"text\": \"„die Arbeiter¬ klasse nicht die fertige Staatsmaschine einfach in Besitz nehmen und für ihre eigenen Zwecke in Bewegung setzen kann\\\"\",\n",
      "                    \"title\": null\n",
      "                  }\n",
      "                ]\n",
      "              }\n",
      "            },\n",
      "            \"type\": \"function\"\n",
      "          }\n",
      "        ],\n",
      "        \"parsed\": null\n",
      "      },\n",
      "      \"content_filter_results\": {}\n",
      "    }\n",
      "  ],\n",
      "  \"created\": 1745345862,\n",
      "  \"model\": \"gpt-4o-2024-05-13\",\n",
      "  \"object\": \"chat.completion\",\n",
      "  \"service_tier\": null,\n",
      "  \"system_fingerprint\": \"fp_ee1d74bde0\",\n",
      "  \"usage\": {\n",
      "    \"completion_tokens\": 49,\n",
      "    \"prompt_tokens\": 900,\n",
      "    \"total_tokens\": 949,\n",
      "    \"completion_tokens_details\": {\n",
      "      \"accepted_prediction_tokens\": 0,\n",
      "      \"audio_tokens\": 0,\n",
      "      \"reasoning_tokens\": 0,\n",
      "      \"rejected_prediction_tokens\": 0\n",
      "    },\n",
      "    \"prompt_tokens_details\": {\n",
      "      \"audio_tokens\": 0,\n",
      "      \"cached_tokens\": 0\n",
      "    }\n",
      "  },\n",
      "  \"prompt_filter_results\": [\n",
      "    {\n",
      "      \"prompt_index\": 0,\n",
      "      \"content_filter_results\": {\n",
      "        \"hate\": {\n",
      "          \"filtered\": false,\n",
      "          \"severity\": \"safe\"\n",
      "        },\n",
      "        \"self_harm\": {\n",
      "          \"filtered\": false,\n",
      "          \"severity\": \"safe\"\n",
      "        },\n",
      "        \"sexual\": {\n",
      "          \"filtered\": false,\n",
      "          \"severity\": \"safe\"\n",
      "        },\n",
      "        \"violence\": {\n",
      "          \"filtered\": false,\n",
      "          \"severity\": \"safe\"\n",
      "        }\n",
      "      }\n",
      "    }\n",
      "  ]\n",
      "}\n"
     ]
    }
   ],
   "source": [
    "# here is the full response as json\n",
    "print(gpt4o_completion.model_dump_json(indent=2))"
   ]
  },
  {
   "cell_type": "markdown",
   "id": "RGSE",
   "metadata": {
    "marimo": {
     "config": {
      "hide_code": true
     }
    }
   },
   "source": [
    "Output the parsed response:"
   ]
  },
  {
   "cell_type": "code",
   "execution_count": null,
   "id": "Kclp",
   "metadata": {},
   "outputs": [
    {
     "data": {
      "text/html": [
       "<span class=\"markdown prose dark:prose-invert\"><span class=\"paragraph\">Returned 1 quote(s).</span>\n",
       "<span class=\"paragraph\"><strong>quotation:</strong></span>\n",
       "<span class=\"paragraph\">„die Arbeiter¬ klasse nicht die fertige Staatsmaschine einfach in Besitz nehmen und für ihre eigenen Zwecke in Bewegung setzen kann\"</span>\n",
       "<span class=\"paragraph\"><strong>title:</strong>\n",
       "None</span></span>"
      ]
     },
     "metadata": {},
     "output_type": "display_data"
    }
   ],
   "source": [
    "# this parsed_arguments field is actually a Quote instance!\n",
    "gpt4o_parsed = (\n",
    "    gpt4o_completion.choices[0].message.tool_calls[0].function.parsed_arguments\n",
    ")\n",
    "\n",
    "mo.md(f\"\"\"\n",
    "Returned {len(gpt4o_parsed.quotes)} quote(s).\n",
    "\n",
    "**quotation:**\n",
    "\n",
    "{gpt4o_parsed.quotes[0].text}\n",
    "\n",
    "\n",
    "**title:**\n",
    "{gpt4o_parsed.quotes[0].title}\n",
    "\n",
    "\n",
    "\"\"\")"
   ]
  },
  {
   "cell_type": "markdown",
   "id": "emfo",
   "metadata": {
    "marimo": {
     "config": {
      "hide_code": true
     }
    }
   },
   "source": [
    "**GPT4o** : ✅ quote  ⛔title\n",
    "\n",
    "Correctly returns the full text of the expected quote and only that quote.\n",
    "\n",
    "In some cases it returns the article title (?) from the running header at the top of the page text as the title; in other cases it returns `None`.  The tag in the annotation data is \"Manifest der Kommunistischen Partei\""
   ]
  },
  {
   "cell_type": "markdown",
   "id": "Hstk",
   "metadata": {
    "marimo": {
     "config": {
      "hide_code": true
     }
    }
   },
   "source": [
    "### gpt-4o-mini"
   ]
  },
  {
   "cell_type": "code",
   "execution_count": null,
   "id": "nWHF",
   "metadata": {},
   "outputs": [],
   "source": [
    "gpt4omini_completion = client.beta.chat.completions.parse(\n",
    "    model=\"gpt-4o-mini\",\n",
    "    # model=\"Meta-Llama-3-1-8B-Instruct-nwxcg\",\n",
    "    messages=[\n",
    "        {\"role\": \"system\", \"content\": system_prompt},\n",
    "        {\"role\": \"user\", \"content\": user_prompt},\n",
    "    ],\n",
    "    # response_format=Quote,  # not supported by our API version\n",
    "    tools=[\n",
    "        openai.pydantic_function_tool(QuoteList),\n",
    "    ],\n",
    ")"
   ]
  },
  {
   "cell_type": "code",
   "execution_count": null,
   "id": "iLit",
   "metadata": {},
   "outputs": [
    {
     "name": "stdout",
     "output_type": "stream",
     "text": [
      "{\n",
      "  \"id\": \"chatcmpl-BPCTgyGZ4iAqCNSttshLZY0FuxwCM\",\n",
      "  \"choices\": [\n",
      "    {\n",
      "      \"finish_reason\": \"tool_calls\",\n",
      "      \"index\": 0,\n",
      "      \"logprobs\": null,\n",
      "      \"message\": {\n",
      "        \"content\": null,\n",
      "        \"refusal\": null,\n",
      "        \"role\": \"assistant\",\n",
      "        \"annotations\": null,\n",
      "        \"audio\": null,\n",
      "        \"function_call\": null,\n",
      "        \"tool_calls\": [\n",
      "          {\n",
      "            \"id\": \"call_oaB57DJGuJzt4JQh5q1c1arI\",\n",
      "            \"function\": {\n",
      "              \"arguments\": \"{\\\"quotes\\\":[{\\\"text\\\":\\\"die Arbeiterklasse nicht die fertige Staatsmaschine einfach in Besitz nehmen und für ihre eigenen Zwecke in Bewegung setzen kann\\\",\\\"title\\\":null}]}\",\n",
      "              \"name\": \"QuoteList\",\n",
      "              \"parsed_arguments\": {\n",
      "                \"quotes\": [\n",
      "                  {\n",
      "                    \"text\": \"die Arbeiterklasse nicht die fertige Staatsmaschine einfach in Besitz nehmen und für ihre eigenen Zwecke in Bewegung setzen kann\",\n",
      "                    \"title\": null\n",
      "                  }\n",
      "                ]\n",
      "              }\n",
      "            },\n",
      "            \"type\": \"function\"\n",
      "          }\n",
      "        ],\n",
      "        \"parsed\": null\n",
      "      },\n",
      "      \"content_filter_results\": {}\n",
      "    }\n",
      "  ],\n",
      "  \"created\": 1745345864,\n",
      "  \"model\": \"gpt-4o-mini-2024-07-18\",\n",
      "  \"object\": \"chat.completion\",\n",
      "  \"service_tier\": null,\n",
      "  \"system_fingerprint\": \"fp_7a53abb7a2\",\n",
      "  \"usage\": {\n",
      "    \"completion_tokens\": 46,\n",
      "    \"prompt_tokens\": 900,\n",
      "    \"total_tokens\": 946,\n",
      "    \"completion_tokens_details\": {\n",
      "      \"accepted_prediction_tokens\": 0,\n",
      "      \"audio_tokens\": 0,\n",
      "      \"reasoning_tokens\": 0,\n",
      "      \"rejected_prediction_tokens\": 0\n",
      "    },\n",
      "    \"prompt_tokens_details\": {\n",
      "      \"audio_tokens\": 0,\n",
      "      \"cached_tokens\": 0\n",
      "    }\n",
      "  },\n",
      "  \"prompt_filter_results\": [\n",
      "    {\n",
      "      \"prompt_index\": 0,\n",
      "      \"content_filter_results\": {\n",
      "        \"hate\": {\n",
      "          \"filtered\": false,\n",
      "          \"severity\": \"safe\"\n",
      "        },\n",
      "        \"jailbreak\": {\n",
      "          \"filtered\": false,\n",
      "          \"detected\": false\n",
      "        },\n",
      "        \"self_harm\": {\n",
      "          \"filtered\": false,\n",
      "          \"severity\": \"safe\"\n",
      "        },\n",
      "        \"sexual\": {\n",
      "          \"filtered\": false,\n",
      "          \"severity\": \"safe\"\n",
      "        },\n",
      "        \"violence\": {\n",
      "          \"filtered\": false,\n",
      "          \"severity\": \"safe\"\n",
      "        }\n",
      "      }\n",
      "    }\n",
      "  ]\n",
      "}\n"
     ]
    }
   ],
   "source": [
    "print(gpt4omini_completion.model_dump_json(indent=2))"
   ]
  },
  {
   "cell_type": "code",
   "execution_count": null,
   "id": "ZHCJ",
   "metadata": {},
   "outputs": [
    {
     "data": {
      "text/html": [
       "<span class=\"markdown prose dark:prose-invert\"><span class=\"paragraph\">Returned 1 quote(s).</span>\n",
       "<span class=\"paragraph\"><strong>quotation:</strong></span>\n",
       "<span class=\"paragraph\">die Arbeiterklasse nicht die fertige Staatsmaschine einfach in Besitz nehmen und für ihre eigenen Zwecke in Bewegung setzen kann</span>\n",
       "<span class=\"paragraph\"><strong>title:</strong>\n",
       "None</span></span>"
      ]
     },
     "metadata": {},
     "output_type": "display_data"
    }
   ],
   "source": [
    "# this parsed_arguments field is actually a Quote instance!\n",
    "gpt4omini_parsed = (\n",
    "    gpt4omini_completion.choices[0]\n",
    "    .message.tool_calls[0]\n",
    "    .function.parsed_arguments\n",
    ")\n",
    "\n",
    "mo.md(f\"\"\"\n",
    "Returned {len(gpt4omini_parsed.quotes)} quote(s).\n",
    "\n",
    "**quotation:**\n",
    "\n",
    "{gpt4omini_parsed.quotes[0].text}\n",
    "\n",
    "\n",
    "**title:**\n",
    "{gpt4omini_parsed.quotes[0].title}\n",
    "\"\"\")"
   ]
  },
  {
   "cell_type": "markdown",
   "id": "ROlb",
   "metadata": {
    "marimo": {
     "config": {
      "hide_code": true
     }
    }
   },
   "source": [
    "**GPT4o-mini** : ⛔/✅quote  ⛔title\n",
    "\n",
    "On a previous run it returned incorrect quote: a different set of text surrounded by „“.  This time it returned the correct quote.\n",
    "\n",
    "Like GPT4o, in a previous run it returned the text at the beginning of the page as a title; now it returns `None`."
   ]
  },
  {
   "cell_type": "markdown",
   "id": "qnkX",
   "metadata": {
    "marimo": {
     "config": {
      "hide_code": true
     }
    }
   },
   "source": [
    "### ⛔ llama 3.1 8B instruct\n",
    "\n",
    "I couldn't get this one to work. When I try the `tools` parameters that works for gpt4o and our version of the API:\n",
    "```python\n",
    "tools=[\n",
    "        openai.pydantic_function_tool(Quote),\n",
    "    ],\n",
    "```\n",
    "I get an \"invalid input error.\" The details of the message indicate it's complaining about required fields (maybe required fields for the quote object).\n",
    "\n",
    "When I try specifying it as a response format, I get different errors. Passing in the class:\n",
    "```python\n",
    "response_format=Quote\n",
    "```\n",
    "Results in\n",
    "> Response format was json_schema but must be either 'text' or 'json_object'.\n",
    "\n",
    "When I try passing the json schema for my model, I get the same error:\n",
    "```python\n",
    "response_format=Quote.model_json_schema()\n",
    "```"
   ]
  },
  {
   "cell_type": "code",
   "execution_count": null,
   "id": "TqIu",
   "metadata": {
    "marimo": {
     "config": {
      "disabled": true
     }
    }
   },
   "outputs": [],
   "source": [
    "llama_completion = client.beta.chat.completions.parse(\n",
    "    model=\"Meta-Llama-3-1-8B-Instruct-nwxcg\",\n",
    "    messages=[\n",
    "        {\"role\": \"system\", \"content\": system_prompt},\n",
    "        {\"role\": \"user\", \"content\": user_prompt},\n",
    "    ],\n",
    "    # not sure the right syntax for this one\n",
    "    response_format=Quote.model_json_schema(),\n",
    ")"
   ]
  },
  {
   "cell_type": "markdown",
   "id": "Vxnm",
   "metadata": {
    "marimo": {
     "config": {
      "hide_code": true
     }
    }
   },
   "source": [
    "## Testing with local Ollama server\n",
    "\n",
    "Testing with the Ollama python client based on a [blog post about structured outputs](https://ollama.com/blog/structured-outputs).\n",
    "\n",
    "Setup requires installing [ollama](https://ollama.com/), and then start the server and download (pull) and run models.\n",
    "\n",
    "```console\n",
    "pip install ollama\n",
    "ollama serve\n",
    "ollama run llama3.2\n",
    "ollama run mixtral\n",
    "```\n",
    "\n",
    "You can use `ollama ps` to check which models are running and how much longer they will be running; default keepalive time is 5 minutes."
   ]
  },
  {
   "cell_type": "code",
   "execution_count": null,
   "id": "DnEU",
   "metadata": {},
   "outputs": [],
   "source": [
    "from ollama import chat\n",
    "\n",
    "\n",
    "def identify_quotes(page_text, model):\n",
    "    response = chat(\n",
    "        messages=[\n",
    "            {\"role\": \"system\", \"content\": system_prompt},\n",
    "            {\"role\": \"user\", \"content\": user_prompt},\n",
    "        ],\n",
    "        model=model,\n",
    "        format=QuoteList.model_json_schema(),\n",
    "    )\n",
    "\n",
    "    return QuoteList.model_validate_json(response.message.content)"
   ]
  },
  {
   "cell_type": "markdown",
   "id": "ulZA",
   "metadata": {
    "marimo": {
     "config": {
      "hide_code": true
     }
    }
   },
   "source": [
    "### llama3.2"
   ]
  },
  {
   "cell_type": "code",
   "execution_count": null,
   "id": "ecfG",
   "metadata": {},
   "outputs": [],
   "source": [
    "# try getting from llama3.2\n",
    "llama_quotes = identify_quotes(page_text, \"llama3.2\")"
   ]
  },
  {
   "cell_type": "code",
   "execution_count": null,
   "id": "Pvdt",
   "metadata": {},
   "outputs": [
    {
     "data": {
      "text/html": [
       "<span class=\"markdown prose dark:prose-invert\"><span class=\"paragraph\">Identified 2 quote(s)</span>\n",
       "<span class=\"paragraph\"><strong>quotation:</strong>    </span>\n",
       "<span class=\"paragraph\"><strong>title:</strong>\n",
       "nicht vorhanden</span>\n",
       "<span class=\"paragraph\"><strong>quotation:</strong>    </span>\n",
       "<span class=\"paragraph\"><strong>title:</strong>\n",
       "Karl Marx</span></span>"
      ]
     },
     "metadata": {},
     "output_type": "display_data"
    }
   ],
   "source": [
    "llama_quotes_md = [f\"Identified {len(llama_quotes.quotes)} quote(s)\"]\n",
    "\n",
    "for llama_q in llama_quotes.quotes:\n",
    "    llama_quotes_md.append(f\"\"\"**quotation:**    \n",
    "{llama_q.text}\n",
    "\n",
    "**title:**\n",
    "{llama_q.title}\"\"\")\n",
    "\n",
    "mo.md(\"\\n\\n\\n\".join(llama_quotes_md))"
   ]
  },
  {
   "cell_type": "markdown",
   "id": "ZBYS",
   "metadata": {
    "marimo": {
     "config": {
      "hide_code": true
     }
    }
   },
   "source": [
    "**llama3.2** : ⛔/0️⃣ quote  ⛔/0️⃣title\n",
    "\n",
    "On some runs it returned an incorrect quote and incorrect title. It was returning some text from the third line of the first paragraph. When I adjusted the prompt to move the instructions to the system prompt, it didn't return anything. On another run, it returned two empty quotations with the titles \"nicht vorhanden\" and \"Karl Marx.\""
   ]
  },
  {
   "cell_type": "markdown",
   "id": "aLJB",
   "metadata": {
    "marimo": {
     "config": {
      "hide_code": true
     }
    }
   },
   "source": [
    "### mixtral"
   ]
  },
  {
   "cell_type": "code",
   "execution_count": null,
   "id": "nHfw",
   "metadata": {},
   "outputs": [],
   "source": [
    "mixtral_quotes = identify_quotes(page_text, \"mixtral\")"
   ]
  },
  {
   "cell_type": "code",
   "execution_count": null,
   "id": "xXTn",
   "metadata": {},
   "outputs": [
    {
     "data": {
      "text/html": [
       "<span class=\"markdown prose dark:prose-invert\"><span class=\"paragraph\">Identified 1 quote(s)</span>\n",
       "<span class=\"paragraph\"><strong>quotation:</strong>  <br />\n",
       "Wir erkennen also an, daß innerhalb gewisser Grenzen und unter bestimmten, erhaltnissen — sehr vorgeschrittene politische Einrichtungen - has Proportional-wahlsystem wünschbar sein mag.</span>\n",
       "<span class=\"paragraph\"><strong>title:</strong>\n",
       "Zinner, etal. 1896 15:01 388 Notizen, Feuilleton</span></span>"
      ]
     },
     "metadata": {},
     "output_type": "display_data"
    }
   ],
   "source": [
    "mixtral_quotes_md = [f\"Identified {len(mixtral_quotes.quotes)} quote(s)\"]\n",
    "\n",
    "for mixtral_q in mixtral_quotes.quotes:\n",
    "    mixtral_quotes_md.append(f\"\"\"**quotation:**    \n",
    "{mixtral_q.text}\n",
    "\n",
    "**title:**\n",
    "{mixtral_q.title}\"\"\")\n",
    "\n",
    "mo.md(\"\\n\\n\\n\".join(mixtral_quotes_md))"
   ]
  },
  {
   "cell_type": "markdown",
   "id": "AjVT",
   "metadata": {
    "marimo": {
     "config": {
      "hide_code": true
     }
    }
   },
   "source": [
    "**mixtral** : ⛔quote  ⛔title\n",
    "\n",
    "On a previous run it returned multiple things, all of them wrong. On a previous run, before I modified the prompt, it returned some text near the beginning of the first paragraph (also incorrect)."
   ]
  },
  {
   "cell_type": "markdown",
   "id": "pHFh",
   "metadata": {
    "marimo": {
     "config": {
      "hide_code": true
     }
    }
   },
   "source": [
    "Ollama server is [compatible with openai chat completions API](https://ollama.com/blog/openai-compatibility), including structured responses."
   ]
  },
  {
   "cell_type": "code",
   "execution_count": null,
   "id": "NCOB",
   "metadata": {},
   "outputs": [],
   "source": [
    "from openai import OpenAI\n",
    "\n",
    "\n",
    "ollama_oaiclient = OpenAI(\n",
    "    base_url=\"http://localhost:11434/v1\",\n",
    "    api_key=\"ollama\",  # required, but unused\n",
    ")"
   ]
  },
  {
   "cell_type": "code",
   "execution_count": null,
   "id": "aqbW",
   "metadata": {},
   "outputs": [],
   "source": [
    "ollama_completion = ollama_oaiclient.beta.chat.completions.parse(\n",
    "    model=\"llama3.2\",\n",
    "    messages=[\n",
    "        {\"role\": \"system\", \"content\": system_prompt},\n",
    "        {\"role\": \"user\", \"content\": user_prompt},\n",
    "    ],\n",
    "    # response_format=QuoteList.model_json_schema(),  # this seems to be ignored\n",
    "    tools=[\n",
    "        openai.pydantic_function_tool(QuoteList),\n",
    "    ],\n",
    ")"
   ]
  },
  {
   "cell_type": "code",
   "execution_count": null,
   "id": "TRpd",
   "metadata": {},
   "outputs": [
    {
     "name": "stdout",
     "output_type": "stream",
     "text": [
      "{\n",
      "  \"id\": \"chatcmpl-379\",\n",
      "  \"choices\": [\n",
      "    {\n",
      "      \"finish_reason\": \"stop\",\n",
      "      \"index\": 0,\n",
      "      \"logprobs\": null,\n",
      "      \"message\": {\n",
      "        \"content\": \"{\\\"name\\\":\\\"QuoteList\\\",\\\"parameters\\\":{\\\"quotes\\\":[\\\"\\\"Dieses Uebertrieben, der Absolutismus in der Werkstatt &c., läßt sich beseitigen und wird im Laufe der Entwicklung beseitigt werden. Als der Hert Ingenieur in der Regel der héchenden Gesellschaftsklasse angehört und der Dreher der beherrschten.\\\"\\\",\\\"\\\"\\\"Die Arbeiterklasse nicht die fertige Staatsmaschine einfach in Besitz nehmen und für ihre eigenen Zwecke in Bewegung setzen kann\\\"\\\",\\\"\\\"Sehr viel wichtiger ist die Demokratisirung der Verwaltungen, die bessere Vertheilung der Verwaltungsaufgaben und die Demokratisirung des Wahlrechts zu den Verwaltungskörpern.\\\"\\\"\\\"]}}\",\n",
      "        \"refusal\": null,\n",
      "        \"role\": \"assistant\",\n",
      "        \"annotations\": null,\n",
      "        \"audio\": null,\n",
      "        \"function_call\": null,\n",
      "        \"tool_calls\": null,\n",
      "        \"parsed\": null\n",
      "      }\n",
      "    }\n",
      "  ],\n",
      "  \"created\": 1745345881,\n",
      "  \"model\": \"llama3.2\",\n",
      "  \"object\": \"chat.completion\",\n",
      "  \"service_tier\": null,\n",
      "  \"system_fingerprint\": \"fp_ollama\",\n",
      "  \"usage\": {\n",
      "    \"completion_tokens\": 175,\n",
      "    \"prompt_tokens\": 1154,\n",
      "    \"total_tokens\": 1329,\n",
      "    \"completion_tokens_details\": null,\n",
      "    \"prompt_tokens_details\": null\n",
      "  }\n",
      "}\n"
     ]
    }
   ],
   "source": [
    "print(ollama_completion.model_dump_json(indent=2))"
   ]
  },
  {
   "cell_type": "markdown",
   "id": "TXez",
   "metadata": {},
   "source": [
    "The API is not exactly compatible, since the `tool_calls` is null. The content looks like a json dump of the QuoteList object with associated quotes, so it is enforcing the structure."
   ]
  },
  {
   "cell_type": "markdown",
   "id": "dNNg",
   "metadata": {},
   "source": [
    "## CSV output\n",
    "\n",
    "CSV output might be a simpler way to get structured output, but may be less reliable.\n",
    "\n",
    "Testing with the last paragraph of page text from the quote subset (page index 661, two quotes).\n",
    "\n",
    "The expected quote from this paragraph:\n",
    "> „Zur Lösung dieses Widerspruchs\" fährt er fort, „bedarf es noch vieler Mittelglieder.“ Er versprach, diese Lösung später zu geben."
   ]
  },
  {
   "cell_type": "markdown",
   "id": "yCnT",
   "metadata": {
    "marimo": {
     "config": {
      "hide_code": true
     }
    }
   },
   "source": [
    "### ollama - llama3.2"
   ]
  },
  {
   "cell_type": "code",
   "execution_count": null,
   "id": "wlCL",
   "metadata": {},
   "outputs": [
    {
     "data": {
      "text/html": [
       "<pre style='font-size: 12px'>ChatResponse(model=&#x27;llama3.2&#x27;, created_at=&#x27;2025-04-22T18:21:56.163346Z&#x27;, done=True, done_reason=&#x27;stop&#x27;, total_duration=1923159833, load_duration=29561708, prompt_eval_count=396, prompt_eval_duration=309857083, eval_count=148, eval_duration=1582224000, message=Message(role=&#x27;assistant&#x27;, content=&#x27;Unfortunately, there are no direct quotes from Karl Marx\\&#x27;s works in the provided paragraph. However, I can suggest some possible matches:\\n\\n1. &quot;daß dies Gesetz offenbar, aller auf den Augenschein gegründeten Erfahrung widerspricht&quot; - This quote is reminiscent of Marx\\&#x27;s critique of classical economics, but it does not directly quote from a known work by Marx.\\n2. &quot;Zur Lösung dieses Widerspruchs&quot; and &quot;bedarf es noch vieler Mittelglieder&quot; - These phrases are more general and do not seem to be direct quotes from a specific work by Marx.\\n\\nIf you provide the full text or more context, I can try to help you identify potential matches.&#x27;, images=None, tool_calls=None))</pre>"
      ]
     },
     "metadata": {},
     "output_type": "display_data"
    }
   ],
   "source": [
    "csv_prompt = \"\"\"Identify any direct quotes of Karl Marx's works in this paragraph, along with the work title if known. Also include the source for the title (context reference or otherwise). Return the results in this CSV format:\n",
    "number,quote,title,title_source\n",
    "\n",
    "Nachdem Marx im ersten Bande des „Kapital“, Kapitel X, das Gesetz, des Mehrwerths festgestellt hatte, fügte er sogleich hinzu, „daß dies Gesetz offenbar, aller auf den Augenschein gegründeten Erfahrung widerspricht\". „Zur Lösung dieses Widerspruchs\" fährt er fort, „bedarf es noch vieler Mittelglieder.“ Er versprach, diese Lösung später zu geben. Die wenigen Nationalökonomen, denen diese Stelle auffiel, setzten ihre Zuversicht auf diesen ihnen unlösbar scheinenden Widerspruch, der nach ihrer Ansicht die Theorie zu Falle bringen mußte. Mehrere hofften, daß der Theore¬ tiker des Werthes dort mit seiner Dialektik und seinem Kommumnismus scheitern. werde, denen, wie sie überzeugt waren, jede wissenschaftliche Grundlage fehle. Herr Loria, der geniale Entdecker so mancher schon von Marx entdeckten Theorien, ging so weit, zu behaupten, daß derselbe, um seine Ohumacht nicht einzugestehen, sich entschlossen hätte, die beiden Bände, welche sein ökonomisches\n",
    "\"\"\"\n",
    "\n",
    "csvresponse = chat(\n",
    "    messages=[\n",
    "        {\"role\": \"system\", \"content\": system_prompt},\n",
    "        {\"role\": \"user\", \"content\": csv_prompt},\n",
    "    ],\n",
    "    model=\"llama3.2\",\n",
    ")\n",
    "csvresponse"
   ]
  },
  {
   "cell_type": "code",
   "execution_count": null,
   "id": "kqZH",
   "metadata": {},
   "outputs": [
    {
     "name": "stdout",
     "output_type": "stream",
     "text": [
      "Unfortunately, there are no direct quotes from Karl Marx's works in the provided paragraph. However, I can suggest some possible matches:\n",
      "\n",
      "1. \"daß dies Gesetz offenbar, aller auf den Augenschein gegründeten Erfahrung widerspricht\" - This quote is reminiscent of Marx's critique of classical economics, but it does not directly quote from a known work by Marx.\n",
      "2. \"Zur Lösung dieses Widerspruchs\" and \"bedarf es noch vieler Mittelglieder\" - These phrases are more general and do not seem to be direct quotes from a specific work by Marx.\n",
      "\n",
      "If you provide the full text or more context, I can try to help you identify potential matches.\n"
     ]
    }
   ],
   "source": [
    "print(csvresponse.message.content)"
   ]
  },
  {
   "cell_type": "markdown",
   "id": "wAgl",
   "metadata": {
    "marimo": {
     "config": {
      "hide_code": true
     }
    }
   },
   "source": [
    "### AI sandbox - gpt-4o"
   ]
  },
  {
   "cell_type": "code",
   "execution_count": null,
   "id": "rEll",
   "metadata": {},
   "outputs": [],
   "source": [
    "# try ai sandbox gpt-4o with csv output\n",
    "\n",
    "gpt4o_csv_completion = client.beta.chat.completions.parse(\n",
    "    model=\"gpt-4o\",\n",
    "    messages=[\n",
    "        {\"role\": \"system\", \"content\": system_prompt},\n",
    "        {\"role\": \"user\", \"content\": csv_prompt},\n",
    "    ],\n",
    ")"
   ]
  },
  {
   "cell_type": "code",
   "execution_count": null,
   "id": "dGlV",
   "metadata": {},
   "outputs": [
    {
     "name": "stdout",
     "output_type": "stream",
     "text": [
      "number,quote,title,title_source\n",
      "1,\"daß dies Gesetz offenbar, aller auf den Augenschein gegründeten Erfahrung widerspricht\",\"Das Kapital\",\"Kapitel X, Band 1\"\n",
      "2,\"Zur Lösung dieses Widerspruchs\",\"Das Kapital\",\"Kapitel X, Band 1\"\n",
      "\n"
     ]
    }
   ],
   "source": [
    "print(gpt4o_csv_completion.choices[0].message.content)"
   ]
  },
  {
   "cell_type": "markdown",
   "id": "SdmI",
   "metadata": {
    "marimo": {
     "config": {
      "hide_code": true
     }
    }
   },
   "source": [
    "The second quote found is the expected one, but the full content is not returned."
   ]
  },
  {
   "cell_type": "markdown",
   "id": "lgWD",
   "metadata": {
    "marimo": {
     "config": {
      "hide_code": true
     }
    }
   },
   "source": [
    "### AI sandbox - gpt-4o-mini"
   ]
  },
  {
   "cell_type": "code",
   "execution_count": null,
   "id": "yOPj",
   "metadata": {},
   "outputs": [],
   "source": [
    "gpt4omini_csv_completion = client.beta.chat.completions.parse(\n",
    "    model=\"gpt-4o-mini\",\n",
    "    messages=[\n",
    "        {\"role\": \"system\", \"content\": system_prompt},\n",
    "        {\"role\": \"user\", \"content\": csv_prompt},\n",
    "    ],\n",
    ")"
   ]
  },
  {
   "cell_type": "code",
   "execution_count": null,
   "id": "fwwy",
   "metadata": {},
   "outputs": [
    {
     "name": "stdout",
     "output_type": "stream",
     "text": [
      "number,quote,title,title_source\n",
      "1,\"daß dies Gesetz offenbar, aller auf den Augenschein gegründeten Erfahrung widerspricht\",\"Das Kapital, Band I\",\"Kapitel X\"\n",
      "2,\"Zur Lösung dieses Widerspruchs\",\"Das Kapital, Band I\",\"Kapitel X\"\n"
     ]
    }
   ],
   "source": [
    "print(gpt4omini_csv_completion.choices[0].message.content)"
   ]
  },
  {
   "cell_type": "markdown",
   "id": "LJZf",
   "metadata": {
    "marimo": {
     "config": {
      "hide_code": true
     }
    }
   },
   "source": [
    "The second quote is the expected response. It doesn't return the full text, but returns more of the quote than GPT4o did. They seem to be stopping at punctuation - likely because this quote as annotated includes text _between_ and _after_ the parts of the quote.\n",
    "\n",
    "> „Zur Lösung dieses Widerspruchs\" fährt er fort, „bedarf es noch vieler Mittelglieder.“ Er versprach, diese Lösung später zu geben.\n",
    "\n",
    "From google translate:\n",
    "\n",
    "> \"To resolve this contradiction,\" he continues, \"many intermediate links are still needed.\" He promised to provide this solution later."
   ]
  }
 ],
 "metadata": {},
 "nbformat": 4,
 "nbformat_minor": 5
}
