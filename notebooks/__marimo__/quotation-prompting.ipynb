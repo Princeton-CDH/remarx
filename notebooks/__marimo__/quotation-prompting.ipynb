{
 "cells": [
  {
   "cell_type": "code",
   "execution_count": null,
   "id": "Hbol",
   "metadata": {},
   "outputs": [],
   "source": [
    "import marimo as mo\n",
    "import polars as pl\n",
    "\n",
    "from remarx.sandbox_utils import submit_prompt, get_text_response\n",
    "from remarx.notebook_utils import highlight_bracketed_text"
   ]
  },
  {
   "cell_type": "markdown",
   "id": "MJUe",
   "metadata": {
    "marimo": {
     "config": {
      "hide_code": true
     }
    }
   },
   "source": [
    "# Test quotation detection prompts\n",
    "\n",
    "This notebook tests the quotation detection prompt templates; it is inspired by the title mentions notebook."
   ]
  },
  {
   "cell_type": "markdown",
   "id": "vblA",
   "metadata": {
    "marimo": {
     "config": {
      "hide_code": true
     }
    }
   },
   "source": [
    "## Load quotation subset data\n",
    "\n",
    "Choose 2-3 pages to test with; at least one should have two quotes."
   ]
  },
  {
   "cell_type": "code",
   "execution_count": null,
   "id": "bkHC",
   "metadata": {},
   "outputs": [
    {
     "data": {
      "text/html": [
       "<marimo-ui-element object-id='suAQ-0' random-id='c0bef9e9-84fb-4a2e-775c-ff09d03c8255'><marimo-table data-initial-value='[]' data-label='null' data-data='&quot;./@file/141-556172-JLtFsIw0.json&quot;' data-total-rows='5' data-total-columns='2' data-banner-text='&quot;&quot;' data-pagination='true' data-page-size='10' data-field-types='[[&quot;page_index&quot;, [&quot;integer&quot;, &quot;i64&quot;]], [&quot;UUID&quot;, [&quot;integer&quot;, &quot;u32&quot;]]]' data-show-filters='true' data-show-download='true' data-show-column-summaries='false' data-row-headers='[]' data-has-stable-row-id='false' data-lazy='false' data-preload='false'></marimo-table></marimo-ui-element>"
      ]
     },
     "metadata": {},
     "output_type": "display_data"
    }
   ],
   "source": [
    "quotes_df = pl.read_csv(\"data/subset/direct_quotes.csv\")\n",
    "quotes_df.group_by(\"page_index\").agg(pl.col(\"UUID\").count()).head()"
   ]
  },
  {
   "cell_type": "markdown",
   "id": "lEQa",
   "metadata": {
    "marimo": {
     "config": {
      "hide_code": true
     }
    }
   },
   "source": [
    "Page index 661 has two quotes; page index 256 has one."
   ]
  },
  {
   "cell_type": "code",
   "execution_count": null,
   "id": "PKri",
   "metadata": {},
   "outputs": [
    {
     "data": {
      "text/html": [
       "<marimo-ui-element object-id='ZMEP-0' random-id='28ac6de7-da63-68f8-a848-db9457915599'><marimo-table data-initial-value='[]' data-label='null' data-data='&quot;./@file/15052-556172-tGI3qefD.json&quot;' data-total-rows='3' data-total-columns='12' data-banner-text='&quot;&quot;' data-pagination='true' data-page-size='10' data-field-types='[[&quot;UUID&quot;, [&quot;string&quot;, &quot;str&quot;]], [&quot;FILE&quot;, [&quot;string&quot;, &quot;str&quot;]], [&quot;QUOTE_TRANSCRIPTION&quot;, [&quot;string&quot;, &quot;str&quot;]], [&quot;TAGS&quot;, [&quot;string&quot;, &quot;str&quot;]], [&quot;COMMENTS&quot;, [&quot;string&quot;, &quot;str&quot;]], [&quot;start_index&quot;, [&quot;integer&quot;, &quot;i64&quot;]], [&quot;end_index&quot;, [&quot;integer&quot;, &quot;i64&quot;]], [&quot;page_index&quot;, [&quot;integer&quot;, &quot;i64&quot;]], [&quot;page_text&quot;, [&quot;string&quot;, &quot;str&quot;]], [&quot;text_length&quot;, [&quot;integer&quot;, &quot;i64&quot;]], [&quot;page_start&quot;, [&quot;integer&quot;, &quot;i64&quot;]], [&quot;page_end&quot;, [&quot;integer&quot;, &quot;i64&quot;]]]' data-show-filters='true' data-show-download='true' data-show-column-summaries='false' data-row-headers='[]' data-has-stable-row-id='false' data-lazy='false' data-preload='false'></marimo-table></marimo-ui-element>"
      ]
     },
     "metadata": {},
     "output_type": "display_data"
    }
   ],
   "source": [
    "test_quotes = quotes_df.filter(pl.col(\"page_index\").is_in([661, 256]))\n",
    "\n",
    "# order by start index within the text\n",
    "test_quotes = test_quotes.sort(\"start_index\")\n",
    "\n",
    "test_quotes"
   ]
  },
  {
   "cell_type": "code",
   "execution_count": null,
   "id": "Xref",
   "metadata": {},
   "outputs": [],
   "source": [
    "# just three rows, so get as a list of dict\n",
    "rows = list(test_quotes.iter_rows(named=True))\n",
    "\n",
    "# grab the page text content\n",
    "page_text_i256 = rows[0][\"page_text\"]\n",
    "\n",
    "page_text_i661 = rows[1][\"page_text\"]"
   ]
  },
  {
   "cell_type": "markdown",
   "id": "SFPL",
   "metadata": {
    "marimo": {
     "config": {
      "hide_code": true
     }
    }
   },
   "source": [
    "Highlight annotation for page 256.\n",
    "\n",
    "The annotation highlights a long, multiline passage at the end of the page."
   ]
  },
  {
   "cell_type": "code",
   "execution_count": null,
   "id": "BYtC",
   "metadata": {
    "marimo": {
     "name": "highlight_text_span"
    }
   },
   "outputs": [],
   "source": [
    "def highlight_text_span(text, start_index, end_index):\n",
    "    text_before = text[:start_index]\n",
    "    highlight_text = text[start_index:end_index]\n",
    "    text_after = text[end_index:]\n",
    "    return f\"{text_before}<mark>{highlight_text}</mark>{text_after}\""
   ]
  },
  {
   "cell_type": "code",
   "execution_count": null,
   "id": "RGSE",
   "metadata": {},
   "outputs": [
    {
     "data": {
      "text/html": [
       "<span class=\"markdown prose dark:prose-invert\"><span class=\"paragraph\">Kautsky: Was will und kann die materialistische Geschichtsauffassung leisten? 231\n",
       "der Wechselwirkung von, um mit Bax zu sprechen, äußeren und inneren Faktoren.\n",
       "Man muß eine geradezu mystische Vorstellung von der ökonomischen Entwicklung\n",
       "haben, wenn man annimmt, sie könnte auch den kleinsten Schritt vorwärts machen.\n",
       "ohne die Thätigkeit des menschlichen Geistes. Man halte doch die ökonomischen\n",
       "Bedingungen und die ökonomische Entwicklung auseinander. Das sind zwei ganz\n",
       "verschiedene Dinge.\n",
       "In letzter Linie ist die ökonomische Entwicklung nichts Anderes als die\n",
       "Entwicklung der Technik, das heißt, die Aufeinanderfolge der Erfindungen,\n",
       "und Entdeckungen. Was sind diese anders als „Wechselwirkungen“ zwischen\n",
       "dem Geist und den ökonomischen Bedingungen?\n",
       "Der historische Materialismus, weit entfernt, die bewegende Kraft des\n",
       "menschlichen Geistes in der Gesellschaft zu verneinen, giebt nur eine besondere,\n",
       "von den bisherigen Annahmen verschiedene Erklärung des Wirkens dieser Kraft.\n",
       "Der Geist bewegt die Gesellschaft, aber nicht als der Herr der ökonomi¬\n",
       "schen Verhältnisse, sondern als ihr Diener. Sie sind es, die ihm die Aufgaben\n",
       "stellen, welche er jeweilig zu lösen hat; sie sind es, die ihm die Mittel zu ihrer\n",
       "Lösung geben. Und daher sind sie es auch, welche die Resultate bestimmen, die\n",
       "er unter gegebenen historischen Bedingungen erzielen kann und erzielen muß. Die\n",
       "nächste Wirkung, die der menschliche Geist mit der Lösung einer feiner Aufgaben\n",
       "rzielt, kann eine von ihm gewøllte und vorhergesehene sein. Aber jede dieser\n",
       "Lösungen muß Wirkungen erzeugen, die er nicht vorhersehen konnte und die\n",
       "oft seinen Absichten direkt widersprechen. Die ökonomische Entwicklung ist das\n",
       "Prodnkt der Wechselwirkung zwischen den ökonomischen Verhältnissen und dem\n",
       "Menschengeist, sie ist aber nicht das Produkt der frei und planmäßig nach ihren\n",
       "Gutdünken die ökonomischen Verhältnisse ordnenden Thätigkeit des Menschen.\n",
       "Eine jede Lösung einer technischen Aufgabe stellt uns vor neue Aufgaben.\n",
       "Die Ueberwindung einer jeden Schranke der Natur stellt uns vor neue Schranken,\n",
       "die wir zu überwinden haben; die Befriedigung eines jeden Bedürfnisses erzeugt.\n",
       "ein neues Bedürfniß. Jeder technische Fortschritt bringt aber auch neue Mittel,\n",
       "neue Aufgaben zu lösen.\n",
       "Aber nicht allein das. Keine technische Veränderung, keine Veränderung\n",
       "in der Produktionsweise oder in der Lebensweise ist möglich ohne Rückwirkungen.\n",
       "auf die Verhältnisse der Menschen zu einander. <mark>Eine gewisse Summe technischer\n",
       "Fortschritte wird stets neue Arbeits- und Lebensbedingungen erheischen, die un¬\n",
       "Marx weist darauf hin, daß eine kritische Geschichte der Technologie noch nicht\n",
       "existirt, und bemerkt weiter: „Darwin hat das Interesse auf die Geschichte der natürlichen\n",
       "Technologie gelenkt, d. h. auf die Bildung der Pflanzen und Thierorgane als Produktions¬\n",
       "instrumente für das Leben der Pflanzen und Thiere. Verdient die Bildungsgeschichte der\n",
       "produktiven Organe des Gesellschaftsmenschen, der materiellen Basis jeder besonderen Gesell¬\n",
       "schaftsorganisation, nicht die gleiche Aufmerksamkeit? Und wäre sie nicht leichter zu liefern,\n",
       "da, wie Vico sagt, die Menschengeschichte sich dadurch von der Naturgeschichte unterscheidet,\n",
       "daß wir die eine gemacht und die andere nicht gemacht haben: Die Technologie enthüllt\n",
       "das aktive Verhalten des Menschen zur Natur, den unmittelbaren Produktionsprozeß seines\n",
       "Lebens, damit auch seiner gesellschaftlichen Lebensverhältnisse und der ihnen entquellenden\n",
       "geistigen Vorstellungen. Selbst alle Religionsgeschichte, die von dieser materiellen Basis ab¬\n",
       "strahirt, ist — unkrilisch. Es ist in der That viel leichter, durch Analyse den irdischen Kern¬\n",
       "der religlösen Nebelbildungen zu finden, als umgekehrt aus den jedesmaligen wirklichen Lebens¬\n",
       "verhältnissen ihre verhimmelten Formen zu etwickeln. Die letztere ist die einzig¬\n",
       "materialistische und daher wissenschaftliche Methode.“ Marx, Kapital, I, 4. Aufl.\n",
       "S. 335, Note 89.</mark></span></span>"
      ]
     },
     "metadata": {},
     "output_type": "display_data"
    }
   ],
   "source": [
    "# start index in the annotation data is from beginning of file;\n",
    "# adjust by start of page\n",
    "\n",
    "page_i256_start = rows[0][\"page_start\"]\n",
    "mo.md(\n",
    "    highlight_text_span(\n",
    "        page_text_i256,\n",
    "        rows[0][\"start_index\"] - page_i256_start,\n",
    "        rows[0][\"end_index\"] - page_i256_start,\n",
    "    )\n",
    ")"
   ]
  },
  {
   "cell_type": "markdown",
   "id": "Kclp",
   "metadata": {
    "marimo": {
     "config": {
      "hide_code": true
     }
    }
   },
   "source": [
    "Highlight annotations for page 661, which has two quotes. One quote comes directly after the other."
   ]
  },
  {
   "cell_type": "code",
   "execution_count": null,
   "id": "emfo",
   "metadata": {},
   "outputs": [
    {
     "data": {
      "text/html": [
       "<span class=\"markdown prose dark:prose-invert\"><span class=\"paragraph\">Die Neue Zeit.\n",
       "612\n",
       "—\n",
       "Männer\" habet in solchen gallen so gut wie immer für die Reaktion und gegen¬\n",
       "die Sozialdemokratie entschieden, unter schmunzelndem Schweigen des Herrn Richter\n",
       "Einerseits weiß er, daß die Junker nach dem Grundsatz leben: Hand wird nur\n",
       "von Hand gewaschen, daß sie bei den Stichwahlen den Freisinn aufsttzen lassen,\n",
       "rseits weiß er, daß die Sozialdemokraten prin¬\n",
       "wenn er sie aufsitzen läßt, ander.\n",
       "zipielle Politik treiben und in den Stichwahlen zwischen Freisinn und Reaktion\n",
       "immer dem „kleineren Uebel“ den Vorzug geben. Herr Richter will, daß die\n",
       "freisinnige Fraktion des Reichstags fortbesteht wie bisher: halb als Hilfstruppen,\n",
       "der Reaktion, halb als Kanonenfutter der Sozialdemokratie. Und würde man\n",
       "ihm sagen, das sei doch ein sehr schäbiges Dasein, so würde der große Denker\n",
       "achselzuckend antworten: Lieber sehr schäbig, als gar nicht leben!\"\n",
       "Der schöne Gedanke der „liberalen Phalanx\" ließe sich nur etwa dann\n",
       "denken, wenn das berühmte „deutsche Bürgerthum\" sich aus eigener Kraft auf¬\n",
       "raffte, sowohl der Klique Richter=Träger als auch der Klique Rickert=Barth den\n",
       "Laufpaß gäbe, sich den Kopf frei machte von dem „allgemeinen Phrafennebel,\n",
       "der kapitalistischen Presse und endlich einmal, was ihm Lassalle schon vor dreißig,\n",
       "Jahren gerathen hat, selbst denken und selbst handeln kernte. Aber natürlich\n",
       "ist dieser Gedanke die reine Phantasmagorie, genau dieselbe Phantasmagorie,\n",
       "welche das berühmte „deutsche Bürgerthum“ selbst ist. Die liberale Bourgeoisie,\n",
       "ist ein Offizierkorps ohne Heer, und findet keine Massen mehr, die ihre Schlachten¬\n",
       "schlagen. Das Kleinbürgerthum ist in seinen rückständigeren Elementen zum Anti¬\n",
       "semittsmus, in seinen vorgeschritteneren Elementen zur Sozialdemokratie ab¬\n",
       "geschwenkt. Das industrielle Proletariat läßt sich nirgends mehr durch kapitalistischer\n",
       "Redensartet nasführen, und das ländliche Proletariat lebt noch im geistigen\n",
       "Banne der Junker und Pfaffen, aus dem es einmal die Sozialdemokratie lösen¬\n",
       "wird, aber die liberale Bourgeoisie niemals lösen kann.\n",
       "Somit wird die „liberale Phalanx“ im Reiche der „Wahldichtung\" und\n",
       "der „Trittksprüche\" bleiben, und der freisinnige Wahlkampf wird in den Bahnen\n",
       "verlaufen, die ihm Herr Richter vorgezeichnet hat. Wobei für die übrige Menschheit,\n",
       "wenigstens der Trost abfällt, daß auch der verbohrteste Manchestermann durch\n",
       "fortgesetzte Schläge etwas lernen kann, wenn auch nur etwas sehr Schäbiges.</span>\n",
       "<span class=\"paragraph\">NEW_DOCUMENT  <br />\n",
       "Lafargue,_1897_15:01_531_Die-ökonomischen-Funktionen-der-Börse.</span>\n",
       "<span class=\"paragraph\">///// Die ökonomischen Funktionen der Börse. \n",
       "Ein Beitrag zur Werththeorie [1] ////// Paul Lafargue </span>\n",
       "<span class=\"paragraph\">Nachdem Marx im ersten Bande des „Kapital“, Kapitel X, das Gesetz,\n",
       "des Mehrwerths festgestellt hatte, fügte er sogleich hinzu, „<mark>daß dies Gesetz offenbar,\n",
       "aller auf den Augenschein gegründeten Erfahrung widerspricht\". „</mark><mark>Zur Lösung\n",
       "dieses Widerspruchs\" fährt er fort, „bedarf es noch vieler Mittelglieder.“ Er\n",
       "versprach, diese Lösung später zu geben.</mark>\n",
       "Die wenigen Nationalökonomen, denen diese Stelle auffiel, setzten ihre\n",
       "Zuversicht auf diesen ihnen unlösbar scheinenden Widerspruch, der nach ihrer\n",
       "Ansicht die Theorie zu Falle bringen mußte. Mehrere hofften, daß der Theore¬\n",
       "tiker des Werthes dort mit seiner Dialektik und seinem Kommumnismus scheitern.\n",
       "werde, denen, wie sie überzeugt waren, jede wissenschaftliche Grundlage fehle.\n",
       "Herr Loria, der geniale Entdecker so mancher schon von Marx entdeckten\n",
       "Theorien, ging so weit, zu behaupten, daß derselbe, um seine Ohumacht nicht\n",
       "einzugestehen, sich entschlossen hätte, die beiden Bände, welche sein ökonomisches</span></span>"
      ]
     },
     "metadata": {},
     "output_type": "display_data"
    }
   ],
   "source": [
    "page_i661_start = rows[1][\"page_start\"]\n",
    "# this page has two highlights; if we add highlighting for the second one first\n",
    "# the indices for the first one will still be valid\n",
    "mo.md(\n",
    "    highlight_text_span(\n",
    "        highlight_text_span(\n",
    "            page_text_i661,\n",
    "            rows[2][\"start_index\"] - page_i661_start,\n",
    "            rows[2][\"end_index\"] - page_i661_start,\n",
    "        ),\n",
    "        rows[1][\"start_index\"] - page_i661_start,\n",
    "        rows[1][\"end_index\"] - page_i661_start,\n",
    "    )\n",
    ")"
   ]
  },
  {
   "cell_type": "markdown",
   "id": "Hstk",
   "metadata": {
    "marimo": {
     "config": {
      "hide_code": true
     }
    }
   },
   "source": [
    "## Basic Prompt (zero-shot)"
   ]
  },
  {
   "cell_type": "code",
   "execution_count": null,
   "id": "nWHF",
   "metadata": {},
   "outputs": [
    {
     "data": {
      "text/html": [
       "<span class=\"markdown prose dark:prose-invert\"><h1 id=\"identity\">Identity</h1>\n",
       "<span class=\"paragraph\">You are a research assistant familiar with Marxist scholarship and fluent in German and English.\n",
       "You help researchers identify direct quotes referencing texts written by Karl Marx within a given passage.</span>\n",
       "<h1 id=\"instructions\">Instructions</h1>\n",
       "<ul>\n",
       "<li>Copy the text of the passage exactly.</li>\n",
       "<li>Annotate each quotation with double square brackets.</li>\n",
       "</ul></span>"
      ]
     },
     "metadata": {},
     "output_type": "display_data"
    }
   ],
   "source": [
    "# load and display the prompt\n",
    "\n",
    "# load prompt\n",
    "with open(\"prompts/quotations/basic.txt\") as f0:\n",
    "    basic_prompt = f0.read()\n",
    "mo.md(basic_prompt)"
   ]
  },
  {
   "cell_type": "code",
   "execution_count": null,
   "id": "iLit",
   "metadata": {},
   "outputs": [],
   "source": [
    "# get response with the default model\n",
    "basic_responses = []\n",
    "for sample_page in [page_text_i256, page_text_i661]:\n",
    "    basic_response = submit_prompt(\n",
    "        task_prompt=basic_prompt, user_prompt=sample_page\n",
    "    )\n",
    "    basic_responses.append(basic_response)"
   ]
  },
  {
   "cell_type": "code",
   "execution_count": null,
   "id": "ZHCJ",
   "metadata": {},
   "outputs": [
    {
     "data": {
      "application/json": "[\"text/html:<span class=\\\"markdown prose dark:prose-invert\\\"><span class=\\\"paragraph\\\">Kautsky: Was will und kann die materialistische Geschichtsauffassung leisten? 231\\nder Wechselwirkung von, um mit Bax zu sprechen, \\u00e4u\\u00dferen und inneren Faktoren.\\nMan mu\\u00df eine geradezu mystische Vorstellung von der \\u00f6konomischen Entwicklung\\nhaben, wenn man annimmt, sie k\\u00f6nnte auch den kleinsten Schritt vorw\\u00e4rts machen.\\nohne die Th\\u00e4tigkeit des menschlichen Geistes. Man halte doch die \\u00f6konomischen\\nBedingungen und die \\u00f6konomische Entwicklung auseinander. Das sind zwei ganz\\nverschiedene Dinge.\\nIn letzter Linie ist die \\u00f6konomische Entwicklung nichts Anderes als die\\nEntwicklung der Technik, das hei\\u00dft, die Aufeinanderfolge der Erfindungen,\\nund Entdeckungen. Was sind diese anders als \\u201eWechselwirkungen\\u201c zwischen\\ndem Geist und den \\u00f6konomischen Bedingungen?\\nDer historische Materialismus, weit entfernt, die bewegende Kraft des\\nmenschlichen Geistes in der Gesellschaft zu verneinen, giebt nur eine besondere,\\nvon den bisherigen Annahmen verschiedene Erkl\\u00e4rung des Wirkens dieser Kraft.\\nDer Geist bewegt die Gesellschaft, aber nicht als der Herr der \\u00f6konomi\\u00ac\\nschen Verh\\u00e4ltnisse, sondern als ihr Diener. Sie sind es, die ihm die Aufgaben\\nstellen, welche er jeweilig zu l\\u00f6sen hat; sie sind es, die ihm die Mittel zu ihrer\\nL\\u00f6sung geben. Und daher sind sie es auch, welche die Resultate bestimmen, die\\ner unter gegebenen historischen Bedingungen erzielen kann und erzielen mu\\u00df. Die\\nn\\u00e4chste Wirkung, die der menschliche Geist mit der L\\u00f6sung einer feiner Aufgaben\\nrzielt, kann eine von ihm gew\\u00f8llte und vorhergesehene sein. Aber jede dieser\\nL\\u00f6sungen mu\\u00df Wirkungen erzeugen, die er nicht vorhersehen konnte und die\\noft seinen Absichten direkt widersprechen. Die \\u00f6konomische Entwicklung ist das\\nProdnkt der Wechselwirkung zwischen den \\u00f6konomischen Verh\\u00e4ltnissen und dem\\nMenschengeist, sie ist aber nicht das Produkt der frei und planm\\u00e4\\u00dfig nach ihren\\nGutd\\u00fcnken die \\u00f6konomischen Verh\\u00e4ltnisse ordnenden Th\\u00e4tigkeit des Menschen.\\nEine jede L\\u00f6sung einer technischen Aufgabe stellt uns vor neue Aufgaben.\\nDie Ueberwindung einer jeden Schranke der Natur stellt uns vor neue Schranken,\\ndie wir zu \\u00fcberwinden haben; die Befriedigung eines jeden Bed\\u00fcrfnisses erzeugt.\\nein neues Bed\\u00fcrfni\\u00df. Jeder technische Fortschritt bringt aber auch neue Mittel,\\nneue Aufgaben zu l\\u00f6sen.\\nAber nicht allein das. Keine technische Ver\\u00e4nderung, keine Ver\\u00e4nderung\\nin der Produktionsweise oder in der Lebensweise ist m\\u00f6glich ohne R\\u00fcckwirkungen.\\nauf die Verh\\u00e4ltnisse der Menschen zu einander. Eine gewisse Summe technischer\\nFortschritte wird stets neue Arbeits- und Lebensbedingungen erheischen, die un\\u00ac\\nMarx weist darauf hin, da\\u00df eine kritische Geschichte der Technologie noch nicht\\nexistirt, und bemerkt weiter: [\\u201eDarwin hat das Interesse auf die Geschichte der nat\\u00fcrlichen\\nTechnologie gelenkt, d. h. auf die Bildung der Pflanzen und Thierorgane als Produktions\\u00ac\\ninstrumente f\\u00fcr das Leben der Pflanzen und Thiere. Verdient die Bildungsgeschichte der\\nproduktiven Organe des Gesellschaftsmenschen, der materiellen Basis jeder besonderen Gesell\\u00ac\\nschaftsorganisation, nicht die gleiche Aufmerksamkeit? Und w\\u00e4re sie nicht leichter zu liefern,\\nda, wie Vico sagt, die Menschengeschichte sich dadurch von der Naturgeschichte unterscheidet,\\nda\\u00df wir die eine gemacht und die andere nicht gemacht haben: Die Technologie enth\\u00fcllt\\ndas aktive Verhalten des Menschen zur Natur, den unmittelbaren Produktionsproze\\u00df seines\\nLebens, damit auch seiner gesellschaftlichen Lebensverh\\u00e4ltnisse und der ihnen entquellenden\\ngeistigen Vorstellungen. Selbst alle Religionsgeschichte, die von dieser materiellen Basis ab\\u00ac\\nstrahirt, ist \\u2014 unkrilisch. Es ist in der That viel leichter, durch Analyse den irdischen Kern\\u00ac\\nder religl\\u00f6sen Nebelbildungen zu finden, als umgekehrt aus den jedesmaligen wirklichen Lebens\\u00ac\\nverh\\u00e4ltnissen ihre verhimmelten Formen zu etwickeln. Die letztere ist die einzig\\u00ac\\nmaterialistische und daher wissenschaftliche Methode.\\u201c] Marx, Kapital, I, 4. Aufl.\\nS. 335, Note 89.</span></span>\", \"text/html:<span class=\\\"markdown prose dark:prose-invert\\\"><span class=\\\"paragraph\\\">Die Neue Zeit.\\n612\\n\\u2014\\nM\\u00e4nner\\\" habet in solchen gallen so gut wie immer f\\u00fcr die Reaktion und gegen\\u00ac\\ndie Sozialdemokratie entschieden, unter schmunzelndem Schweigen des Herrn Richter\\nEinerseits wei\\u00df er, da\\u00df die Junker nach dem Grundsatz leben: Hand wird nur\\nvon Hand gewaschen, da\\u00df sie bei den Stichwahlen den Freisinn aufsttzen lassen,\\nrseits wei\\u00df er, da\\u00df die Sozialdemokraten prin\\u00ac\\nwenn er sie aufsitzen l\\u00e4\\u00dft, ander.\\nzipielle Politik treiben und in den Stichwahlen zwischen Freisinn und Reaktion\\nimmer dem \\u201ekleineren Uebel\\u201c den Vorzug geben. Herr Richter will, da\\u00df die\\nfreisinnige Fraktion des Reichstags fortbesteht wie bisher: halb als Hilfstruppen,\\nder Reaktion, halb als Kanonenfutter der Sozialdemokratie. Und w\\u00fcrde man\\nihm sagen, das sei doch ein sehr sch\\u00e4biges Dasein, so w\\u00fcrde der gro\\u00dfe Denker\\nachselzuckend antworten: Lieber sehr sch\\u00e4big, als gar nicht leben!\\\"\\nDer sch\\u00f6ne Gedanke der \\u201eliberalen Phalanx\\\" lie\\u00dfe sich nur etwa dann\\ndenken, wenn das ber\\u00fchmte \\u201edeutsche B\\u00fcrgerthum\\\" sich aus eigener Kraft auf\\u00ac\\nraffte, sowohl der Klique Richter=Tr\\u00e4ger als auch der Klique Rickert=Barth den\\nLaufpa\\u00df g\\u00e4be, sich den Kopf frei machte von dem \\u201eallgemeinen Phrasennebel,\\nder kapitalistischen Presse und endlich einmal, was ihm Lassalle schon vor drei\\u00dfig,\\nJahren gerathen hat, selbst denken und selbst handeln kernte. Aber nat\\u00fcrlich\\nist dieser Gedanke die reine Phantasmagorie, genau dieselbe Phantasmagorie,\\nwelche das ber\\u00fchmte \\u201edeutsche B\\u00fcrgerthum\\u201c selbst ist. Die liberale Bourgeoisie,\\nist ein Offizierkorps ohne Heer, und findet keine Massen mehr, die ihre Schlachten\\u00ac\\nschlagen. Das Kleinb\\u00fcrgerthum ist in seinen r\\u00fcckst\\u00e4ndigeren Elementen zum Anti\\u00ac\\nsemittismus, in seinen vorgeschritteneren Elementen zur Sozialdemokratie ab\\u00ac\\ngeschwenkt. Das industrielle Proletariat l\\u00e4\\u00dft sich nirgends mehr durch kapitalistischer\\nRedensarten nasf\\u00fchren, und das l\\u00e4ndliche Proletariat lebt noch im geistigen\\nBanne der Junker und Pfaffen, aus dem es einmal die Sozialdemokratie l\\u00f6sen\\u00ac\\nwird, aber die liberale Bourgeoisie niemals l\\u00f6sen kann.\\nSomit wird die \\u201eliberale Phalanx\\u201c im Reiche der \\u201eWahldichtung\\\" und\\nder \\u201eTrittckspruche\\\" bleiben, und der freisinnige Wahlkampf wird in den Bahnen\\nverlaufen, die ihm Herr Richter vorgezeichnet hat. Wobei f\\u00fcr die \\u00fcbrige Menschheit,\\nwenigstens der Trost abf\\u00e4llt, da\\u00df auch der verbohrteste Manchestermann durch\\nfortgesetzte Schl\\u00e4ge etwas lernen kann, wenn auch nur etwas sehr Sch\\u00e4biges.</span>\\n<span class=\\\"paragraph\\\">NEW_DOCUMENT  <br />\\nLafargue,_1897_15:01_531_Die-\\u00f6konomischen-Funktionen-der-B\\u00f6rse.</span>\\n<span class=\\\"paragraph\\\">///// Die \\u00f6konomischen Funktionen der B\\u00f6rse. \\nEin Beitrag zur Werththeorie [1] ////// Paul Lafargue </span>\\n<span class=\\\"paragraph\\\">Nachdem Marx im ersten Bande des \\u201eKapital\\u201c, Kapitel X, das Gesetz,\\ndes Mehrwerths festgestellt hatte, f\\u00fcgte er sogleich hinzu, [\\u201eda\\u00df dies Gesetz offenbar,\\naller auf den Augenschein gegr\\u00fcndeten Erfahrung widerspricht\\\". \\u201eZur L\\u00f6sung\\ndieses Widerspruchs\\\" f\\u00e4hrt er fort, \\u201ebedarf es noch vieler Mittelglieder.\\u201c] Er\\nversprach, diese L\\u00f6sung sp\\u00e4ter zu geben.\\nDie wenigen National\\u00f6konomen, denen diese Stelle auffiel, setzten ihre\\nZuversicht auf diesen ihnen unl\\u00f6sbar scheinenden Widerspruch, der nach ihrer\\nAnsicht die Theorie zu Falle bringen mu\\u00dfte. Mehrere hofften, da\\u00df der Theore\\u00ac\\ntiker des Werthes dort mit seiner Dialektik und seinem Kommunismus scheitern.\\nwerde, denen, wie sie \\u00fcberzeugt waren, jede wissenschaftliche Grundlage fehle.\\nHerr Loria, der geniale Entdecker so mancher schon von Marx entdeckten\\nTheorien, ging so weit, zu behaupten, da\\u00df derselbe, um seine Ohnmacht nicht\\neinzugestehen, sich entschlossen h\\u00e4tte, die beiden B\\u00e4nde, welche sein \\u00f6konomisches</span></span>\"]"
     },
     "metadata": {},
     "output_type": "display_data"
    }
   ],
   "source": [
    "basic_responses"
   ]
  },
  {
   "cell_type": "code",
   "execution_count": null,
   "id": "ROlb",
   "metadata": {},
   "outputs": [
    {
     "data": {
      "text/html": [
       "<span class=\"markdown prose dark:prose-invert\"><span class=\"paragraph\">Kautsky: Was will und kann die materialistische Geschichtsauffassung leisten? 231\n",
       "der Wechselwirkung von, um mit Bax zu sprechen, äußeren und inneren Faktoren.\n",
       "Man muß eine geradezu mystische Vorstellung von der ökonomischen Entwicklung\n",
       "haben, wenn man annimmt, sie könnte auch den kleinsten Schritt vorwärts machen.\n",
       "ohne die Thätigkeit des menschlichen Geistes. Man halte doch die ökonomischen\n",
       "Bedingungen und die ökonomische Entwicklung auseinander. Das sind zwei ganz\n",
       "verschiedene Dinge.\n",
       "In letzter Linie ist die ökonomische Entwicklung nichts Anderes als die\n",
       "Entwicklung der Technik, das heißt, die Aufeinanderfolge der Erfindungen,\n",
       "und Entdeckungen. Was sind diese anders als „Wechselwirkungen“ zwischen\n",
       "dem Geist und den ökonomischen Bedingungen?\n",
       "Der historische Materialismus, weit entfernt, die bewegende Kraft des\n",
       "menschlichen Geistes in der Gesellschaft zu verneinen, giebt nur eine besondere,\n",
       "von den bisherigen Annahmen verschiedene Erklärung des Wirkens dieser Kraft.\n",
       "Der Geist bewegt die Gesellschaft, aber nicht als der Herr der ökonomi¬\n",
       "schen Verhältnisse, sondern als ihr Diener. Sie sind es, die ihm die Aufgaben\n",
       "stellen, welche er jeweilig zu lösen hat; sie sind es, die ihm die Mittel zu ihrer\n",
       "Lösung geben. Und daher sind sie es auch, welche die Resultate bestimmen, die\n",
       "er unter gegebenen historischen Bedingungen erzielen kann und erzielen muß. Die\n",
       "nächste Wirkung, die der menschliche Geist mit der Lösung einer feiner Aufgaben\n",
       "rzielt, kann eine von ihm gewøllte und vorhergesehene sein. Aber jede dieser\n",
       "Lösungen muß Wirkungen erzeugen, die er nicht vorhersehen konnte und die\n",
       "oft seinen Absichten direkt widersprechen. Die ökonomische Entwicklung ist das\n",
       "Prodnkt der Wechselwirkung zwischen den ökonomischen Verhältnissen und dem\n",
       "Menschengeist, sie ist aber nicht das Produkt der frei und planmäßig nach ihren\n",
       "Gutdünken die ökonomischen Verhältnisse ordnenden Thätigkeit des Menschen.\n",
       "Eine jede Lösung einer technischen Aufgabe stellt uns vor neue Aufgaben.\n",
       "Die Ueberwindung einer jeden Schranke der Natur stellt uns vor neue Schranken,\n",
       "die wir zu überwinden haben; die Befriedigung eines jeden Bedürfnisses erzeugt.\n",
       "ein neues Bedürfniß. Jeder technische Fortschritt bringt aber auch neue Mittel,\n",
       "neue Aufgaben zu lösen.\n",
       "Aber nicht allein das. Keine technische Veränderung, keine Veränderung\n",
       "in der Produktionsweise oder in der Lebensweise ist möglich ohne Rückwirkungen.\n",
       "auf die Verhältnisse der Menschen zu einander. Eine gewisse Summe technischer\n",
       "Fortschritte wird stets neue Arbeits- und Lebensbedingungen erheischen, die un¬\n",
       "Marx weist darauf hin, daß eine kritische Geschichte der Technologie noch nicht\n",
       "existirt, und bemerkt weiter: <mark>„Darwin hat das Interesse auf die Geschichte der natürlichen\n",
       "Technologie gelenkt, d. h. auf die Bildung der Pflanzen und Thierorgane als Produktions¬\n",
       "instrumente für das Leben der Pflanzen und Thiere. Verdient die Bildungsgeschichte der\n",
       "produktiven Organe des Gesellschaftsmenschen, der materiellen Basis jeder besonderen Gesell¬\n",
       "schaftsorganisation, nicht die gleiche Aufmerksamkeit? Und wäre sie nicht leichter zu liefern,\n",
       "da, wie Vico sagt, die Menschengeschichte sich dadurch von der Naturgeschichte unterscheidet,\n",
       "daß wir die eine gemacht und die andere nicht gemacht haben: Die Technologie enthüllt\n",
       "das aktive Verhalten des Menschen zur Natur, den unmittelbaren Produktionsprozeß seines\n",
       "Lebens, damit auch seiner gesellschaftlichen Lebensverhältnisse und der ihnen entquellenden\n",
       "geistigen Vorstellungen. Selbst alle Religionsgeschichte, die von dieser materiellen Basis ab¬\n",
       "strahirt, ist — unkrilisch. Es ist in der That viel leichter, durch Analyse den irdischen Kern¬\n",
       "der religlösen Nebelbildungen zu finden, als umgekehrt aus den jedesmaligen wirklichen Lebens¬\n",
       "verhältnissen ihre verhimmelten Formen zu etwickeln. Die letztere ist die einzig¬\n",
       "materialistische und daher wissenschaftliche Methode.“</mark> Marx, Kapital, I, 4. Aufl.\n",
       "S. 335, Note 89.</span></span>"
      ]
     },
     "metadata": {},
     "output_type": "display_data"
    }
   ],
   "source": [
    "highlight_bracketed_text(get_text_response(basic_responses[0]))"
   ]
  },
  {
   "cell_type": "markdown",
   "id": "qnkX",
   "metadata": {
    "marimo": {
     "config": {
      "hide_code": true
     }
    }
   },
   "source": [
    "Substantial overlap with the annotated passage; it starts about a sentence later and does not include the citation."
   ]
  },
  {
   "cell_type": "code",
   "execution_count": null,
   "id": "TqIu",
   "metadata": {},
   "outputs": [
    {
     "data": {
      "text/html": [
       "<span class=\"markdown prose dark:prose-invert\"><span class=\"paragraph\">Die Neue Zeit.\n",
       "612\n",
       "—\n",
       "Männer\" habet in solchen gallen so gut wie immer für die Reaktion und gegen¬\n",
       "die Sozialdemokratie entschieden, unter schmunzelndem Schweigen des Herrn Richter\n",
       "Einerseits weiß er, daß die Junker nach dem Grundsatz leben: Hand wird nur\n",
       "von Hand gewaschen, daß sie bei den Stichwahlen den Freisinn aufsttzen lassen,\n",
       "rseits weiß er, daß die Sozialdemokraten prin¬\n",
       "wenn er sie aufsitzen läßt, ander.\n",
       "zipielle Politik treiben und in den Stichwahlen zwischen Freisinn und Reaktion\n",
       "immer dem „kleineren Uebel“ den Vorzug geben. Herr Richter will, daß die\n",
       "freisinnige Fraktion des Reichstags fortbesteht wie bisher: halb als Hilfstruppen,\n",
       "der Reaktion, halb als Kanonenfutter der Sozialdemokratie. Und würde man\n",
       "ihm sagen, das sei doch ein sehr schäbiges Dasein, so würde der große Denker\n",
       "achselzuckend antworten: Lieber sehr schäbig, als gar nicht leben!\"\n",
       "Der schöne Gedanke der „liberalen Phalanx\" ließe sich nur etwa dann\n",
       "denken, wenn das berühmte „deutsche Bürgerthum\" sich aus eigener Kraft auf¬\n",
       "raffte, sowohl der Klique Richter=Träger als auch der Klique Rickert=Barth den\n",
       "Laufpaß gäbe, sich den Kopf frei machte von dem „allgemeinen Phrasennebel,\n",
       "der kapitalistischen Presse und endlich einmal, was ihm Lassalle schon vor dreißig,\n",
       "Jahren gerathen hat, selbst denken und selbst handeln kernte. Aber natürlich\n",
       "ist dieser Gedanke die reine Phantasmagorie, genau dieselbe Phantasmagorie,\n",
       "welche das berühmte „deutsche Bürgerthum“ selbst ist. Die liberale Bourgeoisie,\n",
       "ist ein Offizierkorps ohne Heer, und findet keine Massen mehr, die ihre Schlachten¬\n",
       "schlagen. Das Kleinbürgerthum ist in seinen rückständigeren Elementen zum Anti¬\n",
       "semittismus, in seinen vorgeschritteneren Elementen zur Sozialdemokratie ab¬\n",
       "geschwenkt. Das industrielle Proletariat läßt sich nirgends mehr durch kapitalistischer\n",
       "Redensarten nasführen, und das ländliche Proletariat lebt noch im geistigen\n",
       "Banne der Junker und Pfaffen, aus dem es einmal die Sozialdemokratie lösen¬\n",
       "wird, aber die liberale Bourgeoisie niemals lösen kann.\n",
       "Somit wird die „liberale Phalanx“ im Reiche der „Wahldichtung\" und\n",
       "der „Trittckspruche\" bleiben, und der freisinnige Wahlkampf wird in den Bahnen\n",
       "verlaufen, die ihm Herr Richter vorgezeichnet hat. Wobei für die übrige Menschheit,\n",
       "wenigstens der Trost abfällt, daß auch der verbohrteste Manchestermann durch\n",
       "fortgesetzte Schläge etwas lernen kann, wenn auch nur etwas sehr Schäbiges.</span>\n",
       "<span class=\"paragraph\">NEW_DOCUMENT  <br />\n",
       "Lafargue,_1897_15:01_531_Die-ökonomischen-Funktionen-der-Börse.</span>\n",
       "<span class=\"paragraph\">///// Die ökonomischen Funktionen der Börse. \n",
       "Ein Beitrag zur Werththeorie <mark>1</mark> ////// Paul Lafargue </span>\n",
       "<span class=\"paragraph\">Nachdem Marx im ersten Bande des „Kapital“, Kapitel X, das Gesetz,\n",
       "des Mehrwerths festgestellt hatte, fügte er sogleich hinzu, <mark>„daß dies Gesetz offenbar,\n",
       "aller auf den Augenschein gegründeten Erfahrung widerspricht\". „Zur Lösung\n",
       "dieses Widerspruchs\" fährt er fort, „bedarf es noch vieler Mittelglieder.“</mark> Er\n",
       "versprach, diese Lösung später zu geben.\n",
       "Die wenigen Nationalökonomen, denen diese Stelle auffiel, setzten ihre\n",
       "Zuversicht auf diesen ihnen unlösbar scheinenden Widerspruch, der nach ihrer\n",
       "Ansicht die Theorie zu Falle bringen mußte. Mehrere hofften, daß der Theore¬\n",
       "tiker des Werthes dort mit seiner Dialektik und seinem Kommunismus scheitern.\n",
       "werde, denen, wie sie überzeugt waren, jede wissenschaftliche Grundlage fehle.\n",
       "Herr Loria, der geniale Entdecker so mancher schon von Marx entdeckten\n",
       "Theorien, ging so weit, zu behaupten, daß derselbe, um seine Ohnmacht nicht\n",
       "einzugestehen, sich entschlossen hätte, die beiden Bände, welche sein ökonomisches</span></span>"
      ]
     },
     "metadata": {},
     "output_type": "display_data"
    }
   ],
   "source": [
    "highlight_bracketed_text(get_text_response(basic_responses[1]))"
   ]
  },
  {
   "cell_type": "markdown",
   "id": "Vxnm",
   "metadata": {
    "marimo": {
     "config": {
      "hide_code": true
     }
    }
   },
   "source": [
    "Matches the annotated text. Because of the way we're highlighting, I'm not sure if this is identified as one long quotation or two, as in the annotated data and as indicated by the quotes."
   ]
  },
  {
   "cell_type": "markdown",
   "id": "DnEU",
   "metadata": {
    "marimo": {
     "config": {
      "hide_code": true
     }
    }
   },
   "source": [
    "## One-shot"
   ]
  },
  {
   "cell_type": "code",
   "execution_count": null,
   "id": "ulZA",
   "metadata": {},
   "outputs": [
    {
     "data": {
      "text/html": [
       "<span class=\"markdown prose dark:prose-invert\"><h1 id=\"identity\">Identity</h1>\n",
       "<span class=\"paragraph\">You are a research assistant familiar with Marxist scholarship and fluent in German and English.\n",
       "You help researchers identify direct quotes referencing texts written by Karl Marx within a given passage.</span>\n",
       "<h1 id=\"instructions\">Instructions</h1>\n",
       "<ul>\n",
       "<li>Copy the text of the passage exactly.</li>\n",
       "<li>Annotate each quotation with square brackets.</li>\n",
       "</ul>\n",
       "<h1 id=\"example\">Example</h1>\n",
       "<span class=\"paragraph\"><user_query>\n",
       "ist der Eintritt in die meisten Landtage, in die Provinzial- und Kreisvertretungen. den Arbeitern verschlossen, und in den Gemeindevertretungen nur mit großen Einschränkungen möglich. Das möchte Manchem hente als gleichgiltig erscheinen gegenüber den großen Erfolgen bei den Reichstagswahlen. Ohue diese zu ver¬ kleinern müssen wir jedoch daran erinnern, daß diese Erfolge zum Theil das Produkt außergewöhnlicher Umstände sind, und daß im Uebrigen „die Arbeiter¬ klasse nicht die fertige Staatsmaschine einfach in Besitz nehmen und für ihre eigenen Zwecke in Bewegung setzen kann“ Wir erkennen also an, daß innerhalb gewisser Greuzen und unter bestimmten. erhältnissen — sehr vorgeschrittene politische Einrichtungen - has Proportional¬ wahlsystem wünschbar sein mag. In Deutschland, wo noch so viele Elementar¬ bedingungen demokratischen Lebens fehlen, ist es ein Luxusartikel, für\n",
       "</user_query></span>\n",
       "<span class=\"paragraph\"><assistant_response>\n",
       "ist der Eintritt in die meisten Landtage, in die Provinzial- und Kreisvertretungen. den Arbeitern verschlossen, und in den Gemeindevertretungen nur mit großen Einschränkungen möglich. Das möchte Manchem hente als gleichgiltig erscheinen gegenüber den großen Erfolgen bei den Reichstagswahlen. Ohue diese zu ver¬ kleinern müssen wir jedoch daran erinnern, daß diese Erfolge zum Theil das Produkt außergewöhnlicher Umstände sind, und daß im Uebrigen [„die Arbeiter¬ klasse nicht die fertige Staatsmaschine einfach in Besitz nehmen und für ihre eigenen Zwecke in Bewegung setzen kann“] Wir erkennen also an, daß innerhalb gewisser Greuzen und unter bestimmten. erhältnissen — sehr vorgeschrittene politische Einrichtungen - has Proportional¬ wahlsystem wünschbar sein mag. In Deutschland, wo noch so viele Elementar¬ bedingungen demokratischen Lebens fehlen, ist es ein Luxusartikel, für\n",
       "</assistant_response></span></span>"
      ]
     },
     "metadata": {},
     "output_type": "display_data"
    }
   ],
   "source": [
    "# load prompt\n",
    "with open(\"prompts/quotations/one_shot.txt\") as f1:\n",
    "    one_shot_prompt = f1.read()\n",
    "mo.md(one_shot_prompt)"
   ]
  },
  {
   "cell_type": "code",
   "execution_count": null,
   "id": "ecfG",
   "metadata": {},
   "outputs": [],
   "source": [
    "one_shot_responses = []\n",
    "for _sample_page in [page_text_i256, page_text_i661]:\n",
    "    one_shot_response = submit_prompt(\n",
    "        task_prompt=one_shot_prompt, user_prompt=_sample_page\n",
    "    )\n",
    "    one_shot_responses.append(one_shot_response)"
   ]
  },
  {
   "cell_type": "code",
   "execution_count": null,
   "id": "Pvdt",
   "metadata": {},
   "outputs": [
    {
     "data": {
      "text/html": [
       "<span class=\"markdown prose dark:prose-invert\"><span class=\"paragraph\">Kautsky: Was will und kann die materialistische Geschichtsauffassung leisten? 231\n",
       "der Wechselwirkung von, um mit Bax zu sprechen, äußeren und inneren Faktoren.\n",
       "Man muß eine geradezu mystische Vorstellung von der ökonomischen Entwicklung\n",
       "haben, wenn man annimmt, sie könnte auch den kleinsten Schritt vorwärts machen.\n",
       "ohne die Thätigkeit des menschlichen Geistes. Man halte doch die ökonomischen\n",
       "Bedingungen und die ökonomische Entwicklung auseinander. Das sind zwei ganz\n",
       "verschiedene Dinge.\n",
       "In letzter Linie ist die ökonomische Entwicklung nichts Anderes als die\n",
       "Entwicklung der Technik, das heißt, die Aufeinanderfolge der Erfindungen,\n",
       "und Entdeckungen. Was sind diese anders als „Wechselwirkungen“ zwischen\n",
       "dem Geist und den ökonomischen Bedingungen?\n",
       "Der historische Materialismus, weit entfernt, die bewegende Kraft des\n",
       "menschlichen Geistes in der Gesellschaft zu verneinen, giebt nur eine besondere,\n",
       "von den bisherigen Annahmen verschiedene Erklärung des Wirkens dieser Kraft.\n",
       "Der Geist bewegt die Gesellschaft, aber nicht als der Herr der ökonomi¬\n",
       "schen Verhältnisse, sondern als ihr Diener. Sie sind es, die ihm die Aufgaben\n",
       "stellen, welche er jeweilig zu lösen hat; sie sind es, die ihm die Mittel zu ihrer\n",
       "Lösung geben. Und daher sind sie es auch, welche die Resultate bestimmen, die\n",
       "er unter gegebenen historischen Bedingungen erzielen kann und erzielen muß. Die\n",
       "nächste Wirkung, die der menschliche Geist mit der Lösung einer feiner Aufgaben\n",
       "rzielt, kann eine von ihm gewøllte und vorhergesehene sein. Aber jede dieser\n",
       "Lösungen muß Wirkungen erzeugen, die er nicht vorhersehen konnte und die\n",
       "oft seinen Absichten direkt widersprechen. Die ökonomische Entwicklung ist das\n",
       "Prodnkt der Wechselwirkung zwischen den ökonomischen Verhältnissen und dem\n",
       "Menschengeist, sie ist aber nicht das Produkt der frei und planmäßig nach ihren\n",
       "Gutdünken die ökonomischen Verhältnisse ordnenden Thätigkeit des Menschen.\n",
       "Eine jede Lösung einer technischen Aufgabe stellt uns vor neue Aufgaben.\n",
       "Die Ueberwindung einer jeden Schranke der Natur stellt uns vor neue Schranken,\n",
       "die wir zu überwinden haben; die Befriedigung eines jeden Bedürfnisses erzeugt.\n",
       "ein neues Bedürfniß. Jeder technische Fortschritt bringt aber auch neue Mittel,\n",
       "neue Aufgaben zu lösen.\n",
       "Aber nicht allein das. Keine technische Veränderung, keine Veränderung\n",
       "in der Produktionsweise oder in der Lebensweise ist möglich ohne Rückwirkungen.\n",
       "auf die Verhältnisse der Menschen zu einander. Eine gewisse Summe technischer\n",
       "Fortschritte wird stets neue Arbeits- und Lebensbedingungen erheischen, die un¬\n",
       "Marx weist darauf hin, daß eine kritische Geschichte der Technologie noch nicht\n",
       "existirt, und bemerkt weiter: <mark>„Darwin hat das Interesse auf die Geschichte der natürlichen\n",
       "Technologie gelenkt, d. h. auf die Bildung der Pflanzen und Thierorgane als Produktions¬\n",
       "instrumente für das Leben der Pflanzen und Thiere. Verdient die Bildungsgeschichte der\n",
       "produktiven Organe des Gesellschaftsmenschen, der materiellen Basis jeder besonderen Gesell¬\n",
       "schaftsorganisation, nicht die gleiche Aufmerksamkeit? Und wäre sie nicht leichter zu liefern,\n",
       "da, wie Vico sagt, die Menschengeschichte sich dadurch von der Naturgeschichte unterscheidet,\n",
       "daß wir die eine gemacht und die andere nicht gemacht haben: Die Technologie enthüllt\n",
       "das aktive Verhalten des Menschen zur Natur, den unmittelbaren Produktionsprozeß seines\n",
       "Lebens, damit auch seiner gesellschaftlichen Lebensverhältnisse und der ihnen entquellenden\n",
       "geistigen Vorstellungen. Selbst alle Religionsgeschichte, die von dieser materiellen Basis ab¬\n",
       "strahirt, ist — unkrilisch. Es ist in der That viel leichter, durch Analyse den irdischen Kern¬\n",
       "der religlösen Nebelbildungen zu finden, als umgekehrt aus den jedesmaligen wirklichen Lebens¬\n",
       "verhältnissen ihre verhimmelten Formen zu etwickeln. Die letztere ist die einzig¬\n",
       "materialistische und daher wissenschaftliche Methode.“</mark> Marx, Kapital, I, 4. Aufl.\n",
       "S. 335, Note 89.</span></span>"
      ]
     },
     "metadata": {},
     "output_type": "display_data"
    }
   ],
   "source": [
    "highlight_bracketed_text(get_text_response(one_shot_responses[0]))"
   ]
  },
  {
   "cell_type": "code",
   "execution_count": null,
   "id": "ZBYS",
   "metadata": {},
   "outputs": [
    {
     "data": {
      "text/html": [
       "<span class=\"markdown prose dark:prose-invert\"><span class=\"paragraph\">Die Neue Zeit.\n",
       "612\n",
       "—\n",
       "Männer\" habet in solchen gallen so gut wie immer für die Reaktion und gegen¬\n",
       "die Sozialdemokratie entschieden, unter schmunzelndem Schweigen des Herrn Richter\n",
       "Einerseits weiß er, daß die Junker nach dem Grundsatz leben: Hand wird nur\n",
       "von Hand gewaschen, daß sie bei den Stichwahlen den Freisinn aufsttzen lassen,\n",
       "rseits weiß er, daß die Sozialdemokraten prin¬\n",
       "wenn er sie aufsitzen läßt, ander.\n",
       "zipielle Politik treiben und in den Stichwahlen zwischen Freisinn und Reaktion\n",
       "immer dem „kleineren Uebel“ den Vorzug geben. Herr Richter will, daß die\n",
       "freisinnige Fraktion des Reichstags fortbesteht wie bisher: halb als Hilfstruppen,\n",
       "der Reaktion, halb als Kanonenfutter der Sozialdemokratie. Und würde man\n",
       "ihm sagen, das sei doch ein sehr schäbiges Dasein, so würde der große Denker\n",
       "achselzuckend antworten: Lieber sehr schäbig, als gar nicht leben!\"\n",
       "Der schöne Gedanke der „liberalen Phalanx\" ließe sich nur etwa dann\n",
       "denken, wenn das berühmte „deutsche Bürgerthum\" sich aus eigener Kraft auf¬\n",
       "raffte, sowohl der Klique Richter=Träger als auch der Klique Rickert=Barth den\n",
       "Laufpaß gäbe, sich den Kopf frei machte von dem „allgemeinen Phrafennebel,\n",
       "der kapitalistischen Presse und endlich einmal, was ihm Lassalle schon vor dreißig,\n",
       "Jahren gerathen hat, selbst denken und selbst handeln kernte. Aber natürlich\n",
       "ist dieser Gedanke die reine Phantasmagorie, genau dieselbe Phantasmagorie,\n",
       "welche das berühmte „deutsche Bürgerthum“ selbst ist. Die liberale Bourgeoisie,\n",
       "ist ein Offizierkorps ohne Heer, und findet keine Massen mehr, die ihre Schlachten¬\n",
       "schlagen. Das Kleinbürgerthum ist in seinen rückständigeren Elementen zum Anti¬\n",
       "semittsmus, in seinen vorgeschritteneren Elementen zur Sozialdemokratie ab¬\n",
       "geschwenkt. Das industrielle Proletariat läßt sich nirgends mehr durch kapitalistischer\n",
       "Redensartet nasführen, und das ländliche Proletariat lebt noch im geistigen\n",
       "Banne der Junker und Pfaffen, aus dem es einmal die Sozialdemokratie lösen¬\n",
       "wird, aber die liberale Bourgeoisie niemals lösen kann.\n",
       "Somit wird die „liberale Phalanx“ im Reiche der „Wahldichtung\" und\n",
       "der „Trittksprüche\" bleiben, und der freisinnige Wahlkampf wird in den Bahnen\n",
       "verlaufen, die ihm Herr Richter vorgezeichnet hat. Wobei für die übrige Menschheit,\n",
       "wenigstens der Trost abfällt, daß auch der verbohrteste Manchestermann durch\n",
       "fortgesetzte Schläge etwas lernen kann, wenn auch nur etwas sehr Schäbiges.</span>\n",
       "<span class=\"paragraph\">NEW_DOCUMENT  <br />\n",
       "Lafargue,_1897_15:01_531_Die-ökonomischen-Funktionen-der-Börse.</span>\n",
       "<span class=\"paragraph\">///// Die ökonomischen Funktionen der Börse. \n",
       "Ein Beitrag zur Werththeorie <mark>1</mark> ////// Paul Lafargue </span>\n",
       "<span class=\"paragraph\">Nachdem Marx im ersten Bande des „Kapital“, Kapitel X, das Gesetz,\n",
       "des Mehrwerths festgestellt hatte, fügte er sogleich hinzu, <mark>„daß dies Gesetz offenbar,\n",
       "aller auf den Augenschein gegründeten Erfahrung widerspricht\". „Zur Lösung\n",
       "dieses Widerspruchs\" fährt er fort, „bedarf es noch vieler Mittelglieder.“</mark> Er\n",
       "versprach, diese Lösung später zu geben.\n",
       "Die wenigen Nationalökonomen, denen diese Stelle auffiel, setzten ihre\n",
       "Zuversicht auf diesen ihnen unlösbar scheinenden Widerspruch, der nach ihrer\n",
       "Ansicht die Theorie zu Falle bringen mußte. Mehrere hofften, daß der Theore¬\n",
       "tiker des Werthes dort mit seiner Dialektik und seinem Kommunismus scheitern\n",
       "werde, denen, wie sie überzeugt waren, jede wissenschaftliche Grundlage fehle.\n",
       "Herr Loria, der geniale Entdecker so mancher schon von Marx entdeckten\n",
       "Theorien, ging so weit, zu behaupten, daß derselbe, um seine Ohnmacht nicht\n",
       "einzugestehen, sich entschlossen hätte, die beiden Bände, welche sein ökonomisches</span></span>"
      ]
     },
     "metadata": {},
     "output_type": "display_data"
    }
   ],
   "source": [
    "highlight_bracketed_text(get_text_response(one_shot_responses[1]))"
   ]
  },
  {
   "cell_type": "markdown",
   "id": "aLJB",
   "metadata": {},
   "source": [
    "The results from the one-shot prompt are exactly the same as the zero-shot."
   ]
  }
 ],
 "metadata": {},
 "nbformat": 4,
 "nbformat_minor": 5
}
