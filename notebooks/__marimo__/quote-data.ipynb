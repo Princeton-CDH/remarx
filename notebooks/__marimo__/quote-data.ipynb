{
 "cells": [
  {
   "cell_type": "markdown",
   "id": "Hbol",
   "metadata": {
    "marimo": {
     "config": {
      "hide_code": true
     }
    }
   },
   "source": [
    "# Identify subset of examples for direct quotes\n",
    "\n",
    "## Load & filter annotation data\n",
    "\n",
    "**Goal:** Find a subset of pages with direct quotes to be use for testing and experimentation."
   ]
  },
  {
   "cell_type": "code",
   "execution_count": null,
   "id": "MJUe",
   "metadata": {},
   "outputs": [],
   "source": [
    "import marimo as mo\n",
    "import polars as pl"
   ]
  },
  {
   "cell_type": "code",
   "execution_count": null,
   "id": "vblA",
   "metadata": {},
   "outputs": [
    {
     "data": {
      "text/html": [
       "<marimo-ui-element object-id='vblA-0' random-id='0cac6964-5b74-1cb9-9643-80b637975809'><marimo-table data-initial-value='[]' data-label='null' data-data='&quot;./@file/18246-37715080-VZmlQl47.json&quot;' data-total-rows='347' data-total-columns='7' data-banner-text='&quot;&quot;' data-pagination='true' data-page-size='10' data-field-types='[[&quot;UUID&quot;, [&quot;string&quot;, &quot;str&quot;]], [&quot;FILE&quot;, [&quot;string&quot;, &quot;str&quot;]], [&quot;QUOTE_TRANSCRIPTION&quot;, [&quot;string&quot;, &quot;str&quot;]], [&quot;TAGS&quot;, [&quot;string&quot;, &quot;str&quot;]], [&quot;COMMENTS&quot;, [&quot;string&quot;, &quot;str&quot;]], [&quot;start_index&quot;, [&quot;integer&quot;, &quot;i64&quot;]], [&quot;end_index&quot;, [&quot;integer&quot;, &quot;i64&quot;]]]' data-show-filters='true' data-show-download='true' data-show-column-summaries='true' data-row-headers='[]' data-has-stable-row-id='false' data-lazy='false' data-preload='false'></marimo-table></marimo-ui-element>"
      ]
     },
     "metadata": {},
     "output_type": "display_data"
    }
   ],
   "source": [
    "# load all annotation data files\n",
    "df = pl.read_csv(\"data/annotation/*.csv\")\n",
    "# limit to the columns we care about\n",
    "df = df.select(\n",
    "    pl.col(\"UUID\", \"FILE\", \"QUOTE_TRANSCRIPTION\", \"ANCHOR\", \"TAGS\", \"COMMENTS\")\n",
    ")\n",
    "# turn char-offset into numeric start index, calculate end index\n",
    "df = (\n",
    "    df.with_columns(start_index=pl.col(\"ANCHOR\").str.slice(12).cast(dtype=int))\n",
    "    .with_columns(\n",
    "        end_index=pl.col(\"start_index\").add(\n",
    "            pl.col(\"QUOTE_TRANSCRIPTION\").str.len_chars()\n",
    "        )\n",
    "    )\n",
    "    .drop(\"ANCHOR\")\n",
    ")\n",
    "df"
   ]
  },
  {
   "cell_type": "markdown",
   "id": "bkHC",
   "metadata": {
    "marimo": {
     "config": {
      "hide_code": true
     }
    }
   },
   "source": [
    "Filter to the subset of annotations that have direct references to the texts that are in scope for this phase."
   ]
  },
  {
   "cell_type": "code",
   "execution_count": null,
   "id": "lEQa",
   "metadata": {},
   "outputs": [
    {
     "data": {
      "text/html": [
       "<marimo-ui-element object-id='lEQa-0' random-id='c17128c1-d891-85c0-fc0b-c05cad0f8a3e'><marimo-table data-initial-value='[]' data-label='null' data-data='&quot;./@file/9210-37715080-E4usOkWn.json&quot;' data-total-rows='45' data-total-columns='7' data-banner-text='&quot;&quot;' data-pagination='true' data-page-size='10' data-field-types='[[&quot;UUID&quot;, [&quot;string&quot;, &quot;str&quot;]], [&quot;FILE&quot;, [&quot;string&quot;, &quot;str&quot;]], [&quot;QUOTE_TRANSCRIPTION&quot;, [&quot;string&quot;, &quot;str&quot;]], [&quot;TAGS&quot;, [&quot;string&quot;, &quot;str&quot;]], [&quot;COMMENTS&quot;, [&quot;string&quot;, &quot;str&quot;]], [&quot;start_index&quot;, [&quot;integer&quot;, &quot;i64&quot;]], [&quot;end_index&quot;, [&quot;integer&quot;, &quot;i64&quot;]]]' data-show-filters='true' data-show-download='true' data-show-column-summaries='true' data-row-headers='[]' data-has-stable-row-id='false' data-lazy='false' data-preload='false'></marimo-table></marimo-ui-element>"
      ]
     },
     "metadata": {},
     "output_type": "display_data"
    }
   ],
   "source": [
    "# filter to the subset with direct quotes from texts of interest\n",
    "# - we want tag only, no qualification such as |Title Reference or |Concept Reference\n",
    "quotes_df = df.filter(\n",
    "    pl.col(\"TAGS\").is_in([\"Kapital\", \"Manifest der Kommunistischen Partei\"])\n",
    ")\n",
    "quotes_df"
   ]
  },
  {
   "cell_type": "code",
   "execution_count": null,
   "id": "PKri",
   "metadata": {},
   "outputs": [
    {
     "data": {
      "text/html": [
       "<marimo-ui-element object-id='PKri-0' random-id='14088bd5-ff74-1b60-4019-d7bfa61d50d2'><marimo-table data-initial-value='[]' data-label='null' data-data='&quot;./@file/498-37715080-Q1kmF4vB.json&quot;' data-total-rows='6' data-total-columns='3' data-banner-text='&quot;&quot;' data-pagination='true' data-page-size='10' data-field-types='[[&quot;FILE&quot;, [&quot;string&quot;, &quot;str&quot;]], [&quot;count&quot;, [&quot;integer&quot;, &quot;u32&quot;]], [&quot;TAGS&quot;, [&quot;string&quot;, &quot;str&quot;]]]' data-show-filters='true' data-show-download='true' data-show-column-summaries='false' data-row-headers='[]' data-has-stable-row-id='false' data-lazy='false' data-preload='false'></marimo-table></marimo-ui-element>"
      ]
     },
     "metadata": {},
     "output_type": "display_data"
    }
   ],
   "source": [
    "quotes_df.group_by(\"FILE\").agg(\n",
    "    pl.col(\"TAGS\").count().alias(\"count\"),\n",
    "    pl.col(\"TAGS\").unique().str.join(\"|\"),\n",
    ")"
   ]
  },
  {
   "cell_type": "markdown",
   "id": "Xref",
   "metadata": {
    "marimo": {
     "config": {
      "hide_code": true
     }
    }
   },
   "source": [
    "`1896-97aCLEAN.txt` has the most direct quotes and has some from both Marx texts; let's use that one."
   ]
  },
  {
   "cell_type": "code",
   "execution_count": null,
   "id": "SFPL",
   "metadata": {},
   "outputs": [
    {
     "data": {
      "text/html": [
       "<marimo-ui-element object-id='SFPL-0' random-id='8d76b26e-d087-cd57-b64a-2fa60f91c9e5'><marimo-table data-initial-value='[]' data-label='null' data-data='&quot;./@file/9210-37715080-xhYgmDCJ.json&quot;' data-total-rows='16' data-total-columns='7' data-banner-text='&quot;&quot;' data-pagination='true' data-page-size='10' data-field-types='[[&quot;UUID&quot;, [&quot;string&quot;, &quot;str&quot;]], [&quot;FILE&quot;, [&quot;string&quot;, &quot;str&quot;]], [&quot;QUOTE_TRANSCRIPTION&quot;, [&quot;string&quot;, &quot;str&quot;]], [&quot;TAGS&quot;, [&quot;string&quot;, &quot;str&quot;]], [&quot;COMMENTS&quot;, [&quot;string&quot;, &quot;str&quot;]], [&quot;start_index&quot;, [&quot;integer&quot;, &quot;i64&quot;]], [&quot;end_index&quot;, [&quot;integer&quot;, &quot;i64&quot;]]]' data-show-filters='true' data-show-download='true' data-show-column-summaries='true' data-row-headers='[]' data-has-stable-row-id='false' data-lazy='false' data-preload='false'></marimo-table></marimo-ui-element>"
      ]
     },
     "metadata": {},
     "output_type": "display_data"
    }
   ],
   "source": [
    "# 1896-97aCLEAN.txt has the most direct quotes and has some from both texts\n",
    "quote_subset_df = quotes_df.filter(pl.col(\"FILE\").eq(\"1896-97aCLEAN.txt\"))\n",
    "quote_subset_df"
   ]
  },
  {
   "cell_type": "markdown",
   "id": "BYtC",
   "metadata": {
    "marimo": {
     "config": {
      "hide_code": true
     }
    }
   },
   "source": [
    "## Load article text and chunk roughly into pages\n",
    "\n",
    "Load the text contents of the file for the annotations we want to use and make sure we can match pages of text to the annotated text."
   ]
  },
  {
   "cell_type": "code",
   "execution_count": null,
   "id": "RGSE",
   "metadata": {},
   "outputs": [
    {
     "data": {
      "text/html": [
       "<marimo-ui-element object-id='RGSE-0' random-id='1eda1783-f8ef-a50f-c7bc-c99c3877d894'><marimo-table data-initial-value='[]' data-label='null' data-data='&quot;./@file/70366-37715080-ZXXf7SWw.json&quot;' data-total-rows='885' data-total-columns='3' data-banner-text='&quot;&quot;' data-pagination='true' data-page-size='10' data-field-types='[[&quot;index&quot;, [&quot;integer&quot;, &quot;u32&quot;]], [&quot;text&quot;, [&quot;string&quot;, &quot;str&quot;]], [&quot;text_length&quot;, [&quot;integer&quot;, &quot;u32&quot;]]]' data-show-filters='true' data-show-download='true' data-show-column-summaries='true' data-row-headers='[]' data-has-stable-row-id='false' data-lazy='false' data-preload='false'></marimo-table></marimo-ui-element>"
      ]
     },
     "metadata": {},
     "output_type": "display_data"
    }
   ],
   "source": [
    "# load text file and chunk into pages\n",
    "\n",
    "with open(\"data/text/1896-97aCLEAN.txt\") as inputfile:\n",
    "    text = inputfile.read()\n",
    "    pages = text.split(\"\\n\\n\\n\")\n",
    "\n",
    "page_df = pl.DataFrame(data={\"text\": pages}).with_row_index()\n",
    "# add field to calculate text length\n",
    "page_df = page_df.with_columns(text_length=pl.col(\"text\").str.len_chars())\n",
    "page_df"
   ]
  },
  {
   "cell_type": "code",
   "execution_count": null,
   "id": "Kclp",
   "metadata": {},
   "outputs": [],
   "source": [
    "# calculate start index for each page based on preceding text length + split characters\n",
    "page_start_indices = []\n",
    "# first page index is zero\n",
    "current_index = 0\n",
    "for page in page_df.iter_rows(named=True):\n",
    "    # add current page index to the list\n",
    "    page_start_indices.append(current_index)\n",
    "    # add length of this place plus characters used to split\n",
    "    current_index += page[\"text_length\"] + 3"
   ]
  },
  {
   "cell_type": "code",
   "execution_count": null,
   "id": "emfo",
   "metadata": {},
   "outputs": [
    {
     "data": {
      "text/html": [
       "<marimo-ui-element object-id='emfo-0' random-id='4460b124-03fb-d225-3705-30692c4d2cef'><marimo-table data-initial-value='[]' data-label='null' data-data='&quot;./@file/70716-37715080-FenQqbFl.json&quot;' data-total-rows='885' data-total-columns='5' data-banner-text='&quot;&quot;' data-pagination='true' data-page-size='10' data-field-types='[[&quot;index&quot;, [&quot;integer&quot;, &quot;u32&quot;]], [&quot;text&quot;, [&quot;string&quot;, &quot;str&quot;]], [&quot;text_length&quot;, [&quot;integer&quot;, &quot;u32&quot;]], [&quot;page_start&quot;, [&quot;integer&quot;, &quot;i64&quot;]], [&quot;page_end&quot;, [&quot;integer&quot;, &quot;i64&quot;]]]' data-show-filters='true' data-show-download='true' data-show-column-summaries='true' data-row-headers='[]' data-has-stable-row-id='false' data-lazy='false' data-preload='false'></marimo-table></marimo-ui-element>"
      ]
     },
     "metadata": {},
     "output_type": "display_data"
    }
   ],
   "source": [
    "# add page start index to the dataframe of page text and calculate end of page\n",
    "page_df_start = page_df.insert_column(\n",
    "    3, pl.Series(\"page_start\", page_start_indices)\n",
    ").with_columns(page_end=pl.col(\"page_start\").add(pl.col(\"text_length\")))\n",
    "page_df_start"
   ]
  },
  {
   "cell_type": "markdown",
   "id": "Hstk",
   "metadata": {
    "marimo": {
     "config": {
      "hide_code": true
     }
    }
   },
   "source": [
    "Spot check alignment of page text and annotation text."
   ]
  },
  {
   "cell_type": "code",
   "execution_count": null,
   "id": "nWHF",
   "metadata": {},
   "outputs": [
    {
     "data": {
      "application/json": "{\"UUID\": \"268cb4b1-e25e-4c51-a3d0-aa51b85a298c\", \"FILE\": \"1896-97aCLEAN.txt\", \"QUOTE_TRANSCRIPTION\": \"\\u201edie Arbeiter\\u00ac klasse nicht die fertige Staatsmaschine einfach in Besitz nehmen und f\\u00fcr ihre eigenen Zwecke in Bewegung setzen kann\\u201c\", \"TAGS\": \"Manifest der Kommunistischen Partei\", \"COMMENTS\": \"From German Forward 1872\", \"start_index\": 91679, \"end_index\": 91811}"
     },
     "metadata": {},
     "output_type": "display_data"
    }
   ],
   "source": [
    "# check text index matching\n",
    "first_row = quotes_df.row(0, named=True)\n",
    "first_row"
   ]
  },
  {
   "cell_type": "code",
   "execution_count": null,
   "id": "iLit",
   "metadata": {},
   "outputs": [
    {
     "name": "stdout",
     "output_type": "stream",
     "text": [
      "„die Arbeiter¬\n",
      "klasse nicht die fertige Staatsmaschine einfach in Besitz nehmen und für ihre\n",
      "eigenen Zwecke in Bewegung setzen kann“\n"
     ]
    }
   ],
   "source": [
    "text_substring = text[first_row[\"start_index\"] : first_row[\"end_index\"]]\n",
    "print(text_substring)"
   ]
  },
  {
   "cell_type": "code",
   "execution_count": null,
   "id": "ZHCJ",
   "metadata": {},
   "outputs": [
    {
     "name": "stdout",
     "output_type": "stream",
     "text": [
      "„die Arbeiter¬ klasse nicht die fertige Staatsmaschine einfach in Besitz nehmen und für ihre eigenen Zwecke in Bewegung setzen kann“\n"
     ]
    }
   ],
   "source": [
    "print(first_row[\"QUOTE_TRANSCRIPTION\"])"
   ]
  },
  {
   "cell_type": "code",
   "execution_count": null,
   "id": "ROlb",
   "metadata": {},
   "outputs": [
    {
     "data": {
      "text/html": [
       "<pre style='font-size: 12px'>True</pre>"
      ]
     },
     "metadata": {},
     "output_type": "display_data"
    }
   ],
   "source": [
    "text_substring.replace(\"\\n\", \" \") == first_row[\"QUOTE_TRANSCRIPTION\"]"
   ]
  },
  {
   "cell_type": "markdown",
   "id": "qnkX",
   "metadata": {
    "marimo": {
     "config": {
      "hide_code": true
     }
    }
   },
   "source": [
    "The text in the exported annotation does not include newlines, but once we're calculating text length and start/end index\n",
    "correctly, we do have matching text (other than newlines)."
   ]
  },
  {
   "cell_type": "markdown",
   "id": "TqIu",
   "metadata": {
    "marimo": {
     "config": {
      "hide_code": true
     }
    }
   },
   "source": [
    "## Combine page text with selected annotations"
   ]
  },
  {
   "cell_type": "code",
   "execution_count": null,
   "id": "Vxnm",
   "metadata": {},
   "outputs": [
    {
     "data": {
      "text/html": [
       "<marimo-ui-element object-id='Vxnm-0' random-id='e0b3ae06-60e5-fa09-016a-878a0c657d50'><marimo-table data-initial-value='[]' data-label='null' data-data='&quot;./@file/47946-37715080-gkGth3jt.json&quot;' data-total-rows='16' data-total-columns='12' data-banner-text='&quot;&quot;' data-pagination='true' data-page-size='10' data-field-types='[[&quot;UUID&quot;, [&quot;string&quot;, &quot;str&quot;]], [&quot;FILE&quot;, [&quot;string&quot;, &quot;str&quot;]], [&quot;QUOTE_TRANSCRIPTION&quot;, [&quot;string&quot;, &quot;str&quot;]], [&quot;TAGS&quot;, [&quot;string&quot;, &quot;str&quot;]], [&quot;COMMENTS&quot;, [&quot;string&quot;, &quot;str&quot;]], [&quot;start_index&quot;, [&quot;integer&quot;, &quot;i64&quot;]], [&quot;end_index&quot;, [&quot;integer&quot;, &quot;i64&quot;]], [&quot;page_index&quot;, [&quot;integer&quot;, &quot;u32&quot;]], [&quot;page_text&quot;, [&quot;string&quot;, &quot;str&quot;]], [&quot;text_length&quot;, [&quot;integer&quot;, &quot;u32&quot;]], [&quot;page_start&quot;, [&quot;integer&quot;, &quot;i64&quot;]], [&quot;page_end&quot;, [&quot;integer&quot;, &quot;i64&quot;]]]' data-show-filters='true' data-show-download='true' data-show-column-summaries='true' data-row-headers='[]' data-has-stable-row-id='false' data-lazy='false' data-preload='false'></marimo-table></marimo-ui-element>"
      ]
     },
     "metadata": {},
     "output_type": "display_data"
    }
   ],
   "source": [
    "# join subset of quotes with page text; rename page text columns for clarity\n",
    "quote_subset_pages = quote_subset_df.join_where(\n",
    "    page_df_start.rename({\"text\": \"page_text\", \"index\": \"page_index\"}),\n",
    "    pl.col(\"start_index\") >= pl.col(\"page_start\"),\n",
    "    pl.col(\"start_index\") <= pl.col(\"page_end\"),\n",
    ")\n",
    "quote_subset_pages"
   ]
  },
  {
   "cell_type": "markdown",
   "id": "DnEU",
   "metadata": {
    "marimo": {
     "config": {
      "hide_code": true
     }
    }
   },
   "source": [
    "Check alignment of text between quotes and page text."
   ]
  },
  {
   "cell_type": "code",
   "execution_count": null,
   "id": "ulZA",
   "metadata": {},
   "outputs": [
    {
     "name": "stdout",
     "output_type": "stream",
     "text": [
      "Zur Lösung dieses Widerspruchs\" fährt er fort, „bedarf es noch vieler Mittelglieder.“ Er versprach, diese Lösung später zu geben.\n",
      "Kapital (article 2262872:2263001 / page 2802:2931) \n",
      "Zur Lösung\n",
      "dieses Widerspruchs\" fährt er fort, „bedarf es noch vieler Mittelglieder.“ Er\n",
      "versprach, diese Lösung später zu geben.\n",
      "\n",
      "\n",
      "daß dies Gesetz offenbar, aller auf den Augenschein gegründeten Erfahrung widerspricht\". „\n",
      "Kapital (article 2262782:2262872 / page 2712:2802) \n",
      "daß dies Gesetz offenbar,\n",
      "aller auf den Augenschein gegründeten Erfahrung widerspricht\". „\n",
      "\n",
      "\n",
      "1 Vergl. „Kapital“, Bd. I, S. 329, Aum. 75, und Roscher, „System der Volkswirth¬ schaft, 1. Auflage (1854½), S. 359, 360, 361.\n",
      "Kapital (article 1843563:1843689 / page 3696:3822) \n",
      "1 Vergl. „Kapital“, Bd. I, S. 329, Aum. 75, und Roscher, „System der Volkswirth¬\n",
      "schaft, 1. Auflage (1854½), S. 359, 360, 361.\n",
      "\n",
      "\n",
      "Marx hat ferner die Ausführung von Roscher total auf den Kopf gestellt¬ und endlich den Anschein erweckt, als ob sein Werthbegriff etwas wefentlich Anderes, als der konstituirte Werth Proudhons ist.*\n",
      "Kapital (article 1840225:1840424 / page 358:557) \n",
      "Marx hat ferner die Ausführung von Roscher total auf den Kopf gestellt¬\n",
      "und endlich den Anschein erweckt, als ob sein Werthbegriff etwas wefentlich Anderes,\n",
      "als der konstituirte Werth Proudhons ist.*\n",
      "\n",
      "\n",
      "bereits im Begriff ist, den Feuerbachschen „Menschen“ preiszugeben; an seine Stelle das (originale) „wirkliche r Gattungswesen\" zu setzen. „Kapital“, Bd. I S. 453.\n",
      "Kapital (article 1832145:1832308 / page 3260:3423) \n",
      "bereits im Begriff ist, den\n",
      "Feuerbachschen „Menschen“ preiszugeben; an seine Stelle das (originale) „wirkliche r\n",
      "Gattungswesen\" zu setzen.\n",
      "„Kapital“, Bd. I S. 453.\n",
      "\n",
      "\n",
      "Hierzu glaubte ich ganz besonders dadurch berechtigt zu sein, daß ich das „wirkliche Gattungswesen Mensch\" zwar nicht dem Namen, aber der Sache nach, in „Kapital\" als frei vergesellschafteten Menschen und als „das total entwickelte In¬ dividuum\" welches nach dem Absterben des Staates bewußt Produktionsprozesse leitet,“ wiedergefunden habe\n",
      "Kapital (article 1829304:1829644 / page 419:759) \n",
      "Hierzu glaubte ich ganz besonders dadurch berechtigt zu sein, daß ich das\n",
      "„wirkliche Gattungswesen Mensch\" zwar nicht dem Namen, aber der Sache nach, in\n",
      "„Kapital\" als frei vergesellschafteten Menschen und als „das total entwickelte In¬\n",
      "dividuum\" welches nach dem Absterben des Staates bewußt Produktionsprozesse\n",
      "leitet,“ wiedergefunden habe\n",
      "\n",
      "\n",
      "Herr v. Struve glaubt diese beiden Begriffe identifiziren zu sollen, währende schon 3. B. „Stirner“ ganz klar darüber war, daß Marx bei seinem „wirklichen Gattungswesen Mensch\" eine Abwendung von dem Feuerbachschen Meuschen vollzog.) „Kapital“, Bd. I, 4. Auflage, S. 26. Gilt auch für das sich im Text unmittelbar anschließende.\n",
      "Kapital (article 1827901:1828229 / page 3176:3504) \n",
      "Herr v. Struve glaubt diese beiden Begriffe identifiziren zu sollen, währende\n",
      "schon 3. B. „Stirner“ ganz klar darüber war, daß Marx bei seinem „wirklichen\n",
      "Gattungswesen Mensch\" eine Abwendung von dem Feuerbachschen Meuschen vollzog.)\n",
      "„Kapital“, Bd. I, 4. Auflage, S. 26. Gilt auch für das sich im Text unmittelbar\n",
      "anschließende.\n",
      "\n",
      "\n",
      "daß der Begriff der gleichgeltenden menschlichen Arbeit nur gebildet werden konnte, „sobald der Begriff der menschlichen Gleichheit bereits die Festigkeit eines Volks¬ vorurtheils besitzt\", von vornherein nicht nur ökonomische, sondern im strengen Sinnte des Wortes filtliche Elemente im Begriff der gleichgeltenden Arbeit ent¬ halten sind\n",
      "Kapital (article 1825091:1825430 / page 366:705) \n",
      "daß der Begriff der gleichgeltenden menschlichen Arbeit nur gebildet werden konnte,\n",
      "„sobald der Begriff der menschlichen Gleichheit bereits die Festigkeit eines Volks¬\n",
      "vorurtheils besitzt\", von vornherein nicht nur ökonomische, sondern im strengen\n",
      "Sinnte des Wortes filtliche Elemente im Begriff der gleichgeltenden Arbeit ent¬\n",
      "halten sind\n",
      "\n",
      "\n",
      "Seine Schrift ist in letzter Instanz eben doch auch nur eine jener „Anweisungen zur Beruhigung des bürgerlichen Bewußtseins“ deren Marx schon vor dreißig Jahren so viele in der bürgerlichen Oekonomie entdeckte.\n",
      "Kapital (article 1675081:1675291 / page 1636:1846) \n",
      "Seine\n",
      "Schrift ist in letzter Instanz eben doch auch nur eine jener „Anweisungen zur\n",
      "Beruhigung des bürgerlichen Bewußtseins“ deren Marx schon vor dreißig Jahren\n",
      "so viele in der bürgerlichen Oekonomie entdeckte.\n",
      "\n",
      "\n",
      "Sie haben keine von den Interessen des ganzen Proletariats getrennten Interessen. „Sie stellen keine besonderen Prinzipien auf, wonach sie die proletarische Bewegung modeln wollen. „Die Kommunisten unterscheiden sich von den übrigen proletarischen Par¬ teien nur dadurch, daß sie einerseits in den verschiedenen nationalen Kämpfen der Proletarier die gemeinsamen, von der Nattonalität unabhängigen Interessen des gesammten Proletariats hervorheben und zur Geltung bringen, andererseits dadurch, daß sie in den verschiedenen Entwicklungsstufen, welche der Kampf¬ zwischen Proletariat und Bourgeoisie durchläuft, stets das Interesse der Gesammt¬ bewegung vertreten. „Die Kommunisten sind also praktisch der entschiedenste, immer weiter treibende Theil der Arbeiterparteien aller Länder; sie haben thevretisch vor der Kautsky: Was will und kann die materialistische Geschichtsauffassung leisten? 269. übrigen Masse des Proletariats die Einsicht in die Bedingungen, den Gang und die allgemeinen Resultate der proletarischen Bewegung voraus. „Der nächste Zweck der Kommunisten ist derselbe wie der aller übrigen, proletarischen Parteien: Bildung des Proletariats zur Klasse, Sturz der Bourgeoisie¬ herrschaft, Eroberung der politischen Macht durch das Proletariat. „Die theoretischen Sätze der Kommunisten beruhen keineswegs auf Ideen, auf Prinzipien, die von diesem oder jenem Weltverbesserer erfunden oder ent¬ deckt sind. „Sie sind nur allgemeine Ausdrücke thatsächlicher Verhältnisse eines orist renden Klassenkampfes, einer unter unseren Augen vor sich gehenden geschicht¬ (Tist lichen Bewegung.\n",
      "Manifest der Kommunistischen Partei (article 991080:992675 / page 2496:4091) \n",
      "*** quote end index is larger than page content\n",
      "Sie haben keine von den Interessen des ganzen Proletariats getrennten\n",
      "Interessen.\n",
      "„Sie stellen keine besonderen Prinzipien auf, wonach sie die proletarische\n",
      "Bewegung modeln wollen.\n",
      "„Die Kommunisten unterscheiden sich von den übrigen proletarischen Par¬\n",
      "teien nur dadurch, daß sie einerseits in den verschiedenen nationalen Kämpfen\n",
      "der Proletarier die gemeinsamen, von der Nattonalität unabhängigen Interessen\n",
      "des gesammten Proletariats hervorheben und zur Geltung bringen, andererseits\n",
      "dadurch, daß sie in den verschiedenen Entwicklungsstufen, welche der Kampf¬\n",
      "zwischen Proletariat und Bourgeoisie durchläuft, stets das Interesse der Gesammt¬\n",
      "bewegung vertreten.\n",
      "„Die Kommunisten sind also praktisch der entschiedenste, immer weiter\n",
      "treibende Theil der Arbeiterparteien aller Länder; sie haben thevretisch vor der\n",
      "\n",
      "\n",
      "Im „Kommunistischen Manifest\" untersuchten Marx und Engels die Frage; „In welchem Verhältniß stehen die Kommunisten zu den Proletariern überhaupt?\" und sie erklärten: „Die Kommunisten sind keine besondere Partei gegenüber den anderen terparteien.\n",
      "Manifest der Kommunistischen Partei (article 990828:991074 / page 2244:2490) \n",
      "Im „Kommunistischen Manifest\" untersuchten Marx und Engels die Frage;\n",
      "„In welchem Verhältniß stehen die Kommunisten zu den Proletariern überhaupt?\"\n",
      "und sie erklärten:\n",
      "„Die Kommunisten sind keine besondere Partei gegenüber den anderen\n",
      "terparteien.\n",
      "\n",
      "\n",
      "Eine gewisse Summe technischer Fortschritte wird stets neue Arbeits- und Lebensbedingungen erheischen, die un¬ Marx weist darauf hin, daß eine kritische Geschichte der Technologie noch nicht existirt, und bemerkt weiter: „Darwin hat das Interesse auf die Geschichte der natürlichen Technologie gelenkt, d. h. auf die Bildung der Pflanzen und Thierorgane als Produktions¬ instrumente für das Leben der Pflanzen und Thiere. Verdient die Bildungsgeschichte der produktiven Organe des Gesellschaftsmenschen, der materiellen Basis jeder besonderen Gesell¬ schaftsorganisation, nicht die gleiche Aufmerksamkeit? Und wäre sie nicht leichter zu liefern, da, wie Vico sagt, die Menschengeschichte sich dadurch von der Naturgeschichte unterscheidet, daß wir die eine gemacht und die andere nicht gemacht haben: Die Technologie enthüllt das aktive Verhalten des Menschen zur Natur, den unmittelbaren Produktionsprozeß seines Lebens, damit auch seiner gesellschaftlichen Lebensverhältnisse und der ihnen entquellenden geistigen Vorstellungen. Selbst alle Religionsgeschichte, die von dieser materiellen Basis ab¬ strahirt, ist — unkrilisch. Es ist in der That viel leichter, durch Analyse den irdischen Kern¬ der religlösen Nebelbildungen zu finden, als umgekehrt aus den jedesmaligen wirklichen Lebens¬ verhältnissen ihre verhimmelten Formen zu etwickeln. Die letztere ist die einzig¬ materialistische und daher wissenschaftliche Methode.“ Marx, Kapital, I, 4. Aufl. S. 335, Note 89.\n",
      "Kapital (article 855908:857380 / page 2445:3917) \n",
      "Eine gewisse Summe technischer\n",
      "Fortschritte wird stets neue Arbeits- und Lebensbedingungen erheischen, die un¬\n",
      "Marx weist darauf hin, daß eine kritische Geschichte der Technologie noch nicht\n",
      "existirt, und bemerkt weiter: „Darwin hat das Interesse auf die Geschichte der natürlichen\n",
      "Technologie gelenkt, d. h. auf die Bildung der Pflanzen und Thierorgane als Produktions¬\n",
      "instrumente für das Leben der Pflanzen und Thiere. Verdient die Bildungsgeschichte der\n",
      "produktiven Organe des Gesellschaftsmenschen, der materiellen Basis jeder besonderen Gesell¬\n",
      "schaftsorganisation, nicht die gleiche Aufmerksamkeit? Und wäre sie nicht leichter zu liefern,\n",
      "da, wie Vico sagt, die Menschengeschichte sich dadurch von der Naturgeschichte unterscheidet,\n",
      "daß wir die eine gemacht und die andere nicht gemacht haben: Die Technologie enthüllt\n",
      "das aktive Verhalten des Menschen zur Natur, den unmittelbaren Produktionsprozeß seines\n",
      "Lebens, damit auch seiner gesellschaftlichen Lebensverhältnisse und der ihnen entquellenden\n",
      "geistigen Vorstellungen. Selbst alle Religionsgeschichte, die von dieser materiellen Basis ab¬\n",
      "strahirt, ist — unkrilisch. Es ist in der That viel leichter, durch Analyse den irdischen Kern¬\n",
      "der religlösen Nebelbildungen zu finden, als umgekehrt aus den jedesmaligen wirklichen Lebens¬\n",
      "verhältnissen ihre verhimmelten Formen zu etwickeln. Die letztere ist die einzig¬\n",
      "materialistische und daher wissenschaftliche Methode.“ Marx, Kapital, I, 4. Aufl.\n",
      "S. 335, Note 89.\n",
      "\n",
      "\n",
      "Man vergleiche z. B. mit der oben zitirten Stelle aus¬ den „Deutsch-französischen Jahrbüchern“ über das Geld folgende Auslassung im „Manifest\": „Sie schrieben ihren philosophischen Unstun hinter das französische Original. Zum Beispiel hinter die französische Kritik der Geldverhältnisse schrieben, sie Entäußerung des menschlichen Wesens....“\n",
      "Manifest der Kommunistischen Partei (article 276996:277338 / page 1468:1810) \n",
      "Man vergleiche z. B. mit der oben zitirten Stelle aus¬\n",
      "den „Deutsch-französischen Jahrbüchern“ über das Geld folgende Auslassung im\n",
      "„Manifest\": „Sie schrieben ihren philosophischen Unstun hinter das französische\n",
      "Original. Zum Beispiel hinter die französische Kritik der Geldverhältnisse schrieben,\n",
      "sie Entäußerung des menschlichen Wesens....“\n",
      "\n",
      "\n",
      "heißt es in der harten Kritik des „Deutschen oder des wahren Sozia¬ lismus“ im „Kommunistischen Manifest“. — „bemächtigten sich gierig dieser Literatur (der fozialistischen und kommunistischen Literatur Frankreichs) und ver¬ gaßen nur, daß bei der Einwanderung jener Schriften aus Frankreich die fran¬ zösischen Lebensverhältnisse nicht gleichzeitig nach Deutschland eingewandert waren. Den deutschen Verhältnissen gegenüber verlor die französische Literatur alle nu¬ mittelbar praktische Bedeutung und nahm ein rein Iiterarisches Aussehen an. Als müssige Spekulation über die wahre Gesellschaft, über die Ver¬ wirklichung des menschlichen Wesens mußte sie erscheinen“ (gesperrt, von mir. P. Str.).\n",
      "Manifest der Kommunistischen Partei (article 275895:276593 / page 367:1065) \n",
      "heißt es in der harten Kritik des „Deutschen oder des wahren Sozia¬\n",
      "lismus“ im „Kommunistischen Manifest“.\n",
      "— „bemächtigten sich gierig dieser\n",
      "Literatur (der fozialistischen und kommunistischen Literatur Frankreichs) und ver¬\n",
      "gaßen nur, daß bei der Einwanderung jener Schriften aus Frankreich die fran¬\n",
      "zösischen Lebensverhältnisse nicht gleichzeitig nach Deutschland eingewandert waren.\n",
      "Den deutschen Verhältnissen gegenüber verlor die französische Literatur alle nu¬\n",
      "mittelbar praktische Bedeutung und nahm ein rein Iiterarisches Aussehen an.\n",
      "Als müssige Spekulation über die wahre Gesellschaft, über die Ver¬\n",
      "wirklichung des menschlichen Wesens mußte sie erscheinen“ (gesperrt,\n",
      "von mir. P. Str.).\n",
      "\n",
      "\n",
      "Bet gewissem Höhegrad und Umfang der Waarenproduktion greift die Funktion des Geldes als Zahlungsmittel über die Sphäre der Waarenzirkulation hinaus. Es wird die allgeneine Waare der Kontrakte. Renten, Steuern u. s. w. ver¬ wandeln sich aus Naturallieferungen in Geldzahlungen. Wie sehr diese Um¬ wandlung durch die Gesammtgestalt des Produktionsprozefses bedingt wird, be¬ weist z. B. der zweimal gescheiterte Versuch des römischen Kaiserreichs, alle Ab¬ gaben in Geld zu erheben. Das ungeheure Elend des französischen Landvolts¬ unter Ludwig XIV., das Boisguillebert, Marschall Vauban u. s. w. so beredt denunziren, war nicht nur der Steuerhöhe geschuldet, sondern auch der Verwand¬ lung der Naturalsteuer in Geldsteuer. Wenn andererseits die Naturalform der Grundrente, in Asien zugleich das Hauptelement der Staatssteuer, dort auf Pro¬ duktionselementen beruht, welche sich mit der Umwandelbarkeit von Natural¬ verhältnissen reproduziren erhält jene Zahlungsform rückwirkend die alte Pro¬ duktionsform. Sie bildet eines der Selbsterhaltungsgeheimnisse des türkischen Reichs.“ („Kapital“, I. Band, 2. Auflage, Seite 122.)\n",
      "Kapital (article 155397:156521 / page 1754:2878) \n",
      "Bet gewissem Höhegrad und Umfang der Waarenproduktion greift die Funktion\n",
      "des Geldes als Zahlungsmittel über die Sphäre der Waarenzirkulation hinaus.\n",
      "Es wird die allgeneine Waare der Kontrakte. Renten, Steuern u. s. w. ver¬\n",
      "wandeln sich aus Naturallieferungen in Geldzahlungen. Wie sehr diese Um¬\n",
      "wandlung durch die Gesammtgestalt des Produktionsprozefses bedingt wird, be¬\n",
      "weist z. B. der zweimal gescheiterte Versuch des römischen Kaiserreichs, alle Ab¬\n",
      "gaben in Geld zu erheben. Das ungeheure Elend des französischen Landvolts¬\n",
      "unter Ludwig XIV., das Boisguillebert, Marschall Vauban u. s. w. so beredt\n",
      "denunziren, war nicht nur der Steuerhöhe geschuldet, sondern auch der Verwand¬\n",
      "lung der Naturalsteuer in Geldsteuer. Wenn andererseits die Naturalform der\n",
      "Grundrente, in Asien zugleich das Hauptelement der Staatssteuer, dort auf Pro¬\n",
      "duktionselementen beruht, welche sich mit der Umwandelbarkeit von Natural¬\n",
      "verhältnissen reproduziren erhält jene Zahlungsform rückwirkend die alte Pro¬\n",
      "duktionsform. Sie bildet eines der Selbsterhaltungsgeheimnisse des\n",
      "türkischen Reichs.“ („Kapital“, I. Band, 2. Auflage, Seite 122.)\n",
      "\n",
      "\n",
      "„die Arbeiter¬ klasse nicht die fertige Staatsmaschine einfach in Besitz nehmen und für ihre eigenen Zwecke in Bewegung setzen kann“\n",
      "Manifest der Kommunistischen Partei (article 91679:91811 / page 2507:2639) \n",
      "„die Arbeiter¬\n",
      "klasse nicht die fertige Staatsmaschine einfach in Besitz nehmen und für ihre\n",
      "eigenen Zwecke in Bewegung setzen kann“\n",
      "\n",
      "\n"
     ]
    }
   ],
   "source": [
    "# iterate over quotes and output to check that we're getting the correct content\n",
    "\n",
    "for quote in quote_subset_pages.iter_rows(named=True):\n",
    "    print(quote[\"QUOTE_TRANSCRIPTION\"])\n",
    "    page_start_index, page_end_index = (\n",
    "        quote[\"start_index\"] - quote[\"page_start\"],\n",
    "        quote[\"end_index\"] - quote[\"page_start\"],\n",
    "    )\n",
    "    print(f\"{quote['TAGS']} (article {quote['start_index']}:{quote['end_index']} / page {page_start_index}:{page_end_index}) \")\n",
    "    if page_end_index > len(quote['page_text']):\n",
    "        print(\"*** quote end index is larger than page content\")\n",
    "    print(quote[\"page_text\"][page_start_index:page_end_index])\n",
    "    print(\"\\n\")"
   ]
  },
  {
   "cell_type": "markdown",
   "id": "ecfG",
   "metadata": {
    "marimo": {
     "config": {
      "hide_code": true
     }
    }
   },
   "source": [
    "Some pages have more than one quote, but in this set the quotes on the same page are from the same Marx text."
   ]
  },
  {
   "cell_type": "code",
   "execution_count": null,
   "id": "Pvdt",
   "metadata": {},
   "outputs": [
    {
     "data": {
      "text/html": [
       "<marimo-ui-element object-id='Pvdt-0' random-id='83f25570-3eb2-0406-014b-a672a7c13214'><marimo-table data-initial-value='[]' data-label='null' data-data='&quot;./@file/332-37715080-SOmmQ8bK.json&quot;' data-total-rows='6' data-total-columns='3' data-banner-text='&quot;&quot;' data-pagination='true' data-page-size='10' data-field-types='[[&quot;page_index&quot;, [&quot;integer&quot;, &quot;u32&quot;]], [&quot;count&quot;, [&quot;integer&quot;, &quot;u32&quot;]], [&quot;TAGS&quot;, [&quot;string&quot;, &quot;str&quot;]]]' data-show-filters='true' data-show-download='true' data-show-column-summaries='false' data-row-headers='[]' data-has-stable-row-id='false' data-lazy='false' data-preload='false'></marimo-table></marimo-ui-element>"
      ]
     },
     "metadata": {},
     "output_type": "display_data"
    }
   ],
   "source": [
    "# which pages have more than one quote?\n",
    "quote_subset_pages.group_by(\"page_index\").agg(\n",
    "    pl.col(\"TAGS\").count().alias(\"count\"),\n",
    "    pl.col(\"TAGS\").unique().str.join(\"|\"),\n",
    ").filter(pl.col(\"count\").gt(1))"
   ]
  },
  {
   "cell_type": "markdown",
   "id": "ZBYS",
   "metadata": {
    "marimo": {
     "config": {
      "hide_code": true
     }
    }
   },
   "source": [
    "See the quotes in the context of the page. Use the slider to move between different quotes."
   ]
  },
  {
   "cell_type": "code",
   "execution_count": null,
   "id": "aLJB",
   "metadata": {
    "marimo": {
     "config": {
      "hide_code": true
     }
    }
   },
   "outputs": [
    {
     "data": {
      "text/html": [
       "<marimo-ui-element object-id='aLJB-0' random-id='1b9ed463-49f0-c749-2887-af6e4ef74fba'><marimo-slider data-initial-value='0' data-label='&quot;&lt;span class=&#92;&quot;markdown prose dark:prose-invert&#92;&quot;&gt;&lt;span class=&#92;&quot;paragraph&#92;&quot;&gt;Quote from subset&lt;/span&gt;&lt;/span&gt;&quot;' data-start='0' data-stop='15' data-step='1' data-steps='[]' data-debounce='false' data-orientation='&quot;horizontal&quot;' data-show-value='false' data-full-width='false'></marimo-slider></marimo-ui-element>"
      ]
     },
     "metadata": {},
     "output_type": "display_data"
    }
   ],
   "source": [
    "quote_slider = mo.ui.slider(\n",
    "    start=0,\n",
    "    stop=quote_subset_pages.height - 1,\n",
    "    step=1,\n",
    "    label=\"Quote from subset\",\n",
    ")\n",
    "quote_slider"
   ]
  },
  {
   "cell_type": "code",
   "execution_count": null,
   "id": "nHfw",
   "metadata": {},
   "outputs": [
    {
     "data": {
      "text/html": [
       "<span class=\"markdown prose dark:prose-invert\"><span class=\"paragraph\">Tag: Kapital<br/>\n",
       "    Page index: 661 (article: 2802:2931 page: 2802:2931)</span>\n",
       "<span class=\"paragraph\">Die Neue Zeit.\n",
       "612\n",
       "—\n",
       "Männer\" habet in solchen gallen so gut wie immer für die Reaktion und gegen¬\n",
       "die Sozialdemokratie entschieden, unter schmunzelndem Schweigen des Herrn Richter\n",
       "Einerseits weiß er, daß die Junker nach dem Grundsatz leben: Hand wird nur\n",
       "von Hand gewaschen, daß sie bei den Stichwahlen den Freisinn aufsttzen lassen,\n",
       "rseits weiß er, daß die Sozialdemokraten prin¬\n",
       "wenn er sie aufsitzen läßt, ander.\n",
       "zipielle Politik treiben und in den Stichwahlen zwischen Freisinn und Reaktion\n",
       "immer dem „kleineren Uebel“ den Vorzug geben. Herr Richter will, daß die\n",
       "freisinnige Fraktion des Reichstags fortbesteht wie bisher: halb als Hilfstruppen,\n",
       "der Reaktion, halb als Kanonenfutter der Sozialdemokratie. Und würde man\n",
       "ihm sagen, das sei doch ein sehr schäbiges Dasein, so würde der große Denker\n",
       "achselzuckend antworten: Lieber sehr schäbig, als gar nicht leben!\"\n",
       "Der schöne Gedanke der „liberalen Phalanx\" ließe sich nur etwa dann\n",
       "denken, wenn das berühmte „deutsche Bürgerthum\" sich aus eigener Kraft auf¬\n",
       "raffte, sowohl der Klique Richter=Träger als auch der Klique Rickert=Barth den\n",
       "Laufpaß gäbe, sich den Kopf frei machte von dem „allgemeinen Phrafennebel,\n",
       "der kapitalistischen Presse und endlich einmal, was ihm Lassalle schon vor dreißig,\n",
       "Jahren gerathen hat, selbst denken und selbst handeln kernte. Aber natürlich\n",
       "ist dieser Gedanke die reine Phantasmagorie, genau dieselbe Phantasmagorie,\n",
       "welche das berühmte „deutsche Bürgerthum“ selbst ist. Die liberale Bourgeoisie,\n",
       "ist ein Offizierkorps ohne Heer, und findet keine Massen mehr, die ihre Schlachten¬\n",
       "schlagen. Das Kleinbürgerthum ist in seinen rückständigeren Elementen zum Anti¬\n",
       "semittsmus, in seinen vorgeschritteneren Elementen zur Sozialdemokratie ab¬\n",
       "geschwenkt. Das industrielle Proletariat läßt sich nirgends mehr durch kapitalistischer\n",
       "Redensartet nasführen, und das ländliche Proletariat lebt noch im geistigen\n",
       "Banne der Junker und Pfaffen, aus dem es einmal die Sozialdemokratie lösen¬\n",
       "wird, aber die liberale Bourgeoisie niemals lösen kann.\n",
       "Somit wird die „liberale Phalanx“ im Reiche der „Wahldichtung\" und\n",
       "der „Trittksprüche\" bleiben, und der freisinnige Wahlkampf wird in den Bahnen\n",
       "verlaufen, die ihm Herr Richter vorgezeichnet hat. Wobei für die übrige Menschheit,\n",
       "wenigstens der Trost abfällt, daß auch der verbohrteste Manchestermann durch\n",
       "fortgesetzte Schläge etwas lernen kann, wenn auch nur etwas sehr Schäbiges.</span>\n",
       "<span class=\"paragraph\">NEW_DOCUMENT  <br />\n",
       "Lafargue,_1897_15:01_531_Die-ökonomischen-Funktionen-der-Börse.</span>\n",
       "<span class=\"paragraph\">///// Die ökonomischen Funktionen der Börse. \n",
       "Ein Beitrag zur Werththeorie [1] ////// Paul Lafargue </span>\n",
       "<span class=\"paragraph\">Nachdem Marx im ersten Bande des „Kapital“, Kapitel X, das Gesetz,\n",
       "des Mehrwerths festgestellt hatte, fügte er sogleich hinzu, „daß dies Gesetz offenbar,\n",
       "aller auf den Augenschein gegründeten Erfahrung widerspricht\". „<strong>Zur Lösung\n",
       "dieses Widerspruchs\" fährt er fort, „bedarf es noch vieler Mittelglieder.“ Er\n",
       "versprach, diese Lösung später zu geben.</strong>\n",
       "Die wenigen Nationalökonomen, denen diese Stelle auffiel, setzten ihre\n",
       "Zuversicht auf diesen ihnen unlösbar scheinenden Widerspruch, der nach ihrer\n",
       "Ansicht die Theorie zu Falle bringen mußte. Mehrere hofften, daß der Theore¬\n",
       "tiker des Werthes dort mit seiner Dialektik und seinem Kommumnismus scheitern.\n",
       "werde, denen, wie sie überzeugt waren, jede wissenschaftliche Grundlage fehle.\n",
       "Herr Loria, der geniale Entdecker so mancher schon von Marx entdeckten\n",
       "Theorien, ging so weit, zu behaupten, daß derselbe, um seine Ohumacht nicht\n",
       "einzugestehen, sich entschlossen hätte, die beiden Bände, welche sein ökonomisches</span></span>"
      ]
     },
     "metadata": {},
     "output_type": "display_data"
    }
   ],
   "source": [
    "def show_page(quote):\n",
    "    page_start_index, page_end_index = (\n",
    "        quote[\"start_index\"] - quote[\"page_start\"],\n",
    "        quote[\"end_index\"] - quote[\"page_start\"],\n",
    "    )\n",
    "    # at least one page includes an asterisk; escape so we don't get unintentional italics\n",
    "    before_quote = quote[\"page_text\"][0:page_start_index].replace(\"*\", r\"\\*\")\n",
    "    quote_text = quote[\"page_text\"][page_start_index:page_end_index].replace(\n",
    "        \"*\", r\"\\*\"\n",
    "    )\n",
    "    after_quote = quote[\"page_text\"][page_end_index:].replace(\"*\", r\"\\*\")\n",
    "\n",
    "    return mo.md(f\"\"\"\n",
    "    Tag: {quote[\"TAGS\"]}<br/>\n",
    "    Page index: {quote[\"page_index\"]} (article: {page_start_index}:{page_end_index} page: {page_start_index}:{page_end_index})\n",
    "\n",
    "    {before_quote}**{quote_text}**{after_quote}\n",
    "    \"\"\")\n",
    "\n",
    "\n",
    "show_page(quote_subset_pages.row(quote_slider.value, named=True))"
   ]
  },
  {
   "cell_type": "markdown",
   "id": "xXTn",
   "metadata": {},
   "source": [
    "Save the identified subset of quotes and associated page text for use in other experiments."
   ]
  },
  {
   "cell_type": "code",
   "execution_count": null,
   "id": "AjVT",
   "metadata": {},
   "outputs": [
    {
     "data": {
      "text/html": [
       "<marimo-ui-element object-id='AjVT-0' random-id='bc6f5785-d62f-a1f9-2f87-4f15755701c6'><marimo-table data-initial-value='[]' data-label='null' data-data='&quot;./@file/47946-37715080-dTQ7wVQZ.json&quot;' data-total-rows='16' data-total-columns='12' data-banner-text='&quot;&quot;' data-pagination='true' data-page-size='10' data-field-types='[[&quot;UUID&quot;, [&quot;string&quot;, &quot;str&quot;]], [&quot;FILE&quot;, [&quot;string&quot;, &quot;str&quot;]], [&quot;QUOTE_TRANSCRIPTION&quot;, [&quot;string&quot;, &quot;str&quot;]], [&quot;TAGS&quot;, [&quot;string&quot;, &quot;str&quot;]], [&quot;COMMENTS&quot;, [&quot;string&quot;, &quot;str&quot;]], [&quot;start_index&quot;, [&quot;integer&quot;, &quot;i64&quot;]], [&quot;end_index&quot;, [&quot;integer&quot;, &quot;i64&quot;]], [&quot;page_index&quot;, [&quot;integer&quot;, &quot;u32&quot;]], [&quot;page_text&quot;, [&quot;string&quot;, &quot;str&quot;]], [&quot;text_length&quot;, [&quot;integer&quot;, &quot;u32&quot;]], [&quot;page_start&quot;, [&quot;integer&quot;, &quot;i64&quot;]], [&quot;page_end&quot;, [&quot;integer&quot;, &quot;i64&quot;]]]' data-show-filters='true' data-show-download='true' data-show-column-summaries='true' data-row-headers='[]' data-has-stable-row-id='false' data-lazy='false' data-preload='false'></marimo-table></marimo-ui-element>"
      ]
     },
     "metadata": {},
     "output_type": "display_data"
    }
   ],
   "source": [
    "quote_subset_pages"
   ]
  },
  {
   "cell_type": "code",
   "execution_count": null,
   "id": "pHFh",
   "metadata": {},
   "outputs": [],
   "source": [
    "quote_subset_pages.write_csv(\"data/subset/direct_quotes.csv\", include_bom=True)"
   ]
  }
 ],
 "metadata": {},
 "nbformat": 4,
 "nbformat_minor": 5
}
