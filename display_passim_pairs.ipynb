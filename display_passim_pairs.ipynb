{
 "cells": [
  {
   "cell_type": "markdown",
   "metadata": {},
   "source": [
    "# Display Passim Sentence Pairs Results\n",
    "\n",
    "This notebook displays the results from Passim's pairwise alignment output (`align.json`).\n",
    "\n",
    "## Data Structure\n",
    "\n",
    "Each record in the `align.json` file contains:\n",
    "- **Core alignment fields**: `uid`, `uid2`, `begin`, `end`, `begin2`, `end2`, `s1`, `s2`, `matches`\n",
    "- **Document metadata**: `id`, `id2`, `series`, `series2` (and other original fields)\n",
    "- **Alignment text**: `s1` and `s2` show the aligned texts with `-` characters indicating gaps\n",
    "- **Quality metric**: `matches` indicates the number of matching characters\n"
   ]
  },
  {
   "cell_type": "code",
   "execution_count": 94,
   "metadata": {},
   "outputs": [],
   "source": [
    "import csv\n",
    "import json\n",
    "\n",
    "import matplotlib.pyplot as plt\n",
    "import seaborn as sns\n",
    "from IPython.display import HTML, display\n",
    "\n",
    "# Set up plotting style\n",
    "plt.style.use(\"default\")\n",
    "sns.set_palette(\"husl\")"
   ]
  },
  {
   "cell_type": "code",
   "execution_count": 95,
   "metadata": {},
   "outputs": [],
   "source": [
    "def load_alignments(file_path, max_records=None):\n",
    "    \"\"\"\n",
    "    Load alignment records from the JSONL file.\n",
    "\n",
    "    Args:\n",
    "        file_path: Path to the align.json file\n",
    "        max_records: Maximum number of records to load (None for all)\n",
    "\n",
    "    Returns:\n",
    "        List of alignment records\n",
    "    \"\"\"\n",
    "    alignments = []\n",
    "\n",
    "    with open(file_path, \"r\", encoding=\"utf-8\") as f:\n",
    "        for i, line in enumerate(f):\n",
    "            if max_records and i >= max_records:\n",
    "                break\n",
    "            try:\n",
    "                record = json.loads(line.strip())\n",
    "                alignments.append(record)\n",
    "            except json.JSONDecodeError as e:\n",
    "                print(f\"Error parsing line {i + 1}: {e}\")\n",
    "                continue\n",
    "\n",
    "    print(f\"Loaded {len(alignments)} alignment records\")\n",
    "    return alignments"
   ]
  },
  {
   "cell_type": "code",
   "execution_count": 96,
   "metadata": {},
   "outputs": [
    {
     "name": "stdout",
     "output_type": "stream",
     "text": [
      "Loaded 182 alignment records\n",
      "\n",
      "First record keys: ['uid2', 'uid', 'gid', 'gid2', 'begin2', 'end2', 'begin', 'end', 'id', 'series', 'id2', 'series2', 's1', 's2', 'matches']\n",
      "\n",
      "Sample record structure:\n",
      "  uid2: 1153728304711461001\n",
      "  uid: -4805259505436882714\n",
      "  gid: -7154195190137206662\n",
      "  gid2: 5507437211704151162\n",
      "  begin2: 1826\n",
      "  end2: 3217\n",
      "  begin: 853247\n",
      "  end: 854537\n",
      "  id: 1896-97a\n",
      "  series: dnz\n",
      "  id2: page_303\n",
      "  series2: mega\n",
      "  s1:  eine kritische Geschichte der Technologi------e -noch---- nich----------t -existir--t, -un-------d--- be-------------merkt ------------we-------i----------t---------e-----r-------------: -----\"Darwin hat das Interesse auf die Ge--schichte der natürlichen Technologie gelenkt, d. h. auf die Bildung der Pflanzen- und Thierorgane als Produktions¬ instrumente für das Leben der Pflanzen und Thiere. Verdient die Bildungsgeschichte der produktiven Organe des Gesellschaftsmenschen, der materiellen Basis jeder besonderen Gesell¬ schaftsorganisation, nicht die gleiche Aufmerksamkeit? Und wäre sie nicht leichter zu liefern, da, wie Vico sagt, die Menschengeschichte sich dadurch von der Na--turgeschichte unterscheidet, daß wir die eine gemacht und die andere nicht gemacht haben: Die Technologie enthüllt das aktive Verhalten des Menschen zur Natur, den unmittelbaren Pro--duktionsprozeß seines Lebens, damit auch seiner gesellschaftlichen Lebensverhältnisse und der ihnen entquellenden geistigen Vorstellungen. Selbst alle Religionsgeschichte, die von dieser materiellen Basis ab¬ strahirt, ist — unkrilisch. Es ist in der That viel leichter, durch Analyse den irdischen Kern¬ der religlösen Nebelbildungen zu finden, als umgekehrt aus den jedesmaligen wirklichen Lebens¬ verhältnissen ihre verhimmelten Formen zu e-twickeln. Die letztere ist die einzig¬ materialistische und daher wissenschaftliche Methode.\n",
      "  s2:  Eine kritische Geschichte der Technologie würde überhaupt nachweisen, wie wenig irgend eine Erfindung des 18. Jahrhunderts einem einzelnen Individuum gehört. Bisher existirt kein solches Werk. Darwin hat das Interesse auf die Ge‐ schichte der natürlichen Technologie gelenkt, d. h. auf die Bildung der Pflanzen‐ und Thierorgane als Produktions--instrumente für das Leben der Pflanzen und Thiere. Verdient die Bildungsgeschichte der produktiven Organe des Gesellschaftsmenschen, der materiellen Basis jeder besonder-n Gesell--schaftsorganisation, nicht---- gleiche Aufmerksamkeit? Und wäre sie nicht leichter zu liefern, da, wie Vico sagt, die Menschengeschichte sich dadurch von der Na‐ turgeschichte unterscheidet, daß wir die eine gemacht und die andere nicht gemacht haben? Die Technologie enthüllt das aktive Verhalten des Menschen zur Natur, den unmittelbaren Pro‐ duktionsprozeß seines Lebens, damit auch seiner gesellschaftlichen Lebensverhältnisse und der ihnen entquellenden geistigen Vorstellungen. Selbst alle Religionsgeschichte, die von dieser materiellen Basis ab--strahirt, ist ‒ unkritisch. Es ist in der That viel leichter- durch Analyse den irdischen Kern- der religiösen Nebelbildungen zu finden, als umgekehrt aus den jedesmaligen wirklichen Lebens--verhältnissen ihre verhimmelten Formen zu entwickeln. Die letztere ist die einzig- materialistische und daher wissenschaftliche Methode.\n",
      "  matches: 1252\n"
     ]
    }
   ],
   "source": [
    "# Load the alignment data\n",
    "align_file = (\n",
    "    \"passim_output/align.json/part-00000-d544c988-e282-48a2-b625-2f36e241ff2b-c000.json\"\n",
    ")\n",
    "alignments = load_alignments(align_file)\n",
    "\n",
    "print(f\"\\nFirst record keys: {list(alignments[0].keys())}\")\n",
    "print(\"\\nSample record structure:\")\n",
    "for key, value in list(alignments[0].items()):\n",
    "    print(f\"  {key}: {value}\")"
   ]
  },
  {
   "cell_type": "code",
   "execution_count": null,
   "metadata": {},
   "outputs": [
    {
     "name": "stdout",
     "output_type": "stream",
     "text": [
      "Alignment display functions defined!\n"
     ]
    }
   ],
   "source": [
    "def display_alignment(record, max_length=500):\n",
    "    \"\"\"\n",
    "    Display a single alignment record by removing gaps to show the original text.\n",
    "\n",
    "    Args:\n",
    "        record: Alignment record dictionary\n",
    "        max_length: Maximum length of text to display\n",
    "    \"\"\"\n",
    "    # Reverse series1 and series2 to match the order: mega --> dnz\n",
    "    doc1_id = record.get(\"id2\", \"Unknown\")  # show id2 (mega) first\n",
    "    doc2_id = record.get(\"id\", \"Unknown\")  # Then id (dnz)\n",
    "    series1 = record.get(\"series2\", \"Unknown\")  # show series2 (mega) first\n",
    "    series2 = record.get(\"series\", \"Unknown\")  # Then series (dnz)\n",
    "\n",
    "    # Remove gaps to get original text (reverse s2 and s1)\n",
    "    original_1 = record.get(\"s2\", \"\").replace(\"-\", \"\")  # now s2 (mega) first\n",
    "    original_2 = record.get(\"s1\", \"\").replace(\"-\", \"\")  # then s1 (dnz)\n",
    "\n",
    "    # Truncate if too long\n",
    "    if len(original_1) > max_length:\n",
    "        original_1 = original_1[:max_length] + \"...\"\n",
    "    if len(original_2) > max_length:\n",
    "        original_2 = original_2[:max_length] + \"...\"\n",
    "\n",
    "    # Create display with explicit background color for visibility\n",
    "    html = f\"\"\"\n",
    "    <div style=\"background: #222; color: #fff; border: 1px solid #444; margin: 10px 0; padding: 15px; border-radius: 5px;\">\n",
    "        <h4 style=\"color: #e3e3e3;\">Alignment: {doc1_id} ({series1}) ↔ {doc2_id} ({series2})</h4>\n",
    "        \n",
    "        <div style=\"display: flex; gap: 20px;\">\n",
    "            <div style=\"flex: 1;\">\n",
    "                <h5 style=\"color: #b5b5b5;\">Document 1 ({doc1_id}):</h5>\n",
    "                <div style=\"font-family: monospace; background: #fff; color: #111; padding: 10px; border-radius: 3px;\">\n",
    "                    {original_1}\n",
    "                </div>\n",
    "            </div>\n",
    "            <div style=\"flex: 1;\">\n",
    "                <h5 style=\"color: #b5b5b5;\">Document 2 ({doc2_id}):</h5>\n",
    "                <div style=\"font-family: monospace; background: #fff; color: #111; padding: 10px; border-radius: 3px;\">\n",
    "                    {original_2}\n",
    "                </div>\n",
    "            </div>\n",
    "        </div>\n",
    "        \n",
    "    </div>\n",
    "    \"\"\"\n",
    "\n",
    "    display(HTML(html))\n",
    "\n",
    "\n",
    "print(\"Alignment display functions defined!\")"
   ]
  },
  {
   "cell_type": "code",
   "execution_count": 98,
   "metadata": {},
   "outputs": [
    {
     "name": "stdout",
     "output_type": "stream",
     "text": [
      "=== Displaying First 5 of 182 Alignment Records ===\n",
      "\n",
      "\n",
      "--- Alignment 1 ---\n"
     ]
    },
    {
     "data": {
      "text/html": [
       "\n",
       "    <div style=\"background: #222; color: #fff; border: 1px solid #444; margin: 10px 0; padding: 15px; border-radius: 5px;\">\n",
       "        <h4 style=\"color: #e3e3e3;\">Alignment: page_303 (mega) ↔ 1896-97a (dnz)</h4>\n",
       "\n",
       "        <div style=\"display: flex; gap: 20px;\">\n",
       "            <div style=\"flex: 1;\">\n",
       "                <h5 style=\"color: #b5b5b5;\">Document 1 (page_303):</h5>\n",
       "                <div style=\"font-family: monospace; background: #fff; color: #111; padding: 10px; border-radius: 3px;\">\n",
       "                     Eine kritische Geschichte der Technologie würde überhaupt nachweisen, wie wenig irgend eine Erfindung des 18. Jahrhunderts einem einzelnen Individuum gehört. Bisher existirt kein solches Werk. Darwin hat das Interesse auf die Ge‐ schichte der natürlichen Technologie gelenkt, d. h. auf die Bildung d...\n",
       "                </div>\n",
       "            </div>\n",
       "            <div style=\"flex: 1;\">\n",
       "                <h5 style=\"color: #b5b5b5;\">Document 2 (1896-97a):</h5>\n",
       "                <div style=\"font-family: monospace; background: #fff; color: #111; padding: 10px; border-radius: 3px;\">\n",
       "                     eine kritische Geschichte der Technologie noch nicht existirt, und bemerkt weiter: \"Darwin hat das Interesse auf die Geschichte der natürlichen Technologie gelenkt, d. h. auf die Bildung der Pflanzen und Thierorgane als Produktions¬ instrumente für das Leben der Pflanzen und Thiere. Verdient die Bi...\n",
       "                </div>\n",
       "            </div>\n",
       "        </div>\n",
       "\n",
       "    </div>\n",
       "    "
      ],
      "text/plain": [
       "<IPython.core.display.HTML object>"
      ]
     },
     "metadata": {},
     "output_type": "display_data"
    },
    {
     "name": "stdout",
     "output_type": "stream",
     "text": [
      "\n",
      "--- Alignment 2 ---\n"
     ]
    },
    {
     "data": {
      "text/html": [
       "\n",
       "    <div style=\"background: #222; color: #fff; border: 1px solid #444; margin: 10px 0; padding: 15px; border-radius: 5px;\">\n",
       "        <h4 style=\"color: #e3e3e3;\">Alignment: page_245 (mega) ↔ 1896-97a (dnz)</h4>\n",
       "\n",
       "        <div style=\"display: flex; gap: 20px;\">\n",
       "            <div style=\"flex: 1;\">\n",
       "                <h5 style=\"color: #b5b5b5;\">Document 1 (page_245):</h5>\n",
       "                <div style=\"font-family: monospace; background: #fff; color: #111; padding: 10px; border-radius: 3px;\">\n",
       "                    wenig variables Kapital anwendet, deßwegen keinen kleineren Gewinn oder Mehrwerth erbeutet als ein Bäcker, der relativ viel variables und wenig constantes Kapital in Bewegung setzt. Zur Lösung dieses scheinbaren Widerspruchs bedarf es noch vieler Mittelglieder, wie es vom\n",
       "                </div>\n",
       "            </div>\n",
       "            <div style=\"flex: 1;\">\n",
       "                <h5 style=\"color: #b5b5b5;\">Document 2 (1896-97a):</h5>\n",
       "                <div style=\"font-family: monospace; background: #fff; color: #111; padding: 10px; border-radius: 3px;\">\n",
       "                    ersten Bande des \"Kapital\", Kapitel X, das Gesetz, des Mehrwerths festgestellt hatte, fügte er sogleich hinzu, \"daß dies Gesetz offenbar, aller auf den Augenschein gegründeten Erfahrung widerspricht\". \"Zur Lösung dieses Widerspruchs\" fährt er fort, \"bedarf es noch vieler Mittelglieder.\" Er v\n",
       "                </div>\n",
       "            </div>\n",
       "        </div>\n",
       "\n",
       "    </div>\n",
       "    "
      ],
      "text/plain": [
       "<IPython.core.display.HTML object>"
      ]
     },
     "metadata": {},
     "output_type": "display_data"
    },
    {
     "name": "stdout",
     "output_type": "stream",
     "text": [
      "\n",
      "--- Alignment 3 ---\n"
     ]
    },
    {
     "data": {
      "text/html": [
       "\n",
       "    <div style=\"background: #222; color: #fff; border: 1px solid #444; margin: 10px 0; padding: 15px; border-radius: 5px;\">\n",
       "        <h4 style=\"color: #e3e3e3;\">Alignment: page_281 (mega) ↔ 1896-97a (dnz)</h4>\n",
       "\n",
       "        <div style=\"display: flex; gap: 20px;\">\n",
       "            <div style=\"flex: 1;\">\n",
       "                <h5 style=\"color: #b5b5b5;\">Document 1 (page_281):</h5>\n",
       "                <div style=\"font-family: monospace; background: #fff; color: #111; padding: 10px; border-radius: 3px;\">\n",
       "                    ichzeitige Beschäftigung Vieler, die Gleichartiges thun, aber jetzt als Ausdruck eines organischen Verhältnisses. Die manufakturmäßige Theilung der Arbeit vereinfacht und vermannigfacht also nicht nur die qualitativ unterschiednen Organe des gesellschaftlichen Gesammtarbeiters, sondern schafft auch ...\n",
       "                </div>\n",
       "            </div>\n",
       "            <div style=\"flex: 1;\">\n",
       "                <h5 style=\"color: #b5b5b5;\">Document 2 (1896-97a):</h5>\n",
       "                <div style=\"font-family: monospace; background: #fff; color: #111; padding: 10px; border-radius: 3px;\">\n",
       "                    sie ist nach ihm durchaus vom Uebel. In diesen Punkt ist Herr Rae sogar beschränkt zu nennen. Denn in all seinen Ausführungen gegen die Idee der Einschränkung der Produktion der Einzelnen, um die Arbeitsgelegenheit Aller zu vermehren, giebt er nur die¬ landläufigen Argumente manchesterlicher Freihän...\n",
       "                </div>\n",
       "            </div>\n",
       "        </div>\n",
       "\n",
       "    </div>\n",
       "    "
      ],
      "text/plain": [
       "<IPython.core.display.HTML object>"
      ]
     },
     "metadata": {},
     "output_type": "display_data"
    },
    {
     "name": "stdout",
     "output_type": "stream",
     "text": [
      "\n",
      "--- Alignment 4 ---\n"
     ]
    },
    {
     "data": {
      "text/html": [
       "\n",
       "    <div style=\"background: #222; color: #fff; border: 1px solid #444; margin: 10px 0; padding: 15px; border-radius: 5px;\">\n",
       "        <h4 style=\"color: #e3e3e3;\">Alignment: page_050 (mega) ↔ 1896-97a (dnz)</h4>\n",
       "\n",
       "        <div style=\"display: flex; gap: 20px;\">\n",
       "            <div style=\"flex: 1;\">\n",
       "                <h5 style=\"color: #b5b5b5;\">Document 1 (page_050):</h5>\n",
       "                <div style=\"font-family: monospace; background: #fff; color: #111; padding: 10px; border-radius: 3px;\">\n",
       "                     daß das Mittelalter nicht vom Katholicismus und die antike Welt nicht von der Politik leben konnten. Die Art und Weise, wie sie ihr Leben gewannen, erklärt umgekehrt, warum dort die Politik, hier der Katholicismus ihre Rollen spielten\n",
       "                </div>\n",
       "            </div>\n",
       "            <div style=\"flex: 1;\">\n",
       "                <h5 style=\"color: #b5b5b5;\">Document 2 (1896-97a):</h5>\n",
       "                <div style=\"font-family: monospace; background: #fff; color: #111; padding: 10px; border-radius: 3px;\">\n",
       "                     daß das Mittelalter nicht vom Katholizismus und die antike Welt nicht von der Politik leben konnten; es kannt auch ebenso gut wahr sein, daß ein Dichter nicht von seinen Dichtungen leben kann, sondern auch eines anerkennenden Publikums bedarf, durch das es ihm möglich wird, sich zu ernähren; aber d...\n",
       "                </div>\n",
       "            </div>\n",
       "        </div>\n",
       "\n",
       "    </div>\n",
       "    "
      ],
      "text/plain": [
       "<IPython.core.display.HTML object>"
      ]
     },
     "metadata": {},
     "output_type": "display_data"
    },
    {
     "name": "stdout",
     "output_type": "stream",
     "text": [
      "\n",
      "--- Alignment 5 ---\n"
     ]
    },
    {
     "data": {
      "text/html": [
       "\n",
       "    <div style=\"background: #222; color: #fff; border: 1px solid #444; margin: 10px 0; padding: 15px; border-radius: 5px;\">\n",
       "        <h4 style=\"color: #e3e3e3;\">Alignment: page_196 (mega) ↔ 1896-97a (dnz)</h4>\n",
       "\n",
       "        <div style=\"display: flex; gap: 20px;\">\n",
       "            <div style=\"flex: 1;\">\n",
       "                <h5 style=\"color: #b5b5b5;\">Document 1 (page_196):</h5>\n",
       "                <div style=\"font-family: monospace; background: #fff; color: #111; padding: 10px; border-radius: 3px;\">\n",
       "                    die Bäckergesellen in Irland auf ihreeigenen Kosten große Meetings zur Agitation gegen die Nachtarbeit und das Arbeiten an Sonntagen\n",
       "                </div>\n",
       "            </div>\n",
       "            <div style=\"flex: 1;\">\n",
       "                <h5 style=\"color: #b5b5b5;\">Document 2 (1896-97a):</h5>\n",
       "                <div style=\"font-family: monospace; background: #fff; color: #111; padding: 10px; border-radius: 3px;\">\n",
       "                    die Bäcker¬ gesellen in Folge der Arbeitsbedingungen meist unverheirathet bleiben. Als adjnvans kommt hinzu der Alkoholmißbrauch in Folge der schweren und langen körperlichen 406 Die Neue Zeit. Arbeit in überhitzter, eine beständige Schweißabsonderung bewirkenden Luft, derem hohe Temperatur ebenfall...\n",
       "                </div>\n",
       "            </div>\n",
       "        </div>\n",
       "\n",
       "    </div>\n",
       "    "
      ],
      "text/plain": [
       "<IPython.core.display.HTML object>"
      ]
     },
     "metadata": {},
     "output_type": "display_data"
    }
   ],
   "source": [
    "# Display only the first 5 pairs\n",
    "display_count = 5\n",
    "\n",
    "print(\n",
    "    f\"=== Displaying First {display_count} of {len(alignments)} Alignment Records ===\\n\"\n",
    ")\n",
    "for i, record in enumerate(alignments[:display_count]):\n",
    "    print(f\"\\n--- Alignment {i + 1} ---\")\n",
    "    display_alignment(record, max_length=300)"
   ]
  },
  {
   "cell_type": "code",
   "execution_count": 99,
   "metadata": {},
   "outputs": [
    {
     "name": "stdout",
     "output_type": "stream",
     "text": [
      "\n",
      "Exported all pairs and their metadata to: alignment_sentence_pairs.csv\n"
     ]
    }
   ],
   "source": [
    "# Export sentence pairs and metadata to CSV\n",
    "export_filename = \"alignment_sentence_pairs.csv\"\n",
    "csv_fields = [\n",
    "    \"alignment_index\",\n",
    "    \"id2\",\n",
    "    \"series2\",\n",
    "    \"begin2\",\n",
    "    \"end2\",\n",
    "    \"s2_no_gaps\",\n",
    "    \"id\",\n",
    "    \"series\",\n",
    "    \"begin\",\n",
    "    \"end\",\n",
    "    \"s1_no_gaps\",\n",
    "    \"matches\",\n",
    "]\n",
    "\n",
    "with open(export_filename, mode=\"w\", encoding=\"utf-8\", newline=\"\") as csvfile:\n",
    "    writer = csv.DictWriter(csvfile, fieldnames=csv_fields)\n",
    "    writer.writeheader()\n",
    "    for i, record in enumerate(alignments):\n",
    "        id2 = record.get(\"id2\", \"Unknown\")  # doc1 = id2 (mega)\n",
    "        id = record.get(\"id\", \"Unknown\")  # doc2 = id (dnz)\n",
    "        series2 = record.get(\"series2\", \"Unknown\")\n",
    "        series = record.get(\"series\", \"Unknown\")\n",
    "        matches = record.get(\"matches\", 0)\n",
    "        begin2, end2 = record.get(\"begin2\", 0), record.get(\"end2\", 0)\n",
    "        begin, end = record.get(\"begin\", 0), record.get(\"end\", 0)\n",
    "        s2_no_gaps = record.get(\"s2\", \"\").replace(\"-\", \"\")\n",
    "        s1_no_gaps = record.get(\"s1\", \"\").replace(\"-\", \"\")\n",
    "        writer.writerow(\n",
    "            {\n",
    "                \"alignment_index\": i + 1,\n",
    "                \"id2\": id2,\n",
    "                \"series2\": series2,\n",
    "                \"begin2\": begin2,\n",
    "                \"end2\": end2,\n",
    "                \"s2_no_gaps\": s2_no_gaps,\n",
    "                \"id\": id,\n",
    "                \"series\": series,\n",
    "                \"begin\": begin,\n",
    "                \"end\": end,\n",
    "                \"s1_no_gaps\": s1_no_gaps,\n",
    "                \"matches\": matches,\n",
    "            }\n",
    "        )\n",
    "\n",
    "print(f\"\\nExported all pairs and their metadata to: {export_filename}\")"
   ]
  }
 ],
 "metadata": {
  "kernelspec": {
   "display_name": ".venv",
   "language": "python",
   "name": "python3"
  },
  "language_info": {
   "codemirror_mode": {
    "name": "ipython",
    "version": 3
   },
   "file_extension": ".py",
   "mimetype": "text/x-python",
   "name": "python",
   "nbconvert_exporter": "python",
   "pygments_lexer": "ipython3",
   "version": "3.12.1"
  }
 },
 "nbformat": 4,
 "nbformat_minor": 2
}
